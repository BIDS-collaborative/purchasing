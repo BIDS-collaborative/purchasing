{
 "cells": [
  {
   "cell_type": "code",
   "execution_count": 21,
   "metadata": {
    "collapsed": true
   },
   "outputs": [],
   "source": [
    "import pandas as pd\n",
    "from pylab import *\n",
    "import matplotlib.pyplot as plt"
   ]
  },
  {
   "cell_type": "code",
   "execution_count": 22,
   "metadata": {
    "collapsed": false
   },
   "outputs": [],
   "source": [
    "data = pd.read_csv(\"UCB_dept_merge.csv\")"
   ]
  },
  {
   "cell_type": "code",
   "execution_count": 23,
   "metadata": {
    "collapsed": false
   },
   "outputs": [
    {
     "data": {
      "text/html": [
       "<div style=\"max-height:1000px;max-width:1500px;overflow:auto;\">\n",
       "<table border=\"1\" class=\"dataframe\">\n",
       "  <thead>\n",
       "    <tr style=\"text-align: right;\">\n",
       "      <th></th>\n",
       "      <th>po_id</th>\n",
       "      <th>po_num</th>\n",
       "      <th>creation_date</th>\n",
       "      <th>supplier_name</th>\n",
       "      <th>item_type</th>\n",
       "      <th>product_description</th>\n",
       "      <th>manufacturer</th>\n",
       "      <th>quantity</th>\n",
       "      <th>unit_price</th>\n",
       "      <th>department</th>\n",
       "      <th>buyer__first_name</th>\n",
       "      <th>buyer__last_name</th>\n",
       "      <th>po_closed_date</th>\n",
       "      <th>department_name</th>\n",
       "      <th>spend</th>\n",
       "    </tr>\n",
       "  </thead>\n",
       "  <tbody>\n",
       "    <tr>\n",
       "      <th>611105</th>\n",
       "      <td> 41913190</td>\n",
       "      <td> BB00436802</td>\n",
       "      <td> 2014-10-01 00:00:00</td>\n",
       "      <td>        OFFICE MAX</td>\n",
       "      <td>  SQ Hosted Product</td>\n",
       "      <td> ES Robbins - AnchorBar Task Series Value Chair...</td>\n",
       "      <td>         E S ROBBINS</td>\n",
       "      <td> 1</td>\n",
       "      <td>    82.32</td>\n",
       "      <td>NaN</td>\n",
       "      <td>    Nancy</td>\n",
       "      <td>   Whalen</td>\n",
       "      <td>                 NaN</td>\n",
       "      <td>  EPAPO Acad Personnel Gen Ops</td>\n",
       "      <td>   101.26</td>\n",
       "    </tr>\n",
       "    <tr>\n",
       "      <th>611106</th>\n",
       "      <td> 41911993</td>\n",
       "      <td> BB00436801</td>\n",
       "      <td> 2014-10-01 00:00:00</td>\n",
       "      <td>    MEJIA, CESAR A</td>\n",
       "      <td> NonCatalog Product</td>\n",
       "      <td> Year round classroom set-up service in accorda...</td>\n",
       "      <td> CM Land Maintenance</td>\n",
       "      <td> 1</td>\n",
       "      <td>  9600.00</td>\n",
       "      <td>NaN</td>\n",
       "      <td>  Ranisha</td>\n",
       "      <td>    Scott</td>\n",
       "      <td>                 NaN</td>\n",
       "      <td>             EXADM GBB GEN OPS</td>\n",
       "      <td>  4159.20</td>\n",
       "    </tr>\n",
       "    <tr>\n",
       "      <th>611107</th>\n",
       "      <td> 41910929</td>\n",
       "      <td> BB00436800</td>\n",
       "      <td> 2014-10-01 00:00:00</td>\n",
       "      <td>             CDW G</td>\n",
       "      <td>   PunchOut Product</td>\n",
       "      <td> Xerox WorkCentre 6015NI   449  100 Instant Sav...</td>\n",
       "      <td>      Xerox Printers</td>\n",
       "      <td> 1</td>\n",
       "      <td>   319.34</td>\n",
       "      <td>NaN</td>\n",
       "      <td>   Tamila</td>\n",
       "      <td> WILLIAMS</td>\n",
       "      <td>                 NaN</td>\n",
       "      <td>             BNGEQ WRC General</td>\n",
       "      <td>   348.08</td>\n",
       "    </tr>\n",
       "    <tr>\n",
       "      <th>611108</th>\n",
       "      <td> 41910160</td>\n",
       "      <td> BB00436798</td>\n",
       "      <td> 2014-10-01 00:00:00</td>\n",
       "      <td>    Shlain,Tiffany</td>\n",
       "      <td> NonCatalog Product</td>\n",
       "      <td> Contract Value Brief Project Desc. - Create an...</td>\n",
       "      <td>                 NaN</td>\n",
       "      <td> 1</td>\n",
       "      <td> 40000.00</td>\n",
       "      <td>NaN</td>\n",
       "      <td> Jean Ann</td>\n",
       "      <td>    SMITH</td>\n",
       "      <td>                 NaN</td>\n",
       "      <td>            AJPAF Im Off Gen O</td>\n",
       "      <td> 40000.00</td>\n",
       "    </tr>\n",
       "    <tr>\n",
       "      <th>611109</th>\n",
       "      <td> 41909125</td>\n",
       "      <td> BB00436795</td>\n",
       "      <td> 2014-10-01 00:00:00</td>\n",
       "      <td> DELL MARKETING LP</td>\n",
       "      <td>   PunchOut Product</td>\n",
       "      <td>                     Latitude E7440;Latitude E7440</td>\n",
       "      <td>                Dell</td>\n",
       "      <td> 2</td>\n",
       "      <td>  1945.23</td>\n",
       "      <td>NaN</td>\n",
       "      <td>     Riki</td>\n",
       "      <td>      Gay</td>\n",
       "      <td> 2015-02-12 00:00:00</td>\n",
       "      <td> UBOSS SAIT-Student Technology</td>\n",
       "      <td>  4246.60</td>\n",
       "    </tr>\n",
       "  </tbody>\n",
       "</table>\n",
       "</div>"
      ],
      "text/plain": [
       "           po_id      po_num        creation_date      supplier_name  \\\n",
       "611105  41913190  BB00436802  2014-10-01 00:00:00         OFFICE MAX   \n",
       "611106  41911993  BB00436801  2014-10-01 00:00:00     MEJIA, CESAR A   \n",
       "611107  41910929  BB00436800  2014-10-01 00:00:00              CDW G   \n",
       "611108  41910160  BB00436798  2014-10-01 00:00:00     Shlain,Tiffany   \n",
       "611109  41909125  BB00436795  2014-10-01 00:00:00  DELL MARKETING LP   \n",
       "\n",
       "                 item_type                                product_description  \\\n",
       "611105   SQ Hosted Product  ES Robbins - AnchorBar Task Series Value Chair...   \n",
       "611106  NonCatalog Product  Year round classroom set-up service in accorda...   \n",
       "611107    PunchOut Product  Xerox WorkCentre 6015NI   449  100 Instant Sav...   \n",
       "611108  NonCatalog Product  Contract Value Brief Project Desc. - Create an...   \n",
       "611109    PunchOut Product                      Latitude E7440;Latitude E7440   \n",
       "\n",
       "               manufacturer  quantity  unit_price  department  \\\n",
       "611105          E S ROBBINS         1       82.32         NaN   \n",
       "611106  CM Land Maintenance         1     9600.00         NaN   \n",
       "611107       Xerox Printers         1      319.34         NaN   \n",
       "611108                  NaN         1    40000.00         NaN   \n",
       "611109                 Dell         2     1945.23         NaN   \n",
       "\n",
       "       buyer__first_name buyer__last_name       po_closed_date  \\\n",
       "611105             Nancy           Whalen                  NaN   \n",
       "611106           Ranisha            Scott                  NaN   \n",
       "611107            Tamila         WILLIAMS                  NaN   \n",
       "611108          Jean Ann            SMITH                  NaN   \n",
       "611109              Riki              Gay  2015-02-12 00:00:00   \n",
       "\n",
       "                      department_name     spend  \n",
       "611105   EPAPO Acad Personnel Gen Ops    101.26  \n",
       "611106              EXADM GBB GEN OPS   4159.20  \n",
       "611107              BNGEQ WRC General    348.08  \n",
       "611108             AJPAF Im Off Gen O  40000.00  \n",
       "611109  UBOSS SAIT-Student Technology   4246.60  "
      ]
     },
     "execution_count": 23,
     "metadata": {},
     "output_type": "execute_result"
    }
   ],
   "source": [
    "data.tail()"
   ]
  },
  {
   "cell_type": "code",
   "execution_count": 24,
   "metadata": {
    "collapsed": false
   },
   "outputs": [],
   "source": [
    "#Changing data type to date\n",
    "data.creation_date = pd.to_datetime(data.creation_date)\n",
    "data.po_closed_date = pd.to_datetime(data.po_closed_date)"
   ]
  },
  {
   "cell_type": "code",
   "execution_count": 25,
   "metadata": {
    "collapsed": false
   },
   "outputs": [],
   "source": [
    "#Creating Time to completion column\n",
    "data[\"days_to_close\"] = data.po_closed_date - data.creation_date\n",
    "data['days_to_close'] = data['days_to_close'].astype('timedelta64[D]')"
   ]
  },
  {
   "cell_type": "code",
   "execution_count": 26,
   "metadata": {
    "collapsed": true
   },
   "outputs": [],
   "source": [
    "#try to create a column that convert data type from data to number\n",
    "#check online to see if can split \"46 days\" into integer and string\n",
    "#plot the name against cost per day and compared it across different department(check for size) '\n",
    "#limitation or other considerations: maybe longer procurement date means there are more checks?\n",
    "#this will be unfair if we compare department who makes small purchase w/o checks \n",
    "#therefore it will only be good if we compare same equipment/same cost \n",
    "# split into the collection phase: more people in the department means there there will be longer request?"
   ]
  },
  {
   "cell_type": "code",
   "execution_count": 27,
   "metadata": {
    "collapsed": false,
    "scrolled": true
   },
   "outputs": [
    {
     "data": {
      "text/html": [
       "<div style=\"max-height:1000px;max-width:1500px;overflow:auto;\">\n",
       "<table border=\"1\" class=\"dataframe\">\n",
       "  <thead>\n",
       "    <tr style=\"text-align: right;\">\n",
       "      <th></th>\n",
       "      <th>po_id</th>\n",
       "      <th>po_num</th>\n",
       "      <th>creation_date</th>\n",
       "      <th>supplier_name</th>\n",
       "      <th>item_type</th>\n",
       "      <th>product_description</th>\n",
       "      <th>manufacturer</th>\n",
       "      <th>quantity</th>\n",
       "      <th>unit_price</th>\n",
       "      <th>department</th>\n",
       "      <th>buyer__first_name</th>\n",
       "      <th>buyer__last_name</th>\n",
       "      <th>po_closed_date</th>\n",
       "      <th>department_name</th>\n",
       "      <th>spend</th>\n",
       "      <th>days_to_close</th>\n",
       "    </tr>\n",
       "  </thead>\n",
       "  <tbody>\n",
       "    <tr>\n",
       "      <th>0</th>\n",
       "      <td> 29847876</td>\n",
       "      <td> BB00195887</td>\n",
       "      <td>2013-05-31</td>\n",
       "      <td>         GIVE SOMETHING BACK</td>\n",
       "      <td>  SQ Hosted Product</td>\n",
       "      <td> PORTABLE COMBINATION LAPTOP LOCK, 6 FT. CARBON...</td>\n",
       "      <td>                   KENSINGTON</td>\n",
       "      <td> 30</td>\n",
       "      <td>  24.32</td>\n",
       "      <td>NaN</td>\n",
       "      <td>    Dustin</td>\n",
       "      <td>   Miller</td>\n",
       "      <td>2013-07-16</td>\n",
       "      <td> UIAPA UB Academic Year</td>\n",
       "      <td> 795.26</td>\n",
       "      <td>  46</td>\n",
       "    </tr>\n",
       "    <tr>\n",
       "      <th>1</th>\n",
       "      <td> 29847864</td>\n",
       "      <td> BB00195886</td>\n",
       "      <td>2013-05-31</td>\n",
       "      <td>                GRAINGER INC</td>\n",
       "      <td>   PunchOut Product</td>\n",
       "      <td> Wall Mount Fan, Oscillating, Number of Speeds ...</td>\n",
       "      <td>                     AIR KING</td>\n",
       "      <td>  1</td>\n",
       "      <td>  35.58</td>\n",
       "      <td>NaN</td>\n",
       "      <td>      Erin</td>\n",
       "      <td> Pinkston</td>\n",
       "      <td>2013-08-08</td>\n",
       "      <td> UKHDS Unit 1 Apt Admin</td>\n",
       "      <td>  38.78</td>\n",
       "      <td>  69</td>\n",
       "    </tr>\n",
       "    <tr>\n",
       "      <th>2</th>\n",
       "      <td> 29847796</td>\n",
       "      <td> BB00195884</td>\n",
       "      <td>2013-05-31</td>\n",
       "      <td>            BELLCO GLASS INC</td>\n",
       "      <td> NonCatalog Product</td>\n",
       "      <td> Septum Stopper, 20mm Blue Butyl Rubber QtyPerC...</td>\n",
       "      <td>                          NaN</td>\n",
       "      <td>  1</td>\n",
       "      <td>  77.41</td>\n",
       "      <td>NaN</td>\n",
       "      <td>   William</td>\n",
       "      <td>     Wolf</td>\n",
       "      <td>       NaT</td>\n",
       "      <td>     CCHEM RES Research</td>\n",
       "      <td> 104.67</td>\n",
       "      <td> NaN</td>\n",
       "    </tr>\n",
       "    <tr>\n",
       "      <th>3</th>\n",
       "      <td> 29847820</td>\n",
       "      <td> BB00195885</td>\n",
       "      <td>2013-05-31</td>\n",
       "      <td> CHEMGLASS LIFE SCIENCES LLC</td>\n",
       "      <td> NonCatalog Product</td>\n",
       "      <td> Column, Chromatography, 24/40 Outer Joint, 100...</td>\n",
       "      <td>                          NaN</td>\n",
       "      <td>  1</td>\n",
       "      <td> 108.00</td>\n",
       "      <td>NaN</td>\n",
       "      <td>   William</td>\n",
       "      <td>     Wolf</td>\n",
       "      <td>2014-10-30</td>\n",
       "      <td>     CCHEM RES Research</td>\n",
       "      <td>  71.77</td>\n",
       "      <td> 517</td>\n",
       "    </tr>\n",
       "    <tr>\n",
       "      <th>4</th>\n",
       "      <td> 29847565</td>\n",
       "      <td> BB00195881</td>\n",
       "      <td>2013-05-31</td>\n",
       "      <td>           FISHER SCIENTIFIC</td>\n",
       "      <td>  SQ Hosted Product</td>\n",
       "      <td> Bottles, Media/Lab; Wheaton;Graduated; With ru...</td>\n",
       "      <td> Wheaton Science Products Inc</td>\n",
       "      <td>  1</td>\n",
       "      <td> 135.38</td>\n",
       "      <td>NaN</td>\n",
       "      <td> Donald C.</td>\n",
       "      <td>      RIO</td>\n",
       "      <td>       NaT</td>\n",
       "      <td>      IMMCB BH Research</td>\n",
       "      <td> 317.31</td>\n",
       "      <td> NaN</td>\n",
       "    </tr>\n",
       "  </tbody>\n",
       "</table>\n",
       "</div>"
      ],
      "text/plain": [
       "      po_id      po_num creation_date                supplier_name  \\\n",
       "0  29847876  BB00195887    2013-05-31          GIVE SOMETHING BACK   \n",
       "1  29847864  BB00195886    2013-05-31                 GRAINGER INC   \n",
       "2  29847796  BB00195884    2013-05-31             BELLCO GLASS INC   \n",
       "3  29847820  BB00195885    2013-05-31  CHEMGLASS LIFE SCIENCES LLC   \n",
       "4  29847565  BB00195881    2013-05-31            FISHER SCIENTIFIC   \n",
       "\n",
       "            item_type                                product_description  \\\n",
       "0   SQ Hosted Product  PORTABLE COMBINATION LAPTOP LOCK, 6 FT. CARBON...   \n",
       "1    PunchOut Product  Wall Mount Fan, Oscillating, Number of Speeds ...   \n",
       "2  NonCatalog Product  Septum Stopper, 20mm Blue Butyl Rubber QtyPerC...   \n",
       "3  NonCatalog Product  Column, Chromatography, 24/40 Outer Joint, 100...   \n",
       "4   SQ Hosted Product  Bottles, Media/Lab; Wheaton;Graduated; With ru...   \n",
       "\n",
       "                   manufacturer  quantity  unit_price  department  \\\n",
       "0                    KENSINGTON        30       24.32         NaN   \n",
       "1                      AIR KING         1       35.58         NaN   \n",
       "2                           NaN         1       77.41         NaN   \n",
       "3                           NaN         1      108.00         NaN   \n",
       "4  Wheaton Science Products Inc         1      135.38         NaN   \n",
       "\n",
       "  buyer__first_name buyer__last_name po_closed_date         department_name  \\\n",
       "0            Dustin           Miller     2013-07-16  UIAPA UB Academic Year   \n",
       "1              Erin         Pinkston     2013-08-08  UKHDS Unit 1 Apt Admin   \n",
       "2           William             Wolf            NaT      CCHEM RES Research   \n",
       "3           William             Wolf     2014-10-30      CCHEM RES Research   \n",
       "4         Donald C.              RIO            NaT       IMMCB BH Research   \n",
       "\n",
       "    spend  days_to_close  \n",
       "0  795.26             46  \n",
       "1   38.78             69  \n",
       "2  104.67            NaN  \n",
       "3   71.77            517  \n",
       "4  317.31            NaN  "
      ]
     },
     "execution_count": 27,
     "metadata": {},
     "output_type": "execute_result"
    }
   ],
   "source": [
    "#Creating Time to completion column\n",
    "data.head()"
   ]
  },
  {
   "cell_type": "markdown",
   "metadata": {},
   "source": [
    "Convert the creation_date and po_closed_date to days since the epoch. Find datetime change to number of seconds or dats."
   ]
  },
  {
   "cell_type": "code",
   "execution_count": 28,
   "metadata": {
    "collapsed": false
   },
   "outputs": [],
   "source": [
    "data[\"cost_per_day\"] = data.spend / data.days_to_close"
   ]
  },
  {
   "cell_type": "code",
   "execution_count": 29,
   "metadata": {
    "collapsed": false
   },
   "outputs": [
    {
     "ename": "IndexError",
     "evalue": "cannot do a non-empty take from an empty axes.",
     "output_type": "error",
     "traceback": [
      "\u001b[0;31m---------------------------------------------------------------------------\u001b[0m",
      "\u001b[0;31mIndexError\u001b[0m                                Traceback (most recent call last)",
      "\u001b[0;32m<ipython-input-29-bd5634744c6e>\u001b[0m in \u001b[0;36m<module>\u001b[0;34m()\u001b[0m\n\u001b[0;32m----> 1\u001b[0;31m \u001b[0mdata\u001b[0m\u001b[0;34m.\u001b[0m\u001b[0mboxplot\u001b[0m\u001b[0;34m(\u001b[0m\u001b[0mcolumn\u001b[0m\u001b[0;34m=\u001b[0m\u001b[0;34m'cost_per_day'\u001b[0m\u001b[0;34m,\u001b[0m \u001b[0mby\u001b[0m\u001b[0;34m=\u001b[0m\u001b[0;34m'buyer__last_name'\u001b[0m\u001b[0;34m,\u001b[0m \u001b[0mgrid\u001b[0m\u001b[0;34m=\u001b[0m\u001b[0mFalse\u001b[0m\u001b[0;34m)\u001b[0m\u001b[0;34m\u001b[0m\u001b[0m\n\u001b[0m",
      "\u001b[0;32m/Users/tankaiwei/anaconda/lib/python2.7/site-packages/pandas/core/frame.pyc\u001b[0m in \u001b[0;36mboxplot\u001b[0;34m(self, column, by, ax, fontsize, rot, grid, figsize, layout, return_type, **kwds)\u001b[0m\n\u001b[1;32m   4973\u001b[0m                        \u001b[0mfontsize\u001b[0m\u001b[0;34m=\u001b[0m\u001b[0mfontsize\u001b[0m\u001b[0;34m,\u001b[0m \u001b[0mgrid\u001b[0m\u001b[0;34m=\u001b[0m\u001b[0mgrid\u001b[0m\u001b[0;34m,\u001b[0m \u001b[0mrot\u001b[0m\u001b[0;34m=\u001b[0m\u001b[0mrot\u001b[0m\u001b[0;34m,\u001b[0m\u001b[0;34m\u001b[0m\u001b[0m\n\u001b[1;32m   4974\u001b[0m                        \u001b[0mfigsize\u001b[0m\u001b[0;34m=\u001b[0m\u001b[0mfigsize\u001b[0m\u001b[0;34m,\u001b[0m \u001b[0mlayout\u001b[0m\u001b[0;34m=\u001b[0m\u001b[0mlayout\u001b[0m\u001b[0;34m,\u001b[0m \u001b[0mreturn_type\u001b[0m\u001b[0;34m=\u001b[0m\u001b[0mreturn_type\u001b[0m\u001b[0;34m,\u001b[0m\u001b[0;34m\u001b[0m\u001b[0m\n\u001b[0;32m-> 4975\u001b[0;31m                        **kwds)\n\u001b[0m\u001b[1;32m   4976\u001b[0m     \u001b[0mplt\u001b[0m\u001b[0;34m.\u001b[0m\u001b[0mdraw_if_interactive\u001b[0m\u001b[0;34m(\u001b[0m\u001b[0;34m)\u001b[0m\u001b[0;34m\u001b[0m\u001b[0m\n\u001b[1;32m   4977\u001b[0m     \u001b[0;32mreturn\u001b[0m \u001b[0max\u001b[0m\u001b[0;34m\u001b[0m\u001b[0m\n",
      "\u001b[0;32m/Users/tankaiwei/anaconda/lib/python2.7/site-packages/pandas/tools/plotting.pyc\u001b[0m in \u001b[0;36mboxplot\u001b[0;34m(data, column, by, ax, fontsize, rot, grid, figsize, layout, return_type, **kwds)\u001b[0m\n\u001b[1;32m   2611\u001b[0m                                          \u001b[0mby\u001b[0m\u001b[0;34m=\u001b[0m\u001b[0mby\u001b[0m\u001b[0;34m,\u001b[0m \u001b[0mgrid\u001b[0m\u001b[0;34m=\u001b[0m\u001b[0mgrid\u001b[0m\u001b[0;34m,\u001b[0m \u001b[0mfigsize\u001b[0m\u001b[0;34m=\u001b[0m\u001b[0mfigsize\u001b[0m\u001b[0;34m,\u001b[0m\u001b[0;34m\u001b[0m\u001b[0m\n\u001b[1;32m   2612\u001b[0m                                          \u001b[0max\u001b[0m\u001b[0;34m=\u001b[0m\u001b[0max\u001b[0m\u001b[0;34m,\u001b[0m \u001b[0mlayout\u001b[0m\u001b[0;34m=\u001b[0m\u001b[0mlayout\u001b[0m\u001b[0;34m,\u001b[0m\u001b[0;34m\u001b[0m\u001b[0m\n\u001b[0;32m-> 2613\u001b[0;31m                                          return_type=return_type)\n\u001b[0m\u001b[1;32m   2614\u001b[0m     \u001b[0;32melse\u001b[0m\u001b[0;34m:\u001b[0m\u001b[0;34m\u001b[0m\u001b[0m\n\u001b[1;32m   2615\u001b[0m         \u001b[0;32mif\u001b[0m \u001b[0mlayout\u001b[0m \u001b[0;32mis\u001b[0m \u001b[0;32mnot\u001b[0m \u001b[0mNone\u001b[0m\u001b[0;34m:\u001b[0m\u001b[0;34m\u001b[0m\u001b[0m\n",
      "\u001b[0;32m/Users/tankaiwei/anaconda/lib/python2.7/site-packages/pandas/tools/plotting.pyc\u001b[0m in \u001b[0;36m_grouped_plot_by_column\u001b[0;34m(plotf, data, columns, by, numeric_only, grid, figsize, ax, layout, return_type, **kwargs)\u001b[0m\n\u001b[1;32m   3007\u001b[0m         \u001b[0mgp_col\u001b[0m \u001b[0;34m=\u001b[0m \u001b[0mgrouped\u001b[0m\u001b[0;34m[\u001b[0m\u001b[0mcol\u001b[0m\u001b[0;34m]\u001b[0m\u001b[0;34m\u001b[0m\u001b[0m\n\u001b[1;32m   3008\u001b[0m         \u001b[0mkeys\u001b[0m\u001b[0;34m,\u001b[0m \u001b[0mvalues\u001b[0m \u001b[0;34m=\u001b[0m \u001b[0mzip\u001b[0m\u001b[0;34m(\u001b[0m\u001b[0;34m*\u001b[0m\u001b[0mgp_col\u001b[0m\u001b[0;34m)\u001b[0m\u001b[0;34m\u001b[0m\u001b[0m\n\u001b[0;32m-> 3009\u001b[0;31m         \u001b[0mre_plotf\u001b[0m \u001b[0;34m=\u001b[0m \u001b[0mplotf\u001b[0m\u001b[0;34m(\u001b[0m\u001b[0mkeys\u001b[0m\u001b[0;34m,\u001b[0m \u001b[0mvalues\u001b[0m\u001b[0;34m,\u001b[0m \u001b[0max\u001b[0m\u001b[0;34m,\u001b[0m \u001b[0;34m**\u001b[0m\u001b[0mkwargs\u001b[0m\u001b[0;34m)\u001b[0m\u001b[0;34m\u001b[0m\u001b[0m\n\u001b[0m\u001b[1;32m   3010\u001b[0m         \u001b[0max\u001b[0m\u001b[0;34m.\u001b[0m\u001b[0mset_title\u001b[0m\u001b[0;34m(\u001b[0m\u001b[0mcol\u001b[0m\u001b[0;34m)\u001b[0m\u001b[0;34m\u001b[0m\u001b[0m\n\u001b[1;32m   3011\u001b[0m         \u001b[0max\u001b[0m\u001b[0;34m.\u001b[0m\u001b[0mset_xlabel\u001b[0m\u001b[0;34m(\u001b[0m\u001b[0mcom\u001b[0m\u001b[0;34m.\u001b[0m\u001b[0mpprint_thing\u001b[0m\u001b[0;34m(\u001b[0m\u001b[0mby\u001b[0m\u001b[0;34m)\u001b[0m\u001b[0;34m)\u001b[0m\u001b[0;34m\u001b[0m\u001b[0m\n",
      "\u001b[0;32m/Users/tankaiwei/anaconda/lib/python2.7/site-packages/pandas/tools/plotting.pyc\u001b[0m in \u001b[0;36mplot_group\u001b[0;34m(keys, values, ax)\u001b[0m\n\u001b[1;32m   2583\u001b[0m         \u001b[0mkeys\u001b[0m \u001b[0;34m=\u001b[0m \u001b[0;34m[\u001b[0m\u001b[0mcom\u001b[0m\u001b[0;34m.\u001b[0m\u001b[0mpprint_thing\u001b[0m\u001b[0;34m(\u001b[0m\u001b[0mx\u001b[0m\u001b[0;34m)\u001b[0m \u001b[0;32mfor\u001b[0m \u001b[0mx\u001b[0m \u001b[0;32min\u001b[0m \u001b[0mkeys\u001b[0m\u001b[0;34m]\u001b[0m\u001b[0;34m\u001b[0m\u001b[0m\n\u001b[1;32m   2584\u001b[0m         \u001b[0mvalues\u001b[0m \u001b[0;34m=\u001b[0m \u001b[0;34m[\u001b[0m\u001b[0mremove_na\u001b[0m\u001b[0;34m(\u001b[0m\u001b[0mv\u001b[0m\u001b[0;34m)\u001b[0m \u001b[0;32mfor\u001b[0m \u001b[0mv\u001b[0m \u001b[0;32min\u001b[0m \u001b[0mvalues\u001b[0m\u001b[0;34m]\u001b[0m\u001b[0;34m\u001b[0m\u001b[0m\n\u001b[0;32m-> 2585\u001b[0;31m         \u001b[0mbp\u001b[0m \u001b[0;34m=\u001b[0m \u001b[0max\u001b[0m\u001b[0;34m.\u001b[0m\u001b[0mboxplot\u001b[0m\u001b[0;34m(\u001b[0m\u001b[0mvalues\u001b[0m\u001b[0;34m,\u001b[0m \u001b[0;34m**\u001b[0m\u001b[0mkwds\u001b[0m\u001b[0;34m)\u001b[0m\u001b[0;34m\u001b[0m\u001b[0m\n\u001b[0m\u001b[1;32m   2586\u001b[0m         \u001b[0;32mif\u001b[0m \u001b[0mkwds\u001b[0m\u001b[0;34m.\u001b[0m\u001b[0mget\u001b[0m\u001b[0;34m(\u001b[0m\u001b[0;34m'vert'\u001b[0m\u001b[0;34m,\u001b[0m \u001b[0;36m1\u001b[0m\u001b[0;34m)\u001b[0m\u001b[0;34m:\u001b[0m\u001b[0;34m\u001b[0m\u001b[0m\n\u001b[1;32m   2587\u001b[0m             \u001b[0max\u001b[0m\u001b[0;34m.\u001b[0m\u001b[0mset_xticklabels\u001b[0m\u001b[0;34m(\u001b[0m\u001b[0mkeys\u001b[0m\u001b[0;34m,\u001b[0m \u001b[0mrotation\u001b[0m\u001b[0;34m=\u001b[0m\u001b[0mrot\u001b[0m\u001b[0;34m,\u001b[0m \u001b[0mfontsize\u001b[0m\u001b[0;34m=\u001b[0m\u001b[0mfontsize\u001b[0m\u001b[0;34m)\u001b[0m\u001b[0;34m\u001b[0m\u001b[0m\n",
      "\u001b[0;32m/Users/tankaiwei/anaconda/lib/python2.7/site-packages/matplotlib/axes/_axes.pyc\u001b[0m in \u001b[0;36mboxplot\u001b[0;34m(self, x, notch, sym, vert, whis, positions, widths, patch_artist, bootstrap, usermedians, conf_intervals, meanline, showmeans, showcaps, showbox, showfliers, boxprops, labels, flierprops, medianprops, meanprops, capprops, whiskerprops, manage_xticks)\u001b[0m\n\u001b[1;32m   3043\u001b[0m         \"\"\"\n\u001b[1;32m   3044\u001b[0m         bxpstats = cbook.boxplot_stats(x, whis=whis, bootstrap=bootstrap,\n\u001b[0;32m-> 3045\u001b[0;31m                                        labels=labels)\n\u001b[0m\u001b[1;32m   3046\u001b[0m         \u001b[0;32mif\u001b[0m \u001b[0mflierprops\u001b[0m \u001b[0;32mis\u001b[0m \u001b[0mNone\u001b[0m\u001b[0;34m:\u001b[0m\u001b[0;34m\u001b[0m\u001b[0m\n\u001b[1;32m   3047\u001b[0m             \u001b[0mflierprops\u001b[0m \u001b[0;34m=\u001b[0m \u001b[0mdict\u001b[0m\u001b[0;34m(\u001b[0m\u001b[0msym\u001b[0m\u001b[0;34m=\u001b[0m\u001b[0msym\u001b[0m\u001b[0;34m)\u001b[0m\u001b[0;34m\u001b[0m\u001b[0m\n",
      "\u001b[0;32m/Users/tankaiwei/anaconda/lib/python2.7/site-packages/matplotlib/cbook.pyc\u001b[0m in \u001b[0;36mboxplot_stats\u001b[0;34m(X, whis, bootstrap, labels)\u001b[0m\n\u001b[1;32m   1963\u001b[0m \u001b[0;34m\u001b[0m\u001b[0m\n\u001b[1;32m   1964\u001b[0m         \u001b[0;31m# medians and quartiles\u001b[0m\u001b[0;34m\u001b[0m\u001b[0;34m\u001b[0m\u001b[0m\n\u001b[0;32m-> 1965\u001b[0;31m         \u001b[0mq1\u001b[0m\u001b[0;34m,\u001b[0m \u001b[0mmed\u001b[0m\u001b[0;34m,\u001b[0m \u001b[0mq3\u001b[0m \u001b[0;34m=\u001b[0m \u001b[0mnp\u001b[0m\u001b[0;34m.\u001b[0m\u001b[0mpercentile\u001b[0m\u001b[0;34m(\u001b[0m\u001b[0mx\u001b[0m\u001b[0;34m,\u001b[0m \u001b[0;34m[\u001b[0m\u001b[0;36m25\u001b[0m\u001b[0;34m,\u001b[0m \u001b[0;36m50\u001b[0m\u001b[0;34m,\u001b[0m \u001b[0;36m75\u001b[0m\u001b[0;34m]\u001b[0m\u001b[0;34m)\u001b[0m\u001b[0;34m\u001b[0m\u001b[0m\n\u001b[0m\u001b[1;32m   1966\u001b[0m \u001b[0;34m\u001b[0m\u001b[0m\n\u001b[1;32m   1967\u001b[0m         \u001b[0;31m# interquartile range\u001b[0m\u001b[0;34m\u001b[0m\u001b[0;34m\u001b[0m\u001b[0m\n",
      "\u001b[0;32m/Users/tankaiwei/anaconda/lib/python2.7/site-packages/numpy/lib/function_base.pyc\u001b[0m in \u001b[0;36mpercentile\u001b[0;34m(a, q, axis, out, overwrite_input, interpolation, keepdims)\u001b[0m\n\u001b[1;32m   3052\u001b[0m     r, k = _ureduce(a, func=_percentile, q=q, axis=axis, out=out,\n\u001b[1;32m   3053\u001b[0m                     \u001b[0moverwrite_input\u001b[0m\u001b[0;34m=\u001b[0m\u001b[0moverwrite_input\u001b[0m\u001b[0;34m,\u001b[0m\u001b[0;34m\u001b[0m\u001b[0m\n\u001b[0;32m-> 3054\u001b[0;31m                     interpolation=interpolation)\n\u001b[0m\u001b[1;32m   3055\u001b[0m     \u001b[0;32mif\u001b[0m \u001b[0mkeepdims\u001b[0m\u001b[0;34m:\u001b[0m\u001b[0;34m\u001b[0m\u001b[0m\n\u001b[1;32m   3056\u001b[0m         \u001b[0;32mif\u001b[0m \u001b[0mq\u001b[0m\u001b[0;34m.\u001b[0m\u001b[0mndim\u001b[0m \u001b[0;34m==\u001b[0m \u001b[0;36m0\u001b[0m\u001b[0;34m:\u001b[0m\u001b[0;34m\u001b[0m\u001b[0m\n",
      "\u001b[0;32m/Users/tankaiwei/anaconda/lib/python2.7/site-packages/numpy/lib/function_base.pyc\u001b[0m in \u001b[0;36m_ureduce\u001b[0;34m(a, func, **kwargs)\u001b[0m\n\u001b[1;32m   2801\u001b[0m         \u001b[0mkeepdim\u001b[0m \u001b[0;34m=\u001b[0m \u001b[0;34m[\u001b[0m\u001b[0;36m1\u001b[0m\u001b[0;34m]\u001b[0m \u001b[0;34m*\u001b[0m \u001b[0ma\u001b[0m\u001b[0;34m.\u001b[0m\u001b[0mndim\u001b[0m\u001b[0;34m\u001b[0m\u001b[0m\n\u001b[1;32m   2802\u001b[0m \u001b[0;34m\u001b[0m\u001b[0m\n\u001b[0;32m-> 2803\u001b[0;31m     \u001b[0mr\u001b[0m \u001b[0;34m=\u001b[0m \u001b[0mfunc\u001b[0m\u001b[0;34m(\u001b[0m\u001b[0ma\u001b[0m\u001b[0;34m,\u001b[0m \u001b[0;34m**\u001b[0m\u001b[0mkwargs\u001b[0m\u001b[0;34m)\u001b[0m\u001b[0;34m\u001b[0m\u001b[0m\n\u001b[0m\u001b[1;32m   2804\u001b[0m     \u001b[0;32mreturn\u001b[0m \u001b[0mr\u001b[0m\u001b[0;34m,\u001b[0m \u001b[0mkeepdim\u001b[0m\u001b[0;34m\u001b[0m\u001b[0m\n\u001b[1;32m   2805\u001b[0m \u001b[0;34m\u001b[0m\u001b[0m\n",
      "\u001b[0;32m/Users/tankaiwei/anaconda/lib/python2.7/site-packages/numpy/lib/function_base.pyc\u001b[0m in \u001b[0;36m_percentile\u001b[0;34m(a, q, axis, out, overwrite_input, interpolation, keepdims)\u001b[0m\n\u001b[1;32m   3141\u001b[0m \u001b[0;34m\u001b[0m\u001b[0m\n\u001b[1;32m   3142\u001b[0m         \u001b[0map\u001b[0m\u001b[0;34m.\u001b[0m\u001b[0mpartition\u001b[0m\u001b[0;34m(\u001b[0m\u001b[0mconcatenate\u001b[0m\u001b[0;34m(\u001b[0m\u001b[0;34m(\u001b[0m\u001b[0mindices_below\u001b[0m\u001b[0;34m,\u001b[0m \u001b[0mindices_above\u001b[0m\u001b[0;34m)\u001b[0m\u001b[0;34m)\u001b[0m\u001b[0;34m,\u001b[0m \u001b[0maxis\u001b[0m\u001b[0;34m=\u001b[0m\u001b[0maxis\u001b[0m\u001b[0;34m)\u001b[0m\u001b[0;34m\u001b[0m\u001b[0m\n\u001b[0;32m-> 3143\u001b[0;31m         \u001b[0mx1\u001b[0m \u001b[0;34m=\u001b[0m \u001b[0mtake\u001b[0m\u001b[0;34m(\u001b[0m\u001b[0map\u001b[0m\u001b[0;34m,\u001b[0m \u001b[0mindices_below\u001b[0m\u001b[0;34m,\u001b[0m \u001b[0maxis\u001b[0m\u001b[0;34m=\u001b[0m\u001b[0maxis\u001b[0m\u001b[0;34m)\u001b[0m \u001b[0;34m*\u001b[0m \u001b[0mweights_below\u001b[0m\u001b[0;34m\u001b[0m\u001b[0m\n\u001b[0m\u001b[1;32m   3144\u001b[0m         \u001b[0mx2\u001b[0m \u001b[0;34m=\u001b[0m \u001b[0mtake\u001b[0m\u001b[0;34m(\u001b[0m\u001b[0map\u001b[0m\u001b[0;34m,\u001b[0m \u001b[0mindices_above\u001b[0m\u001b[0;34m,\u001b[0m \u001b[0maxis\u001b[0m\u001b[0;34m=\u001b[0m\u001b[0maxis\u001b[0m\u001b[0;34m)\u001b[0m \u001b[0;34m*\u001b[0m \u001b[0mweights_above\u001b[0m\u001b[0;34m\u001b[0m\u001b[0m\n\u001b[1;32m   3145\u001b[0m \u001b[0;34m\u001b[0m\u001b[0m\n",
      "\u001b[0;32m/Users/tankaiwei/anaconda/lib/python2.7/site-packages/numpy/core/fromnumeric.pyc\u001b[0m in \u001b[0;36mtake\u001b[0;34m(a, indices, axis, out, mode)\u001b[0m\n\u001b[1;32m    119\u001b[0m     \u001b[0;32mexcept\u001b[0m \u001b[0mAttributeError\u001b[0m\u001b[0;34m:\u001b[0m\u001b[0;34m\u001b[0m\u001b[0m\n\u001b[1;32m    120\u001b[0m         \u001b[0;32mreturn\u001b[0m \u001b[0m_wrapit\u001b[0m\u001b[0;34m(\u001b[0m\u001b[0ma\u001b[0m\u001b[0;34m,\u001b[0m \u001b[0;34m'take'\u001b[0m\u001b[0;34m,\u001b[0m \u001b[0mindices\u001b[0m\u001b[0;34m,\u001b[0m \u001b[0maxis\u001b[0m\u001b[0;34m,\u001b[0m \u001b[0mout\u001b[0m\u001b[0;34m,\u001b[0m \u001b[0mmode\u001b[0m\u001b[0;34m)\u001b[0m\u001b[0;34m\u001b[0m\u001b[0m\n\u001b[0;32m--> 121\u001b[0;31m     \u001b[0;32mreturn\u001b[0m \u001b[0mtake\u001b[0m\u001b[0;34m(\u001b[0m\u001b[0mindices\u001b[0m\u001b[0;34m,\u001b[0m \u001b[0maxis\u001b[0m\u001b[0;34m,\u001b[0m \u001b[0mout\u001b[0m\u001b[0;34m,\u001b[0m \u001b[0mmode\u001b[0m\u001b[0;34m)\u001b[0m\u001b[0;34m\u001b[0m\u001b[0m\n\u001b[0m\u001b[1;32m    122\u001b[0m \u001b[0;34m\u001b[0m\u001b[0m\n\u001b[1;32m    123\u001b[0m \u001b[0;34m\u001b[0m\u001b[0m\n",
      "\u001b[0;31mIndexError\u001b[0m: cannot do a non-empty take from an empty axes."
     ]
    }
   ],
   "source": [
    "data.boxplot(column='cost_per_day', by='buyer__last_name', grid=False)"
   ]
  },
  {
   "cell_type": "code",
   "execution_count": null,
   "metadata": {
    "collapsed": false,
    "scrolled": true
   },
   "outputs": [],
   "source": [
    "data.number = data.toc.astype('string')"
   ]
  },
  {
   "cell_type": "code",
   "execution_count": null,
   "metadata": {
    "collapsed": true
   },
   "outputs": [],
   "source": []
  }
 ],
 "metadata": {
  "kernelspec": {
   "display_name": "Python 2",
   "language": "python",
   "name": "python2"
  },
  "language_info": {
   "codemirror_mode": {
    "name": "ipython",
    "version": 2
   },
   "file_extension": ".py",
   "mimetype": "text/x-python",
   "name": "python",
   "nbconvert_exporter": "python",
   "pygments_lexer": "ipython2",
   "version": "2.7.9"
  }
 },
 "nbformat": 4,
 "nbformat_minor": 0
}
