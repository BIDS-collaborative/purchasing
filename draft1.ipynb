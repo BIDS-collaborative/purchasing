{
 "cells": [
  {
   "cell_type": "code",
   "execution_count": 26,
   "metadata": {
    "collapsed": true
   },
   "outputs": [],
   "source": [
    "import pandas as pd\n",
    "import matplotlib.pyplot as plt"
   ]
  },
  {
   "cell_type": "code",
   "execution_count": 7,
   "metadata": {
    "collapsed": false
   },
   "outputs": [],
   "source": [
    "data = pd.read_csv(\"UCB_dept_merge.csv\")"
   ]
  },
  {
   "cell_type": "code",
   "execution_count": 9,
   "metadata": {
    "collapsed": false
   },
   "outputs": [
    {
     "data": {
      "text/html": [
       "<div style=\"max-height:1000px;max-width:1500px;overflow:auto;\">\n",
       "<table border=\"1\" class=\"dataframe\">\n",
       "  <thead>\n",
       "    <tr style=\"text-align: right;\">\n",
       "      <th></th>\n",
       "      <th>po_id</th>\n",
       "      <th>po_num</th>\n",
       "      <th>creation_date</th>\n",
       "      <th>supplier_name</th>\n",
       "      <th>item_type</th>\n",
       "      <th>product_description</th>\n",
       "      <th>manufacturer</th>\n",
       "      <th>quantity</th>\n",
       "      <th>unit_price</th>\n",
       "      <th>department</th>\n",
       "      <th>buyer__first_name</th>\n",
       "      <th>buyer__last_name</th>\n",
       "      <th>po_closed_date</th>\n",
       "      <th>department_name</th>\n",
       "      <th>spend</th>\n",
       "    </tr>\n",
       "  </thead>\n",
       "  <tbody>\n",
       "    <tr>\n",
       "      <th>0</th>\n",
       "      <td> 29847876</td>\n",
       "      <td> BB00195887</td>\n",
       "      <td> 2013-05-31 00:00:00</td>\n",
       "      <td>         GIVE SOMETHING BACK</td>\n",
       "      <td>  SQ Hosted Product</td>\n",
       "      <td> PORTABLE COMBINATION LAPTOP LOCK, 6 FT. CARBON...</td>\n",
       "      <td>                   KENSINGTON</td>\n",
       "      <td> 30</td>\n",
       "      <td>  24.32</td>\n",
       "      <td>NaN</td>\n",
       "      <td>    Dustin</td>\n",
       "      <td>   Miller</td>\n",
       "      <td> 2013-07-16 00:00:00</td>\n",
       "      <td> UIAPA UB Academic Year</td>\n",
       "      <td> 795.26</td>\n",
       "    </tr>\n",
       "    <tr>\n",
       "      <th>1</th>\n",
       "      <td> 29847864</td>\n",
       "      <td> BB00195886</td>\n",
       "      <td> 2013-05-31 00:00:00</td>\n",
       "      <td>                GRAINGER INC</td>\n",
       "      <td>   PunchOut Product</td>\n",
       "      <td> Wall Mount Fan, Oscillating, Number of Speeds ...</td>\n",
       "      <td>                     AIR KING</td>\n",
       "      <td>  1</td>\n",
       "      <td>  35.58</td>\n",
       "      <td>NaN</td>\n",
       "      <td>      Erin</td>\n",
       "      <td> Pinkston</td>\n",
       "      <td> 2013-08-08 00:00:00</td>\n",
       "      <td> UKHDS Unit 1 Apt Admin</td>\n",
       "      <td>  38.78</td>\n",
       "    </tr>\n",
       "    <tr>\n",
       "      <th>2</th>\n",
       "      <td> 29847796</td>\n",
       "      <td> BB00195884</td>\n",
       "      <td> 2013-05-31 00:00:00</td>\n",
       "      <td>            BELLCO GLASS INC</td>\n",
       "      <td> NonCatalog Product</td>\n",
       "      <td> Septum Stopper, 20mm Blue Butyl Rubber QtyPerC...</td>\n",
       "      <td>                          NaN</td>\n",
       "      <td>  1</td>\n",
       "      <td>  77.41</td>\n",
       "      <td>NaN</td>\n",
       "      <td>   William</td>\n",
       "      <td>     Wolf</td>\n",
       "      <td>                 NaN</td>\n",
       "      <td>     CCHEM RES Research</td>\n",
       "      <td> 104.67</td>\n",
       "    </tr>\n",
       "    <tr>\n",
       "      <th>3</th>\n",
       "      <td> 29847820</td>\n",
       "      <td> BB00195885</td>\n",
       "      <td> 2013-05-31 00:00:00</td>\n",
       "      <td> CHEMGLASS LIFE SCIENCES LLC</td>\n",
       "      <td> NonCatalog Product</td>\n",
       "      <td> Column, Chromatography, 24/40 Outer Joint, 100...</td>\n",
       "      <td>                          NaN</td>\n",
       "      <td>  1</td>\n",
       "      <td> 108.00</td>\n",
       "      <td>NaN</td>\n",
       "      <td>   William</td>\n",
       "      <td>     Wolf</td>\n",
       "      <td> 2014-10-30 00:00:00</td>\n",
       "      <td>     CCHEM RES Research</td>\n",
       "      <td>  71.77</td>\n",
       "    </tr>\n",
       "    <tr>\n",
       "      <th>4</th>\n",
       "      <td> 29847565</td>\n",
       "      <td> BB00195881</td>\n",
       "      <td> 2013-05-31 00:00:00</td>\n",
       "      <td>           FISHER SCIENTIFIC</td>\n",
       "      <td>  SQ Hosted Product</td>\n",
       "      <td> Bottles, Media/Lab; Wheaton;Graduated; With ru...</td>\n",
       "      <td> Wheaton Science Products Inc</td>\n",
       "      <td>  1</td>\n",
       "      <td> 135.38</td>\n",
       "      <td>NaN</td>\n",
       "      <td> Donald C.</td>\n",
       "      <td>      RIO</td>\n",
       "      <td>                 NaN</td>\n",
       "      <td>      IMMCB BH Research</td>\n",
       "      <td> 317.31</td>\n",
       "    </tr>\n",
       "  </tbody>\n",
       "</table>\n",
       "</div>"
      ],
      "text/plain": [
       "      po_id      po_num        creation_date                supplier_name  \\\n",
       "0  29847876  BB00195887  2013-05-31 00:00:00          GIVE SOMETHING BACK   \n",
       "1  29847864  BB00195886  2013-05-31 00:00:00                 GRAINGER INC   \n",
       "2  29847796  BB00195884  2013-05-31 00:00:00             BELLCO GLASS INC   \n",
       "3  29847820  BB00195885  2013-05-31 00:00:00  CHEMGLASS LIFE SCIENCES LLC   \n",
       "4  29847565  BB00195881  2013-05-31 00:00:00            FISHER SCIENTIFIC   \n",
       "\n",
       "            item_type                                product_description  \\\n",
       "0   SQ Hosted Product  PORTABLE COMBINATION LAPTOP LOCK, 6 FT. CARBON...   \n",
       "1    PunchOut Product  Wall Mount Fan, Oscillating, Number of Speeds ...   \n",
       "2  NonCatalog Product  Septum Stopper, 20mm Blue Butyl Rubber QtyPerC...   \n",
       "3  NonCatalog Product  Column, Chromatography, 24/40 Outer Joint, 100...   \n",
       "4   SQ Hosted Product  Bottles, Media/Lab; Wheaton;Graduated; With ru...   \n",
       "\n",
       "                   manufacturer  quantity  unit_price  department  \\\n",
       "0                    KENSINGTON        30       24.32         NaN   \n",
       "1                      AIR KING         1       35.58         NaN   \n",
       "2                           NaN         1       77.41         NaN   \n",
       "3                           NaN         1      108.00         NaN   \n",
       "4  Wheaton Science Products Inc         1      135.38         NaN   \n",
       "\n",
       "  buyer__first_name buyer__last_name       po_closed_date  \\\n",
       "0            Dustin           Miller  2013-07-16 00:00:00   \n",
       "1              Erin         Pinkston  2013-08-08 00:00:00   \n",
       "2           William             Wolf                  NaN   \n",
       "3           William             Wolf  2014-10-30 00:00:00   \n",
       "4         Donald C.              RIO                  NaN   \n",
       "\n",
       "          department_name   spend  \n",
       "0  UIAPA UB Academic Year  795.26  \n",
       "1  UKHDS Unit 1 Apt Admin   38.78  \n",
       "2      CCHEM RES Research  104.67  \n",
       "3      CCHEM RES Research   71.77  \n",
       "4       IMMCB BH Research  317.31  "
      ]
     },
     "execution_count": 9,
     "metadata": {},
     "output_type": "execute_result"
    }
   ],
   "source": [
    "data.head()"
   ]
  },
  {
   "cell_type": "code",
   "execution_count": 22,
   "metadata": {
    "collapsed": false
   },
   "outputs": [],
   "source": [
    "#Changing data type to date\n",
    "data.creation_date = pd.to_datetime(data.creation_date)\n",
    "data.po_closed_date = pd.to_datetime(data.po_closed_date)"
   ]
  },
  {
   "cell_type": "code",
   "execution_count": 30,
   "metadata": {
    "collapsed": false
   },
   "outputs": [],
   "source": [
    "#Creating Time to completion column\n",
    "data[\"toc\"] = data.po_closed_date - data.creation_date"
   ]
  },
  {
   "cell_type": "code",
   "execution_count": 46,
   "metadata": {
    "collapsed": false
   },
   "outputs": [
    {
     "ename": "AttributeError",
     "evalue": "'module' object has no attribute 'to_int'",
     "output_type": "error",
     "traceback": [
      "\u001b[0;31m---------------------------------------------------------------------------\u001b[0m",
      "\u001b[0;31mAttributeError\u001b[0m                            Traceback (most recent call last)",
      "\u001b[0;32m<ipython-input-46-505c92a4bb77>\u001b[0m in \u001b[0;36m<module>\u001b[0;34m()\u001b[0m\n\u001b[1;32m      1\u001b[0m \u001b[0;31m#Creating Time to completion column\u001b[0m\u001b[0;34m\u001b[0m\u001b[0;34m\u001b[0m\u001b[0m\n\u001b[0;32m----> 2\u001b[0;31m \u001b[0mdata\u001b[0m\u001b[0;34m.\u001b[0m\u001b[0mtoc\u001b[0m \u001b[0;34m=\u001b[0m \u001b[0mpd\u001b[0m\u001b[0;34m.\u001b[0m\u001b[0mto_int\u001b[0m\u001b[0;34m(\u001b[0m\u001b[0mdata\u001b[0m\u001b[0;34m.\u001b[0m\u001b[0mtoc\u001b[0m\u001b[0;34m)\u001b[0m\u001b[0;34m\u001b[0m\u001b[0m\n\u001b[0m\u001b[1;32m      3\u001b[0m \u001b[0mdata\u001b[0m\u001b[0;34m[\u001b[0m\u001b[0;34m\"tocpercost\"\u001b[0m\u001b[0;34m]\u001b[0m \u001b[0;34m=\u001b[0m \u001b[0mdata\u001b[0m\u001b[0;34m.\u001b[0m\u001b[0mtoc\u001b[0m \u001b[0;34m/\u001b[0m \u001b[0mdata\u001b[0m\u001b[0;34m.\u001b[0m\u001b[0mspend\u001b[0m\u001b[0;34m\u001b[0m\u001b[0m\n",
      "\u001b[0;31mAttributeError\u001b[0m: 'module' object has no attribute 'to_int'"
     ]
    }
   ],
   "source": [
    "#Creating Time to completion column\n",
    "data[\"tocpercost\"] = data.toc / data.spend"
   ]
  },
  {
   "cell_type": "code",
   "execution_count": 39,
   "metadata": {
    "collapsed": false
   },
   "outputs": [
    {
     "data": {
      "text/plain": [
       "<matplotlib.axes._subplots.AxesSubplot at 0x110447f10>"
      ]
     },
     "execution_count": 39,
     "metadata": {},
     "output_type": "execute_result"
    }
   ],
   "source": [
    "data.plot()"
   ]
  },
  {
   "cell_type": "code",
   "execution_count": 40,
   "metadata": {
    "collapsed": false
   },
   "outputs": [
    {
     "data": {
      "text/plain": [
       "0     46 days\n",
       "1     69 days\n",
       "3    517 days\n",
       "7     73 days\n",
       "8     69 days\n",
       "11    75 days\n",
       "12    69 days\n",
       "13    69 days\n",
       "14    69 days\n",
       "15   154 days\n",
       "16    69 days\n",
       "17    69 days\n",
       "18    69 days\n",
       "19    69 days\n",
       "20    90 days\n",
       "...\n",
       "611088   118 days\n",
       "611090   124 days\n",
       "611091   118 days\n",
       "611092   118 days\n",
       "611093   118 days\n",
       "611094   118 days\n",
       "611095   118 days\n",
       "611096   124 days\n",
       "611097   118 days\n",
       "611098   118 days\n",
       "611099   118 days\n",
       "611100   124 days\n",
       "611101   124 days\n",
       "611102   124 days\n",
       "611109   134 days\n",
       "Name: toc, Length: 521092, dtype: timedelta64[ns]"
      ]
     },
     "execution_count": 40,
     "metadata": {},
     "output_type": "execute_result"
    }
   ],
   "source": [
    "data.toc.dropna()"
   ]
  },
  {
   "cell_type": "code",
   "execution_count": 41,
   "metadata": {
    "collapsed": false
   },
   "outputs": [
    {
     "data": {
      "text/html": [
       "<div style=\"max-height:1000px;max-width:1500px;overflow:auto;\">\n",
       "<table border=\"1\" class=\"dataframe\">\n",
       "  <thead>\n",
       "    <tr style=\"text-align: right;\">\n",
       "      <th></th>\n",
       "      <th>po_id</th>\n",
       "      <th>po_num</th>\n",
       "      <th>creation_date</th>\n",
       "      <th>supplier_name</th>\n",
       "      <th>item_type</th>\n",
       "      <th>product_description</th>\n",
       "      <th>manufacturer</th>\n",
       "      <th>quantity</th>\n",
       "      <th>unit_price</th>\n",
       "      <th>department</th>\n",
       "      <th>buyer__first_name</th>\n",
       "      <th>buyer__last_name</th>\n",
       "      <th>po_closed_date</th>\n",
       "      <th>department_name</th>\n",
       "      <th>spend</th>\n",
       "      <th>toc</th>\n",
       "    </tr>\n",
       "  </thead>\n",
       "  <tbody>\n",
       "    <tr>\n",
       "      <th>0</th>\n",
       "      <td> 29847876</td>\n",
       "      <td> BB00195887</td>\n",
       "      <td>2013-05-31</td>\n",
       "      <td>         GIVE SOMETHING BACK</td>\n",
       "      <td>  SQ Hosted Product</td>\n",
       "      <td> PORTABLE COMBINATION LAPTOP LOCK, 6 FT. CARBON...</td>\n",
       "      <td>                   KENSINGTON</td>\n",
       "      <td> 30</td>\n",
       "      <td>  24.32</td>\n",
       "      <td>NaN</td>\n",
       "      <td>    Dustin</td>\n",
       "      <td>   Miller</td>\n",
       "      <td>2013-07-16</td>\n",
       "      <td> UIAPA UB Academic Year</td>\n",
       "      <td> 795.26</td>\n",
       "      <td> 46 days</td>\n",
       "    </tr>\n",
       "    <tr>\n",
       "      <th>1</th>\n",
       "      <td> 29847864</td>\n",
       "      <td> BB00195886</td>\n",
       "      <td>2013-05-31</td>\n",
       "      <td>                GRAINGER INC</td>\n",
       "      <td>   PunchOut Product</td>\n",
       "      <td> Wall Mount Fan, Oscillating, Number of Speeds ...</td>\n",
       "      <td>                     AIR KING</td>\n",
       "      <td>  1</td>\n",
       "      <td>  35.58</td>\n",
       "      <td>NaN</td>\n",
       "      <td>      Erin</td>\n",
       "      <td> Pinkston</td>\n",
       "      <td>2013-08-08</td>\n",
       "      <td> UKHDS Unit 1 Apt Admin</td>\n",
       "      <td>  38.78</td>\n",
       "      <td> 69 days</td>\n",
       "    </tr>\n",
       "    <tr>\n",
       "      <th>2</th>\n",
       "      <td> 29847796</td>\n",
       "      <td> BB00195884</td>\n",
       "      <td>2013-05-31</td>\n",
       "      <td>            BELLCO GLASS INC</td>\n",
       "      <td> NonCatalog Product</td>\n",
       "      <td> Septum Stopper, 20mm Blue Butyl Rubber QtyPerC...</td>\n",
       "      <td>                          NaN</td>\n",
       "      <td>  1</td>\n",
       "      <td>  77.41</td>\n",
       "      <td>NaN</td>\n",
       "      <td>   William</td>\n",
       "      <td>     Wolf</td>\n",
       "      <td>       NaT</td>\n",
       "      <td>     CCHEM RES Research</td>\n",
       "      <td> 104.67</td>\n",
       "      <td>     NaT</td>\n",
       "    </tr>\n",
       "    <tr>\n",
       "      <th>3</th>\n",
       "      <td> 29847820</td>\n",
       "      <td> BB00195885</td>\n",
       "      <td>2013-05-31</td>\n",
       "      <td> CHEMGLASS LIFE SCIENCES LLC</td>\n",
       "      <td> NonCatalog Product</td>\n",
       "      <td> Column, Chromatography, 24/40 Outer Joint, 100...</td>\n",
       "      <td>                          NaN</td>\n",
       "      <td>  1</td>\n",
       "      <td> 108.00</td>\n",
       "      <td>NaN</td>\n",
       "      <td>   William</td>\n",
       "      <td>     Wolf</td>\n",
       "      <td>2014-10-30</td>\n",
       "      <td>     CCHEM RES Research</td>\n",
       "      <td>  71.77</td>\n",
       "      <td>517 days</td>\n",
       "    </tr>\n",
       "    <tr>\n",
       "      <th>4</th>\n",
       "      <td> 29847565</td>\n",
       "      <td> BB00195881</td>\n",
       "      <td>2013-05-31</td>\n",
       "      <td>           FISHER SCIENTIFIC</td>\n",
       "      <td>  SQ Hosted Product</td>\n",
       "      <td> Bottles, Media/Lab; Wheaton;Graduated; With ru...</td>\n",
       "      <td> Wheaton Science Products Inc</td>\n",
       "      <td>  1</td>\n",
       "      <td> 135.38</td>\n",
       "      <td>NaN</td>\n",
       "      <td> Donald C.</td>\n",
       "      <td>      RIO</td>\n",
       "      <td>       NaT</td>\n",
       "      <td>      IMMCB BH Research</td>\n",
       "      <td> 317.31</td>\n",
       "      <td>     NaT</td>\n",
       "    </tr>\n",
       "  </tbody>\n",
       "</table>\n",
       "</div>"
      ],
      "text/plain": [
       "      po_id      po_num creation_date                supplier_name  \\\n",
       "0  29847876  BB00195887    2013-05-31          GIVE SOMETHING BACK   \n",
       "1  29847864  BB00195886    2013-05-31                 GRAINGER INC   \n",
       "2  29847796  BB00195884    2013-05-31             BELLCO GLASS INC   \n",
       "3  29847820  BB00195885    2013-05-31  CHEMGLASS LIFE SCIENCES LLC   \n",
       "4  29847565  BB00195881    2013-05-31            FISHER SCIENTIFIC   \n",
       "\n",
       "            item_type                                product_description  \\\n",
       "0   SQ Hosted Product  PORTABLE COMBINATION LAPTOP LOCK, 6 FT. CARBON...   \n",
       "1    PunchOut Product  Wall Mount Fan, Oscillating, Number of Speeds ...   \n",
       "2  NonCatalog Product  Septum Stopper, 20mm Blue Butyl Rubber QtyPerC...   \n",
       "3  NonCatalog Product  Column, Chromatography, 24/40 Outer Joint, 100...   \n",
       "4   SQ Hosted Product  Bottles, Media/Lab; Wheaton;Graduated; With ru...   \n",
       "\n",
       "                   manufacturer  quantity  unit_price  department  \\\n",
       "0                    KENSINGTON        30       24.32         NaN   \n",
       "1                      AIR KING         1       35.58         NaN   \n",
       "2                           NaN         1       77.41         NaN   \n",
       "3                           NaN         1      108.00         NaN   \n",
       "4  Wheaton Science Products Inc         1      135.38         NaN   \n",
       "\n",
       "  buyer__first_name buyer__last_name po_closed_date         department_name  \\\n",
       "0            Dustin           Miller     2013-07-16  UIAPA UB Academic Year   \n",
       "1              Erin         Pinkston     2013-08-08  UKHDS Unit 1 Apt Admin   \n",
       "2           William             Wolf            NaT      CCHEM RES Research   \n",
       "3           William             Wolf     2014-10-30      CCHEM RES Research   \n",
       "4         Donald C.              RIO            NaT       IMMCB BH Research   \n",
       "\n",
       "    spend      toc  \n",
       "0  795.26  46 days  \n",
       "1   38.78  69 days  \n",
       "2  104.67      NaT  \n",
       "3   71.77 517 days  \n",
       "4  317.31      NaT  "
      ]
     },
     "execution_count": 41,
     "metadata": {},
     "output_type": "execute_result"
    }
   ],
   "source": []
  },
  {
   "cell_type": "code",
   "execution_count": null,
   "metadata": {
    "collapsed": true
   },
   "outputs": [],
   "source": []
  }
 ],
 "metadata": {
  "kernelspec": {
   "display_name": "Python 2",
   "language": "python",
   "name": "python2"
  },
  "language_info": {
   "codemirror_mode": {
    "name": "ipython",
    "version": 2
   },
   "file_extension": ".py",
   "mimetype": "text/x-python",
   "name": "python",
   "nbconvert_exporter": "python",
   "pygments_lexer": "ipython2",
   "version": "2.7.9"
  }
 },
 "nbformat": 4,
 "nbformat_minor": 0
}
