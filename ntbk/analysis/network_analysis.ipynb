{
 "cells": [
  {
   "cell_type": "code",
   "execution_count": 18,
   "metadata": {
    "collapsed": false
   },
   "outputs": [],
   "source": [
    "import os\n",
    "import networkx as nx\n",
    "import matplotlib.pyplot as plt\n",
    "import cython\n",
    "import numpy as np\n",
    "import pandas as pd\n",
    "import datetime\n",
    "import pylab"
   ]
  },
  {
   "cell_type": "code",
   "execution_count": 19,
   "metadata": {
    "collapsed": false
   },
   "outputs": [],
   "source": [
    "# load in merged data\n",
    "data_path = '../../../UCB_dept_merge_CorrectDeptLabels.csv'\n",
    "merged = pd.read_csv(data_path)"
   ]
  },
  {
   "cell_type": "code",
   "execution_count": 20,
   "metadata": {
    "collapsed": false
   },
   "outputs": [],
   "source": [
    "#clean up the department dataset\n",
    "def convert_strings_to_specials(s):\n",
    "    s = s.replace(' ', '_')\n",
    "    s = s.replace(':', '_')\n",
    "    s = s.replace('#', 'num')\n",
    "    s = s.lower()\n",
    "    return s\n",
    "merged.columns = [convert_strings_to_specials(col) for col in merged.columns]"
   ]
  },
  {
   "cell_type": "code",
   "execution_count": 21,
   "metadata": {
    "collapsed": false
   },
   "outputs": [],
   "source": [
    "#convert creation_date to datetime object\n",
    "merged['creation_date']=pd.to_datetime(pd.Series(merged['creation_date']))"
   ]
  },
  {
   "cell_type": "code",
   "execution_count": 31,
   "metadata": {
    "collapsed": false
   },
   "outputs": [],
   "source": [
    "month = [date.month for date in merged['creation_date']]\n",
    "year = [date.year for date in merged['creation_date']]\n",
    "day = [date.day for date in merged['creation_date']]\n",
    "merged['month'] = month\n",
    "merged['year'] = year\n",
    "merged['day'] = day"
   ]
  },
  {
   "cell_type": "code",
   "execution_count": 32,
   "metadata": {
    "collapsed": false
   },
   "outputs": [
    {
     "data": {
      "text/html": [
       "<div style=\"max-height:1000px;max-width:1500px;overflow:auto;\">\n",
       "<table border=\"1\" class=\"dataframe\">\n",
       "  <thead>\n",
       "    <tr style=\"text-align: right;\">\n",
       "      <th></th>\n",
       "      <th>unnamed__0</th>\n",
       "      <th>po_id</th>\n",
       "      <th>po_num</th>\n",
       "      <th>creation_date</th>\n",
       "      <th>supplier_name</th>\n",
       "      <th>item_type</th>\n",
       "      <th>product_description</th>\n",
       "      <th>manufacturer</th>\n",
       "      <th>quantity</th>\n",
       "      <th>unit_price</th>\n",
       "      <th>...</th>\n",
       "      <th>buyer__last_name</th>\n",
       "      <th>po_closed_date</th>\n",
       "      <th>department_name</th>\n",
       "      <th>spend</th>\n",
       "      <th>department_number</th>\n",
       "      <th>department_name_stripped</th>\n",
       "      <th>department_name_update</th>\n",
       "      <th>month</th>\n",
       "      <th>year</th>\n",
       "      <th>day</th>\n",
       "    </tr>\n",
       "  </thead>\n",
       "  <tbody>\n",
       "    <tr>\n",
       "      <th>0</th>\n",
       "      <td> 0</td>\n",
       "      <td> 29847876</td>\n",
       "      <td> BB00195887</td>\n",
       "      <td>2013-05-31</td>\n",
       "      <td>         GIVE SOMETHING BACK</td>\n",
       "      <td>  SQ Hosted Product</td>\n",
       "      <td> PORTABLE COMBINATION LAPTOP LOCK, 6 FT. CARBON...</td>\n",
       "      <td>                   KENSINGTON</td>\n",
       "      <td> 30</td>\n",
       "      <td>  24.32</td>\n",
       "      <td>...</td>\n",
       "      <td>   Miller</td>\n",
       "      <td> 2013-07-16 00:00:00</td>\n",
       "      <td> UIAPA UB Academic Year</td>\n",
       "      <td> 795.26</td>\n",
       "      <td> UIAPA</td>\n",
       "      <td> UB Academic Year</td>\n",
       "      <td>                       NaN</td>\n",
       "      <td> 5</td>\n",
       "      <td> 2013</td>\n",
       "      <td> 31</td>\n",
       "    </tr>\n",
       "    <tr>\n",
       "      <th>1</th>\n",
       "      <td> 1</td>\n",
       "      <td> 29847864</td>\n",
       "      <td> BB00195886</td>\n",
       "      <td>2013-05-31</td>\n",
       "      <td>                GRAINGER INC</td>\n",
       "      <td>   PunchOut Product</td>\n",
       "      <td> Wall Mount Fan, Oscillating, Number of Speeds ...</td>\n",
       "      <td>                     AIR KING</td>\n",
       "      <td>  1</td>\n",
       "      <td>  35.58</td>\n",
       "      <td>...</td>\n",
       "      <td> Pinkston</td>\n",
       "      <td> 2013-08-08 00:00:00</td>\n",
       "      <td> UKHDS Unit 1 Apt Admin</td>\n",
       "      <td>  38.78</td>\n",
       "      <td> UKHDS</td>\n",
       "      <td> Unit 1 Apt Admin</td>\n",
       "      <td> Housing &amp; Dining Services</td>\n",
       "      <td> 5</td>\n",
       "      <td> 2013</td>\n",
       "      <td> 31</td>\n",
       "    </tr>\n",
       "    <tr>\n",
       "      <th>2</th>\n",
       "      <td> 2</td>\n",
       "      <td> 29847796</td>\n",
       "      <td> BB00195884</td>\n",
       "      <td>2013-05-31</td>\n",
       "      <td>            BELLCO GLASS INC</td>\n",
       "      <td> NonCatalog Product</td>\n",
       "      <td> Septum Stopper, 20mm Blue Butyl Rubber QtyPerC...</td>\n",
       "      <td>                          NaN</td>\n",
       "      <td>  1</td>\n",
       "      <td>  77.41</td>\n",
       "      <td>...</td>\n",
       "      <td>     Wolf</td>\n",
       "      <td>                 NaN</td>\n",
       "      <td>     CCHEM RES Research</td>\n",
       "      <td> 104.67</td>\n",
       "      <td> CCHEM</td>\n",
       "      <td>     RES Research</td>\n",
       "      <td>         Dept Of Chemistry</td>\n",
       "      <td> 5</td>\n",
       "      <td> 2013</td>\n",
       "      <td> 31</td>\n",
       "    </tr>\n",
       "    <tr>\n",
       "      <th>3</th>\n",
       "      <td> 3</td>\n",
       "      <td> 29847820</td>\n",
       "      <td> BB00195885</td>\n",
       "      <td>2013-05-31</td>\n",
       "      <td> CHEMGLASS LIFE SCIENCES LLC</td>\n",
       "      <td> NonCatalog Product</td>\n",
       "      <td> Column, Chromatography, 24/40 Outer Joint, 100...</td>\n",
       "      <td>                          NaN</td>\n",
       "      <td>  1</td>\n",
       "      <td> 108.00</td>\n",
       "      <td>...</td>\n",
       "      <td>     Wolf</td>\n",
       "      <td> 2014-10-30 00:00:00</td>\n",
       "      <td>     CCHEM RES Research</td>\n",
       "      <td>  71.77</td>\n",
       "      <td> CCHEM</td>\n",
       "      <td>     RES Research</td>\n",
       "      <td>         Dept Of Chemistry</td>\n",
       "      <td> 5</td>\n",
       "      <td> 2013</td>\n",
       "      <td> 31</td>\n",
       "    </tr>\n",
       "    <tr>\n",
       "      <th>4</th>\n",
       "      <td> 4</td>\n",
       "      <td> 29847565</td>\n",
       "      <td> BB00195881</td>\n",
       "      <td>2013-05-31</td>\n",
       "      <td>           FISHER SCIENTIFIC</td>\n",
       "      <td>  SQ Hosted Product</td>\n",
       "      <td> Bottles, Media/Lab; Wheaton;Graduated; With ru...</td>\n",
       "      <td> Wheaton Science Products Inc</td>\n",
       "      <td>  1</td>\n",
       "      <td> 135.38</td>\n",
       "      <td>...</td>\n",
       "      <td>      RIO</td>\n",
       "      <td>                 NaN</td>\n",
       "      <td>      IMMCB BH Research</td>\n",
       "      <td> 317.31</td>\n",
       "      <td> IMMCB</td>\n",
       "      <td>      BH Research</td>\n",
       "      <td>  Molecular &amp; Cell Biology</td>\n",
       "      <td> 5</td>\n",
       "      <td> 2013</td>\n",
       "      <td> 31</td>\n",
       "    </tr>\n",
       "  </tbody>\n",
       "</table>\n",
       "<p>5 rows × 22 columns</p>\n",
       "</div>"
      ],
      "text/plain": [
       "   unnamed__0     po_id      po_num creation_date  \\\n",
       "0           0  29847876  BB00195887    2013-05-31   \n",
       "1           1  29847864  BB00195886    2013-05-31   \n",
       "2           2  29847796  BB00195884    2013-05-31   \n",
       "3           3  29847820  BB00195885    2013-05-31   \n",
       "4           4  29847565  BB00195881    2013-05-31   \n",
       "\n",
       "                 supplier_name           item_type  \\\n",
       "0          GIVE SOMETHING BACK   SQ Hosted Product   \n",
       "1                 GRAINGER INC    PunchOut Product   \n",
       "2             BELLCO GLASS INC  NonCatalog Product   \n",
       "3  CHEMGLASS LIFE SCIENCES LLC  NonCatalog Product   \n",
       "4            FISHER SCIENTIFIC   SQ Hosted Product   \n",
       "\n",
       "                                 product_description  \\\n",
       "0  PORTABLE COMBINATION LAPTOP LOCK, 6 FT. CARBON...   \n",
       "1  Wall Mount Fan, Oscillating, Number of Speeds ...   \n",
       "2  Septum Stopper, 20mm Blue Butyl Rubber QtyPerC...   \n",
       "3  Column, Chromatography, 24/40 Outer Joint, 100...   \n",
       "4  Bottles, Media/Lab; Wheaton;Graduated; With ru...   \n",
       "\n",
       "                   manufacturer  quantity  unit_price ...   buyer__last_name  \\\n",
       "0                    KENSINGTON        30       24.32 ...             Miller   \n",
       "1                      AIR KING         1       35.58 ...           Pinkston   \n",
       "2                           NaN         1       77.41 ...               Wolf   \n",
       "3                           NaN         1      108.00 ...               Wolf   \n",
       "4  Wheaton Science Products Inc         1      135.38 ...                RIO   \n",
       "\n",
       "        po_closed_date         department_name   spend department_number  \\\n",
       "0  2013-07-16 00:00:00  UIAPA UB Academic Year  795.26             UIAPA   \n",
       "1  2013-08-08 00:00:00  UKHDS Unit 1 Apt Admin   38.78             UKHDS   \n",
       "2                  NaN      CCHEM RES Research  104.67             CCHEM   \n",
       "3  2014-10-30 00:00:00      CCHEM RES Research   71.77             CCHEM   \n",
       "4                  NaN       IMMCB BH Research  317.31             IMMCB   \n",
       "\n",
       "   department_name_stripped     department_name_update month  year  day  \n",
       "0          UB Academic Year                        NaN     5  2013   31  \n",
       "1          Unit 1 Apt Admin  Housing & Dining Services     5  2013   31  \n",
       "2              RES Research          Dept Of Chemistry     5  2013   31  \n",
       "3              RES Research          Dept Of Chemistry     5  2013   31  \n",
       "4               BH Research   Molecular & Cell Biology     5  2013   31  \n",
       "\n",
       "[5 rows x 22 columns]"
      ]
     },
     "execution_count": 32,
     "metadata": {},
     "output_type": "execute_result"
    }
   ],
   "source": [
    "merged.head()"
   ]
  },
  {
   "cell_type": "code",
   "execution_count": 35,
   "metadata": {
    "collapsed": true
   },
   "outputs": [],
   "source": [
    "#iterator for getting month,year\n",
    "def month_year_iter( start_month, start_year, end_month, end_year ):\n",
    "    ym_start= 12*start_year + start_month - 1\n",
    "    ym_end= 12*end_year + end_month - 1\n",
    "    for ym in range( ym_start, ym_end ):\n",
    "        y, m = divmod( ym, 12 )\n",
    "        yield y, m+1"
   ]
  },
  {
   "cell_type": "code",
   "execution_count": 63,
   "metadata": {
    "collapsed": false
   },
   "outputs": [],
   "source": [
    "#function to give a bitartite graph and centrality measure of department and supplier by time\n",
    "def testCentralityGraph(data, set1, set2, time_column, month_column, year_column):\n",
    "    results = []\n",
    "    def calculate(set1, set2, current):\n",
    "        G = nx.Graph()\n",
    "        G.add_nodes_from(current[set1],bipartite = 0)\n",
    "        G.add_nodes_from(current[set2],bipartite = 1)\n",
    "        edgeList = [tuple(x) for x in current.values]\n",
    "        G.add_edges_from(edgeList)\n",
    "        pos = nx.networkx.spring_layout(G)\n",
    "        nx.draw_networkx_nodes(G, pos, nodelist = current[set1].tolist(), node_color = 'r', node_size = 50)\n",
    "        nx.draw_networkx_nodes(G, pos, nodelist = current[set2].tolist(), node_color= 'w', node_size=50)\n",
    "        #draw edges\n",
    "        nx.draw_networkx_edges(G,pos,width=0.5,alpha=0.5)\n",
    "        nx.draw_networkx_edges(G,pos,edgelist=edgeList)\n",
    "        bottom_nodes, top_nodes = nx.bipartite.sets(G)\n",
    "        projected_bottom = nx.bipartite.projected_graph(G, bottom_nodes, multigraph = True)\n",
    "        projected_top = nx.bipartite.projected_graph(G, top_nodes, multigraph = True)\n",
    "        top_density, bottom_density = nx.bipartite.density(G, top_nodes), nx.bipartite.density(G, bottom_nodes)\n",
    "        top_degree = nx.degree_centrality(projected_top)\n",
    "        bot_degree = nx.degree_centrality(projected_bottom)\n",
    "        top_between = nx.betweenness_centrality(projected_top)\n",
    "        bot_between = nx.betweenness_centrality(projected_bottom)\n",
    "        top_projected_density = nx.density(projected_top)\n",
    "        bot_projected_density = nx.density(projected_bottom)\n",
    "        \n",
    "        return (G,projected_top,projected_bottom,top_density,bottom_density,top_degree,bot_degree,top_between,bot_between,\n",
    "                top_projected_density,bot_projected_density)\n",
    "            \n",
    "    firstDate = min(data[time_column])\n",
    "    lastDate = max(data[time_column])\n",
    "    iter = month_year_iter(firstDate.month, firstDate.year, lastDate.month, lastDate.year)\n",
    "    for month,year in iter:\n",
    "        current = data[data[month_column] == month]\n",
    "        current = data[data[year_column] == year]\n",
    "        current = current[[set1,set2]]\n",
    "        current.dropna()\n",
    "        temp = calculate(set1,set2,current)\n",
    "        results +=[(temp,month,year)]\n",
    "\n",
    "    return results"
   ]
  },
  {
   "cell_type": "code",
   "execution_count": 64,
   "metadata": {
    "collapsed": false
   },
   "outputs": [],
   "source": [
    "masterlist = testCentralityGraph(merged,'department_name_update', 'supplier_name','creation_date','month','year')"
   ]
  },
  {
   "cell_type": "code",
   "execution_count": 56,
   "metadata": {
    "collapsed": false
   },
   "outputs": [
    {
     "data": {
      "text/plain": [
       "636"
      ]
     },
     "execution_count": 56,
     "metadata": {},
     "output_type": "execute_result"
    }
   ],
   "source": [
    "#subset by date\n",
    "first3Months = deptSupplier[deptSupplier['creation_date'] < datetime.datetime(2012,3,1)]\n",
    "first3Months = first3Months.dropna() \n",
    "len(first3Months)"
   ]
  },
  {
   "cell_type": "code",
   "execution_count": 66,
   "metadata": {
    "collapsed": false
   },
   "outputs": [
    {
     "ename": "NameError",
     "evalue": "name 'first3Months' is not defined",
     "output_type": "error",
     "traceback": [
      "\u001b[1;31m---------------------------------------------------------------------------\u001b[0m",
      "\u001b[1;31mNameError\u001b[0m                                 Traceback (most recent call last)",
      "\u001b[1;32m<ipython-input-66-d71f99cf7efc>\u001b[0m in \u001b[0;36m<module>\u001b[1;34m()\u001b[0m\n\u001b[0;32m      1\u001b[0m \u001b[1;31m#keep only the unique values\u001b[0m\u001b[1;33m\u001b[0m\u001b[1;33m\u001b[0m\u001b[0m\n\u001b[1;32m----> 2\u001b[1;33m \u001b[0mwanted\u001b[0m \u001b[1;33m=\u001b[0m \u001b[0mfirst3Months\u001b[0m\u001b[1;33m[\u001b[0m\u001b[1;33m[\u001b[0m\u001b[1;34m'department_name'\u001b[0m\u001b[1;33m,\u001b[0m\u001b[1;34m'supplier_name'\u001b[0m\u001b[1;33m]\u001b[0m\u001b[1;33m]\u001b[0m\u001b[1;33m\u001b[0m\u001b[0m\n\u001b[0m\u001b[0;32m      3\u001b[0m \u001b[0mwanted\u001b[0m\u001b[1;33m.\u001b[0m\u001b[0mdrop_duplicates\u001b[0m\u001b[1;33m(\u001b[0m\u001b[1;33m)\u001b[0m\u001b[1;33m\u001b[0m\u001b[0m\n",
      "\u001b[1;31mNameError\u001b[0m: name 'first3Months' is not defined"
     ]
    }
   ],
   "source": [
    "#keep only the unique values\n",
    "wanted = first3Months[['department_name','supplier_name']]\n",
    "wanted.drop_duplicates()"
   ]
  },
  {
   "cell_type": "code",
   "execution_count": 58,
   "metadata": {
    "collapsed": false
   },
   "outputs": [],
   "source": [
    "#make a graph\n",
    "test= nx.Graph()\n",
    "edges = [tuple(x) for x in wanted.values]\n",
    "test.add_edges_from(edges)\n",
    "#position = {department:0 for department in wanted[\"department_name\"]}\n",
    "#for supplier in wanted[\"supplier_name\"]: position[supplier] = 1\n",
    "values = range(0,len(test.nodes()))\n",
    "#len(position) ==len(values)"
   ]
  },
  {
   "cell_type": "code",
   "execution_count": null,
   "metadata": {
    "collapsed": false
   },
   "outputs": [],
   "source": [
    "nx.draw(test, node_color = values,with_labels = True)\n",
    "plt.show()\n",
    "plt.savefig(\"test.png\")"
   ]
  },
  {
   "cell_type": "code",
   "execution_count": 20,
   "metadata": {
    "collapsed": false
   },
   "outputs": [],
   "source": []
  },
  {
   "cell_type": "code",
   "execution_count": 38,
   "metadata": {
    "collapsed": false
   },
   "outputs": [],
   "source": []
  },
  {
   "cell_type": "code",
   "execution_count": 27,
   "metadata": {
    "collapsed": false
   },
   "outputs": [],
   "source": []
  },
  {
   "cell_type": "code",
   "execution_count": null,
   "metadata": {
    "collapsed": true
   },
   "outputs": [],
   "source": []
  }
 ],
 "metadata": {
  "kernelspec": {
   "display_name": "Python 2",
   "language": "python",
   "name": "python2"
  },
  "language_info": {
   "codemirror_mode": {
    "name": "ipython",
    "version": 2
   },
   "file_extension": ".py",
   "mimetype": "text/x-python",
   "name": "python",
   "nbconvert_exporter": "python",
   "pygments_lexer": "ipython2",
   "version": "2.7.8"
  }
 },
 "nbformat": 4,
 "nbformat_minor": 0
}
