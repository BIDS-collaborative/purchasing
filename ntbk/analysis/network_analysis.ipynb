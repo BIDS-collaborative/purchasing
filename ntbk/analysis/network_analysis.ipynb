{
 "cells": [
  {
   "cell_type": "code",
   "execution_count": 14,
   "metadata": {
    "collapsed": false
   },
   "outputs": [],
   "source": [
    "import os\n",
    "import networkx as nx\n",
    "import matplotlib.pyplot as plt\n",
    "import cython\n",
    "import numpy as np\n",
    "import pandas as pd\n",
    "import datetime"
   ]
  },
  {
   "cell_type": "code",
   "execution_count": 15,
   "metadata": {
    "collapsed": false
   },
   "outputs": [],
   "source": [
    "# load in merged data\n",
    "data_path = '../../../UCB_dept_merge.csv'\n",
    "mergeData = pd.read_csv(data_path)"
   ]
  },
  {
   "cell_type": "code",
   "execution_count": 16,
   "metadata": {
    "collapsed": false
   },
   "outputs": [
    {
     "data": {
      "text/html": [
       "<div style=\"max-height:1000px;max-width:1500px;overflow:auto;\">\n",
       "<table border=\"1\" class=\"dataframe\">\n",
       "  <thead>\n",
       "    <tr style=\"text-align: right;\">\n",
       "      <th></th>\n",
       "      <th>po_id</th>\n",
       "      <th>po_num</th>\n",
       "      <th>creation_date</th>\n",
       "      <th>supplier_name</th>\n",
       "      <th>item_type</th>\n",
       "      <th>product_description</th>\n",
       "      <th>manufacturer</th>\n",
       "      <th>quantity</th>\n",
       "      <th>unit_price</th>\n",
       "      <th>department</th>\n",
       "      <th>buyer__first_name</th>\n",
       "      <th>buyer__last_name</th>\n",
       "      <th>po_closed_date</th>\n",
       "      <th>department_name</th>\n",
       "      <th>spend</th>\n",
       "    </tr>\n",
       "  </thead>\n",
       "  <tbody>\n",
       "    <tr>\n",
       "      <th>0</th>\n",
       "      <td> 29847876</td>\n",
       "      <td> BB00195887</td>\n",
       "      <td> 2013-05-31 00:00:00</td>\n",
       "      <td>         GIVE SOMETHING BACK</td>\n",
       "      <td>  SQ Hosted Product</td>\n",
       "      <td> PORTABLE COMBINATION LAPTOP LOCK, 6 FT. CARBON...</td>\n",
       "      <td>                   KENSINGTON</td>\n",
       "      <td> 30</td>\n",
       "      <td>  24.32</td>\n",
       "      <td>NaN</td>\n",
       "      <td>    Dustin</td>\n",
       "      <td>   Miller</td>\n",
       "      <td> 2013-07-16 00:00:00</td>\n",
       "      <td> UIAPA</td>\n",
       "      <td> 795.26</td>\n",
       "    </tr>\n",
       "    <tr>\n",
       "      <th>1</th>\n",
       "      <td> 29847864</td>\n",
       "      <td> BB00195886</td>\n",
       "      <td> 2013-05-31 00:00:00</td>\n",
       "      <td>                GRAINGER INC</td>\n",
       "      <td>   PunchOut Product</td>\n",
       "      <td> Wall Mount Fan, Oscillating, Number of Speeds ...</td>\n",
       "      <td>                     AIR KING</td>\n",
       "      <td>  1</td>\n",
       "      <td>  35.58</td>\n",
       "      <td>NaN</td>\n",
       "      <td>      Erin</td>\n",
       "      <td> Pinkston</td>\n",
       "      <td> 2013-08-08 00:00:00</td>\n",
       "      <td> UKHDS</td>\n",
       "      <td>  38.78</td>\n",
       "    </tr>\n",
       "    <tr>\n",
       "      <th>2</th>\n",
       "      <td> 29847796</td>\n",
       "      <td> BB00195884</td>\n",
       "      <td> 2013-05-31 00:00:00</td>\n",
       "      <td>            BELLCO GLASS INC</td>\n",
       "      <td> NonCatalog Product</td>\n",
       "      <td> Septum Stopper, 20mm Blue Butyl Rubber QtyPerC...</td>\n",
       "      <td>                          NaN</td>\n",
       "      <td>  1</td>\n",
       "      <td>  77.41</td>\n",
       "      <td>NaN</td>\n",
       "      <td>   William</td>\n",
       "      <td>     Wolf</td>\n",
       "      <td>                 NaN</td>\n",
       "      <td> CCHEM</td>\n",
       "      <td> 104.67</td>\n",
       "    </tr>\n",
       "    <tr>\n",
       "      <th>3</th>\n",
       "      <td> 29847820</td>\n",
       "      <td> BB00195885</td>\n",
       "      <td> 2013-05-31 00:00:00</td>\n",
       "      <td> CHEMGLASS LIFE SCIENCES LLC</td>\n",
       "      <td> NonCatalog Product</td>\n",
       "      <td> Column, Chromatography, 24/40 Outer Joint, 100...</td>\n",
       "      <td>                          NaN</td>\n",
       "      <td>  1</td>\n",
       "      <td> 108.00</td>\n",
       "      <td>NaN</td>\n",
       "      <td>   William</td>\n",
       "      <td>     Wolf</td>\n",
       "      <td> 2014-10-30 00:00:00</td>\n",
       "      <td> CCHEM</td>\n",
       "      <td>  71.77</td>\n",
       "    </tr>\n",
       "    <tr>\n",
       "      <th>4</th>\n",
       "      <td> 29847565</td>\n",
       "      <td> BB00195881</td>\n",
       "      <td> 2013-05-31 00:00:00</td>\n",
       "      <td>           FISHER SCIENTIFIC</td>\n",
       "      <td>  SQ Hosted Product</td>\n",
       "      <td> Bottles, Media/Lab; Wheaton;Graduated; With ru...</td>\n",
       "      <td> Wheaton Science Products Inc</td>\n",
       "      <td>  1</td>\n",
       "      <td> 135.38</td>\n",
       "      <td>NaN</td>\n",
       "      <td> Donald C.</td>\n",
       "      <td>      RIO</td>\n",
       "      <td>                 NaN</td>\n",
       "      <td> IMMCB</td>\n",
       "      <td> 317.31</td>\n",
       "    </tr>\n",
       "  </tbody>\n",
       "</table>\n",
       "</div>"
      ],
      "text/plain": [
       "      po_id      po_num        creation_date                supplier_name  \\\n",
       "0  29847876  BB00195887  2013-05-31 00:00:00          GIVE SOMETHING BACK   \n",
       "1  29847864  BB00195886  2013-05-31 00:00:00                 GRAINGER INC   \n",
       "2  29847796  BB00195884  2013-05-31 00:00:00             BELLCO GLASS INC   \n",
       "3  29847820  BB00195885  2013-05-31 00:00:00  CHEMGLASS LIFE SCIENCES LLC   \n",
       "4  29847565  BB00195881  2013-05-31 00:00:00            FISHER SCIENTIFIC   \n",
       "\n",
       "            item_type                                product_description  \\\n",
       "0   SQ Hosted Product  PORTABLE COMBINATION LAPTOP LOCK, 6 FT. CARBON...   \n",
       "1    PunchOut Product  Wall Mount Fan, Oscillating, Number of Speeds ...   \n",
       "2  NonCatalog Product  Septum Stopper, 20mm Blue Butyl Rubber QtyPerC...   \n",
       "3  NonCatalog Product  Column, Chromatography, 24/40 Outer Joint, 100...   \n",
       "4   SQ Hosted Product  Bottles, Media/Lab; Wheaton;Graduated; With ru...   \n",
       "\n",
       "                   manufacturer  quantity  unit_price  department  \\\n",
       "0                    KENSINGTON        30       24.32         NaN   \n",
       "1                      AIR KING         1       35.58         NaN   \n",
       "2                           NaN         1       77.41         NaN   \n",
       "3                           NaN         1      108.00         NaN   \n",
       "4  Wheaton Science Products Inc         1      135.38         NaN   \n",
       "\n",
       "  buyer__first_name buyer__last_name       po_closed_date department_name  \\\n",
       "0            Dustin           Miller  2013-07-16 00:00:00           UIAPA   \n",
       "1              Erin         Pinkston  2013-08-08 00:00:00           UKHDS   \n",
       "2           William             Wolf                  NaN           CCHEM   \n",
       "3           William             Wolf  2014-10-30 00:00:00           CCHEM   \n",
       "4         Donald C.              RIO                  NaN           IMMCB   \n",
       "\n",
       "    spend  \n",
       "0  795.26  \n",
       "1   38.78  \n",
       "2  104.67  \n",
       "3   71.77  \n",
       "4  317.31  "
      ]
     },
     "execution_count": 16,
     "metadata": {},
     "output_type": "execute_result"
    }
   ],
   "source": [
    "# cut out unnecessary info on department name\n",
    "mergeData[\"department_name\"] = mergeData[\"department_name\"].apply(lambda x: x.split()[0])\n",
    "mergeData.head()"
   ]
  },
  {
   "cell_type": "code",
   "execution_count": 25,
   "metadata": {
    "collapsed": false
   },
   "outputs": [],
   "source": [
    "#convert creation_date to datetime object\n",
    "mergeData['creation_date']=pd.to_datetime(pd.Series(mergeData['creation_date']))"
   ]
  },
  {
   "cell_type": "code",
   "execution_count": 41,
   "metadata": {
    "collapsed": false
   },
   "outputs": [
    {
     "data": {
      "text/html": [
       "<div style=\"max-height:1000px;max-width:1500px;overflow:auto;\">\n",
       "<table border=\"1\" class=\"dataframe\">\n",
       "  <thead>\n",
       "    <tr style=\"text-align: right;\">\n",
       "      <th></th>\n",
       "      <th>department_name</th>\n",
       "      <th>supplier_name</th>\n",
       "      <th>creation_date</th>\n",
       "      <th>po_closed_date</th>\n",
       "    </tr>\n",
       "  </thead>\n",
       "  <tbody>\n",
       "    <tr>\n",
       "      <th>273362</th>\n",
       "      <td> MDNST</td>\n",
       "      <td> SANTA CRUZ BIOTECHNOLOGY INC</td>\n",
       "      <td>2012-01-18</td>\n",
       "      <td> 2013-03-04 00:00:00</td>\n",
       "    </tr>\n",
       "    <tr>\n",
       "      <th>273361</th>\n",
       "      <td> MDNST</td>\n",
       "      <td>          OPEN BIOSYSTEMS INC</td>\n",
       "      <td>2012-01-18</td>\n",
       "      <td> 2013-01-25 00:00:00</td>\n",
       "    </tr>\n",
       "    <tr>\n",
       "      <th>273360</th>\n",
       "      <td> MEPMB</td>\n",
       "      <td>            FISHER SCIENTIFIC</td>\n",
       "      <td>2012-01-20</td>\n",
       "      <td> 2013-01-28 00:00:00</td>\n",
       "    </tr>\n",
       "    <tr>\n",
       "      <th>273359</th>\n",
       "      <td> MEPMB</td>\n",
       "      <td>            FISHER SCIENTIFIC</td>\n",
       "      <td>2012-01-20</td>\n",
       "      <td> 2013-01-28 00:00:00</td>\n",
       "    </tr>\n",
       "    <tr>\n",
       "      <th>273358</th>\n",
       "      <td> MEPMB</td>\n",
       "      <td>            FISHER SCIENTIFIC</td>\n",
       "      <td>2012-01-20</td>\n",
       "      <td> 2013-01-28 00:00:00</td>\n",
       "    </tr>\n",
       "  </tbody>\n",
       "</table>\n",
       "</div>"
      ],
      "text/plain": [
       "       department_name                 supplier_name creation_date  \\\n",
       "273362           MDNST  SANTA CRUZ BIOTECHNOLOGY INC    2012-01-18   \n",
       "273361           MDNST           OPEN BIOSYSTEMS INC    2012-01-18   \n",
       "273360           MEPMB             FISHER SCIENTIFIC    2012-01-20   \n",
       "273359           MEPMB             FISHER SCIENTIFIC    2012-01-20   \n",
       "273358           MEPMB             FISHER SCIENTIFIC    2012-01-20   \n",
       "\n",
       "             po_closed_date  \n",
       "273362  2013-03-04 00:00:00  \n",
       "273361  2013-01-25 00:00:00  \n",
       "273360  2013-01-28 00:00:00  \n",
       "273359  2013-01-28 00:00:00  \n",
       "273358  2013-01-28 00:00:00  "
      ]
     },
     "execution_count": 41,
     "metadata": {},
     "output_type": "execute_result"
    }
   ],
   "source": [
    "# just keep department_name and supplier_name\n",
    "deptSupplier = mergeData[['department_name','supplier_name','creation_date', 'po_closed_date']]\n",
    "deptSupplier = deptSupplier.dropna()\n",
    "deptSupplier.head()\n",
    "deptSupplier.dtypes\n",
    "#sort by creation date\n",
    "deptSupplier = deptSupplier.sort(['creation_date'])\n",
    "deptSupplier.head()"
   ]
  },
  {
   "cell_type": "code",
   "execution_count": 42,
   "metadata": {
    "collapsed": false
   },
   "outputs": [
    {
     "data": {
      "text/plain": [
       "636"
      ]
     },
     "execution_count": 42,
     "metadata": {},
     "output_type": "execute_result"
    }
   ],
   "source": [
    "#subset by date\n",
    "first3Months = deptSupplier[deptSupplier['creation_date'] < datetime.datetime(2012,3,1)]\n",
    "first3Months = first3Months.dropna() \n",
    "len(first3Months)"
   ]
  },
  {
   "cell_type": "code",
   "execution_count": 53,
   "metadata": {
    "collapsed": false
   },
   "outputs": [],
   "source": [
    "#keep only the unique values\n",
    "wanted = first3Months[['department_name','supplier_name']]\n",
    "wanted = wanted.drop_duplicates()"
   ]
  },
  {
   "cell_type": "code",
   "execution_count": 54,
   "metadata": {
    "collapsed": false
   },
   "outputs": [],
   "source": [
    "#try to create graphs\n",
    "from networkx.algorithms import bipartite"
   ]
  },
  {
   "cell_type": "code",
   "execution_count": 55,
   "metadata": {
    "collapsed": false
   },
   "outputs": [],
   "source": [
    "#make a bipartite graph\n",
    "test= nx.Graph()\n",
    "test.add_nodes_from(wanted['department_name'], bipartite = 0)\n",
    "test.add_nodes_from(wanted['supplier_name'], bipartite = 1)\n",
    "edges = [tuple(x) for x in wanted.values]\n",
    "test.add_edges_from(edges)"
   ]
  },
  {
   "cell_type": "code",
   "execution_count": 56,
   "metadata": {
    "collapsed": true
   },
   "outputs": [],
   "source": [
    "nx.draw(test)\n",
    "plt.show()\n",
    "plt.savefig(\"test.png\")"
   ]
  },
  {
   "cell_type": "code",
   "execution_count": null,
   "metadata": {
    "collapsed": true
   },
   "outputs": [],
   "source": []
  },
  {
   "cell_type": "code",
   "execution_count": null,
   "metadata": {
    "collapsed": true
   },
   "outputs": [],
   "source": []
  }
 ],
 "metadata": {
  "kernelspec": {
   "display_name": "Python 2",
   "language": "python",
   "name": "python2"
  },
  "language_info": {
   "codemirror_mode": {
    "name": "ipython",
    "version": 2
   },
   "file_extension": ".py",
   "mimetype": "text/x-python",
   "name": "python",
   "nbconvert_exporter": "python",
   "pygments_lexer": "ipython2",
   "version": "2.7.8"
  }
 },
 "nbformat": 4,
 "nbformat_minor": 0
}
