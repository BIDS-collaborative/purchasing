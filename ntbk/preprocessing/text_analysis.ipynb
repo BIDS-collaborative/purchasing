{
 "cells": [
  {
   "cell_type": "markdown",
   "metadata": {},
   "source": [
    "# Text Analysis"
   ]
  },
  {
   "cell_type": "markdown",
   "metadata": {},
   "source": [
    "Notebook by: Juan Shishido"
   ]
  },
  {
   "cell_type": "markdown",
   "metadata": {},
   "source": [
    "In this notebook, I'll start cleaning the text columns and, more importantly, thinking about how to classify and group the data within them. Consider using n-grams for word occurence."
   ]
  },
  {
   "cell_type": "markdown",
   "metadata": {},
   "source": [
    "## Imports"
   ]
  },
  {
   "cell_type": "code",
   "execution_count": 1,
   "metadata": {
    "collapsed": true
   },
   "outputs": [],
   "source": [
    "import re\n",
    "import pandas as pd\n",
    "import numpy as np\n",
    "from collections import Counter"
   ]
  },
  {
   "cell_type": "markdown",
   "metadata": {},
   "source": [
    "## Load"
   ]
  },
  {
   "cell_type": "code",
   "execution_count": 2,
   "metadata": {
    "collapsed": false
   },
   "outputs": [],
   "source": [
    "df = pd.read_csv('../../data/cleaned/UCB_dept_merge.csv')"
   ]
  },
  {
   "cell_type": "code",
   "execution_count": 3,
   "metadata": {
    "collapsed": false
   },
   "outputs": [
    {
     "data": {
      "text/html": [
       "<div style=\"max-height:1000px;max-width:1500px;overflow:auto;\">\n",
       "<table border=\"1\" class=\"dataframe\">\n",
       "  <thead>\n",
       "    <tr style=\"text-align: right;\">\n",
       "      <th></th>\n",
       "      <th>po_id</th>\n",
       "      <th>po_num</th>\n",
       "      <th>creation_date</th>\n",
       "      <th>supplier_name</th>\n",
       "      <th>item_type</th>\n",
       "      <th>product_description</th>\n",
       "      <th>manufacturer</th>\n",
       "      <th>quantity</th>\n",
       "      <th>unit_price</th>\n",
       "      <th>department</th>\n",
       "      <th>buyer__first_name</th>\n",
       "      <th>buyer__last_name</th>\n",
       "      <th>po_closed_date</th>\n",
       "      <th>department_name</th>\n",
       "      <th>spend</th>\n",
       "    </tr>\n",
       "  </thead>\n",
       "  <tbody>\n",
       "    <tr>\n",
       "      <th>0</th>\n",
       "      <td> 29847876</td>\n",
       "      <td> BB00195887</td>\n",
       "      <td> 2013-05-31 00:00:00</td>\n",
       "      <td>         GIVE SOMETHING BACK</td>\n",
       "      <td>  SQ Hosted Product</td>\n",
       "      <td> PORTABLE COMBINATION LAPTOP LOCK, 6 FT. CARBON...</td>\n",
       "      <td>                   KENSINGTON</td>\n",
       "      <td> 30</td>\n",
       "      <td>  24.32</td>\n",
       "      <td>NaN</td>\n",
       "      <td>    Dustin</td>\n",
       "      <td>   Miller</td>\n",
       "      <td> 2013-07-16 00:00:00</td>\n",
       "      <td> UIAPA UB Academic Year</td>\n",
       "      <td> 795.26</td>\n",
       "    </tr>\n",
       "    <tr>\n",
       "      <th>1</th>\n",
       "      <td> 29847864</td>\n",
       "      <td> BB00195886</td>\n",
       "      <td> 2013-05-31 00:00:00</td>\n",
       "      <td>                GRAINGER INC</td>\n",
       "      <td>   PunchOut Product</td>\n",
       "      <td> Wall Mount Fan, Oscillating, Number of Speeds ...</td>\n",
       "      <td>                     AIR KING</td>\n",
       "      <td>  1</td>\n",
       "      <td>  35.58</td>\n",
       "      <td>NaN</td>\n",
       "      <td>      Erin</td>\n",
       "      <td> Pinkston</td>\n",
       "      <td> 2013-08-08 00:00:00</td>\n",
       "      <td> UKHDS Unit 1 Apt Admin</td>\n",
       "      <td>  38.78</td>\n",
       "    </tr>\n",
       "    <tr>\n",
       "      <th>2</th>\n",
       "      <td> 29847796</td>\n",
       "      <td> BB00195884</td>\n",
       "      <td> 2013-05-31 00:00:00</td>\n",
       "      <td>            BELLCO GLASS INC</td>\n",
       "      <td> NonCatalog Product</td>\n",
       "      <td> Septum Stopper, 20mm Blue Butyl Rubber QtyPerC...</td>\n",
       "      <td>                          NaN</td>\n",
       "      <td>  1</td>\n",
       "      <td>  77.41</td>\n",
       "      <td>NaN</td>\n",
       "      <td>   William</td>\n",
       "      <td>     Wolf</td>\n",
       "      <td>                 NaN</td>\n",
       "      <td>     CCHEM RES Research</td>\n",
       "      <td> 104.67</td>\n",
       "    </tr>\n",
       "    <tr>\n",
       "      <th>3</th>\n",
       "      <td> 29847820</td>\n",
       "      <td> BB00195885</td>\n",
       "      <td> 2013-05-31 00:00:00</td>\n",
       "      <td> CHEMGLASS LIFE SCIENCES LLC</td>\n",
       "      <td> NonCatalog Product</td>\n",
       "      <td> Column, Chromatography, 24/40 Outer Joint, 100...</td>\n",
       "      <td>                          NaN</td>\n",
       "      <td>  1</td>\n",
       "      <td> 108.00</td>\n",
       "      <td>NaN</td>\n",
       "      <td>   William</td>\n",
       "      <td>     Wolf</td>\n",
       "      <td> 2014-10-30 00:00:00</td>\n",
       "      <td>     CCHEM RES Research</td>\n",
       "      <td>  71.77</td>\n",
       "    </tr>\n",
       "    <tr>\n",
       "      <th>4</th>\n",
       "      <td> 29847565</td>\n",
       "      <td> BB00195881</td>\n",
       "      <td> 2013-05-31 00:00:00</td>\n",
       "      <td>           FISHER SCIENTIFIC</td>\n",
       "      <td>  SQ Hosted Product</td>\n",
       "      <td> Bottles, Media/Lab; Wheaton;Graduated; With ru...</td>\n",
       "      <td> Wheaton Science Products Inc</td>\n",
       "      <td>  1</td>\n",
       "      <td> 135.38</td>\n",
       "      <td>NaN</td>\n",
       "      <td> Donald C.</td>\n",
       "      <td>      RIO</td>\n",
       "      <td>                 NaN</td>\n",
       "      <td>      IMMCB BH Research</td>\n",
       "      <td> 317.31</td>\n",
       "    </tr>\n",
       "  </tbody>\n",
       "</table>\n",
       "</div>"
      ],
      "text/plain": [
       "      po_id      po_num        creation_date                supplier_name  \\\n",
       "0  29847876  BB00195887  2013-05-31 00:00:00          GIVE SOMETHING BACK   \n",
       "1  29847864  BB00195886  2013-05-31 00:00:00                 GRAINGER INC   \n",
       "2  29847796  BB00195884  2013-05-31 00:00:00             BELLCO GLASS INC   \n",
       "3  29847820  BB00195885  2013-05-31 00:00:00  CHEMGLASS LIFE SCIENCES LLC   \n",
       "4  29847565  BB00195881  2013-05-31 00:00:00            FISHER SCIENTIFIC   \n",
       "\n",
       "            item_type                                product_description  \\\n",
       "0   SQ Hosted Product  PORTABLE COMBINATION LAPTOP LOCK, 6 FT. CARBON...   \n",
       "1    PunchOut Product  Wall Mount Fan, Oscillating, Number of Speeds ...   \n",
       "2  NonCatalog Product  Septum Stopper, 20mm Blue Butyl Rubber QtyPerC...   \n",
       "3  NonCatalog Product  Column, Chromatography, 24/40 Outer Joint, 100...   \n",
       "4   SQ Hosted Product  Bottles, Media/Lab; Wheaton;Graduated; With ru...   \n",
       "\n",
       "                   manufacturer  quantity  unit_price  department  \\\n",
       "0                    KENSINGTON        30       24.32         NaN   \n",
       "1                      AIR KING         1       35.58         NaN   \n",
       "2                           NaN         1       77.41         NaN   \n",
       "3                           NaN         1      108.00         NaN   \n",
       "4  Wheaton Science Products Inc         1      135.38         NaN   \n",
       "\n",
       "  buyer__first_name buyer__last_name       po_closed_date  \\\n",
       "0            Dustin           Miller  2013-07-16 00:00:00   \n",
       "1              Erin         Pinkston  2013-08-08 00:00:00   \n",
       "2           William             Wolf                  NaN   \n",
       "3           William             Wolf  2014-10-30 00:00:00   \n",
       "4         Donald C.              RIO                  NaN   \n",
       "\n",
       "          department_name   spend  \n",
       "0  UIAPA UB Academic Year  795.26  \n",
       "1  UKHDS Unit 1 Apt Admin   38.78  \n",
       "2      CCHEM RES Research  104.67  \n",
       "3      CCHEM RES Research   71.77  \n",
       "4       IMMCB BH Research  317.31  "
      ]
     },
     "execution_count": 3,
     "metadata": {},
     "output_type": "execute_result"
    }
   ],
   "source": [
    "df.head()"
   ]
  },
  {
   "cell_type": "markdown",
   "metadata": {},
   "source": [
    "## Transform"
   ]
  },
  {
   "cell_type": "markdown",
   "metadata": {},
   "source": [
    "### Replace nan; Lowercase"
   ]
  },
  {
   "cell_type": "code",
   "execution_count": 4,
   "metadata": {
    "collapsed": true
   },
   "outputs": [],
   "source": [
    "cols = ['supplier_name', 'item_type', 'product_description', 'manufacturer', 'buyer__first_name', 'buyer__last_name', 'department_name']"
   ]
  },
  {
   "cell_type": "code",
   "execution_count": 5,
   "metadata": {
    "collapsed": false
   },
   "outputs": [],
   "source": [
    "for col in cols:\n",
    "    df[cols] = df[cols].replace(np.nan, '' , regex=True).apply(lambda x: x.str.lower())"
   ]
  },
  {
   "cell_type": "markdown",
   "metadata": {},
   "source": [
    "### Replace Whitespace"
   ]
  },
  {
   "cell_type": "code",
   "execution_count": 6,
   "metadata": {
    "collapsed": false
   },
   "outputs": [],
   "source": [
    "df['product_description'] = df['product_description'].apply(lambda x: re.sub('[^A-Za-z0-9\\/\\-]+', ' ', x))"
   ]
  },
  {
   "cell_type": "code",
   "execution_count": 7,
   "metadata": {
    "collapsed": false
   },
   "outputs": [],
   "source": [
    "df['supplier_name'] = df['supplier_name'].apply(lambda x: re.sub(re.compile(r'\\s+'), ' ', x).strip())\n",
    "df['item_type'] = df['item_type'].apply(lambda x: re.sub(re.compile(r'\\s+'), ' ', x).strip())\n",
    "df['product_description'] = df['product_description'].apply(lambda x: re.sub(re.compile(r'\\s+'), ' ', x).strip())\n",
    "df['manufacturer'] = df['manufacturer'].apply(lambda x: re.sub(re.compile(r'\\s+'), ' ', x).strip())\n",
    "df['buyer__first_name'] = df['buyer__first_name'].apply(lambda x: re.sub(re.compile(r'\\s+'), ' ', x).strip())\n",
    "df['buyer__last_name'] = df['buyer__last_name'].apply(lambda x: re.sub(re.compile(r'\\s+'), ' ', x).strip())\n",
    "df['department_name'] = df['department_name'].apply(lambda x: re.sub(re.compile(r'\\s+'), ' ', x).strip())"
   ]
  },
  {
   "cell_type": "code",
   "execution_count": 8,
   "metadata": {
    "collapsed": false
   },
   "outputs": [
    {
     "data": {
      "text/html": [
       "<div style=\"max-height:1000px;max-width:1500px;overflow:auto;\">\n",
       "<table border=\"1\" class=\"dataframe\">\n",
       "  <thead>\n",
       "    <tr style=\"text-align: right;\">\n",
       "      <th></th>\n",
       "      <th>po_id</th>\n",
       "      <th>po_num</th>\n",
       "      <th>creation_date</th>\n",
       "      <th>supplier_name</th>\n",
       "      <th>item_type</th>\n",
       "      <th>product_description</th>\n",
       "      <th>manufacturer</th>\n",
       "      <th>quantity</th>\n",
       "      <th>unit_price</th>\n",
       "      <th>department</th>\n",
       "      <th>buyer__first_name</th>\n",
       "      <th>buyer__last_name</th>\n",
       "      <th>po_closed_date</th>\n",
       "      <th>department_name</th>\n",
       "      <th>spend</th>\n",
       "    </tr>\n",
       "  </thead>\n",
       "  <tbody>\n",
       "    <tr>\n",
       "      <th>0</th>\n",
       "      <td> 29847876</td>\n",
       "      <td> BB00195887</td>\n",
       "      <td> 2013-05-31 00:00:00</td>\n",
       "      <td>         give something back</td>\n",
       "      <td>  sq hosted product</td>\n",
       "      <td> portable combination laptop lock 6 ft carbon s...</td>\n",
       "      <td>                   kensington</td>\n",
       "      <td> 30</td>\n",
       "      <td>  24.32</td>\n",
       "      <td>NaN</td>\n",
       "      <td>    dustin</td>\n",
       "      <td>   miller</td>\n",
       "      <td> 2013-07-16 00:00:00</td>\n",
       "      <td> uiapa ub academic year</td>\n",
       "      <td> 795.26</td>\n",
       "    </tr>\n",
       "    <tr>\n",
       "      <th>1</th>\n",
       "      <td> 29847864</td>\n",
       "      <td> BB00195886</td>\n",
       "      <td> 2013-05-31 00:00:00</td>\n",
       "      <td>                grainger inc</td>\n",
       "      <td>   punchout product</td>\n",
       "      <td> wall mount fan oscillating number of speeds 3 ...</td>\n",
       "      <td>                     air king</td>\n",
       "      <td>  1</td>\n",
       "      <td>  35.58</td>\n",
       "      <td>NaN</td>\n",
       "      <td>      erin</td>\n",
       "      <td> pinkston</td>\n",
       "      <td> 2013-08-08 00:00:00</td>\n",
       "      <td> ukhds unit 1 apt admin</td>\n",
       "      <td>  38.78</td>\n",
       "    </tr>\n",
       "    <tr>\n",
       "      <th>2</th>\n",
       "      <td> 29847796</td>\n",
       "      <td> BB00195884</td>\n",
       "      <td> 2013-05-31 00:00:00</td>\n",
       "      <td>            bellco glass inc</td>\n",
       "      <td> noncatalog product</td>\n",
       "      <td> septum stopper 20mm blue butyl rubber qtyperca...</td>\n",
       "      <td>                             </td>\n",
       "      <td>  1</td>\n",
       "      <td>  77.41</td>\n",
       "      <td>NaN</td>\n",
       "      <td>   william</td>\n",
       "      <td>     wolf</td>\n",
       "      <td>                 NaN</td>\n",
       "      <td>     cchem res research</td>\n",
       "      <td> 104.67</td>\n",
       "    </tr>\n",
       "    <tr>\n",
       "      <th>3</th>\n",
       "      <td> 29847820</td>\n",
       "      <td> BB00195885</td>\n",
       "      <td> 2013-05-31 00:00:00</td>\n",
       "      <td> chemglass life sciences llc</td>\n",
       "      <td> noncatalog product</td>\n",
       "      <td> column chromatography 24/40 outer joint 100ml ...</td>\n",
       "      <td>                             </td>\n",
       "      <td>  1</td>\n",
       "      <td> 108.00</td>\n",
       "      <td>NaN</td>\n",
       "      <td>   william</td>\n",
       "      <td>     wolf</td>\n",
       "      <td> 2014-10-30 00:00:00</td>\n",
       "      <td>     cchem res research</td>\n",
       "      <td>  71.77</td>\n",
       "    </tr>\n",
       "    <tr>\n",
       "      <th>4</th>\n",
       "      <td> 29847565</td>\n",
       "      <td> BB00195881</td>\n",
       "      <td> 2013-05-31 00:00:00</td>\n",
       "      <td>           fisher scientific</td>\n",
       "      <td>  sq hosted product</td>\n",
       "      <td> bottles media/lab wheaton graduated with rubbe...</td>\n",
       "      <td> wheaton science products inc</td>\n",
       "      <td>  1</td>\n",
       "      <td> 135.38</td>\n",
       "      <td>NaN</td>\n",
       "      <td> donald c.</td>\n",
       "      <td>      rio</td>\n",
       "      <td>                 NaN</td>\n",
       "      <td>      immcb bh research</td>\n",
       "      <td> 317.31</td>\n",
       "    </tr>\n",
       "  </tbody>\n",
       "</table>\n",
       "</div>"
      ],
      "text/plain": [
       "      po_id      po_num        creation_date                supplier_name  \\\n",
       "0  29847876  BB00195887  2013-05-31 00:00:00          give something back   \n",
       "1  29847864  BB00195886  2013-05-31 00:00:00                 grainger inc   \n",
       "2  29847796  BB00195884  2013-05-31 00:00:00             bellco glass inc   \n",
       "3  29847820  BB00195885  2013-05-31 00:00:00  chemglass life sciences llc   \n",
       "4  29847565  BB00195881  2013-05-31 00:00:00            fisher scientific   \n",
       "\n",
       "            item_type                                product_description  \\\n",
       "0   sq hosted product  portable combination laptop lock 6 ft carbon s...   \n",
       "1    punchout product  wall mount fan oscillating number of speeds 3 ...   \n",
       "2  noncatalog product  septum stopper 20mm blue butyl rubber qtyperca...   \n",
       "3  noncatalog product  column chromatography 24/40 outer joint 100ml ...   \n",
       "4   sq hosted product  bottles media/lab wheaton graduated with rubbe...   \n",
       "\n",
       "                   manufacturer  quantity  unit_price  department  \\\n",
       "0                    kensington        30       24.32         NaN   \n",
       "1                      air king         1       35.58         NaN   \n",
       "2                                       1       77.41         NaN   \n",
       "3                                       1      108.00         NaN   \n",
       "4  wheaton science products inc         1      135.38         NaN   \n",
       "\n",
       "  buyer__first_name buyer__last_name       po_closed_date  \\\n",
       "0            dustin           miller  2013-07-16 00:00:00   \n",
       "1              erin         pinkston  2013-08-08 00:00:00   \n",
       "2           william             wolf                  NaN   \n",
       "3           william             wolf  2014-10-30 00:00:00   \n",
       "4         donald c.              rio                  NaN   \n",
       "\n",
       "          department_name   spend  \n",
       "0  uiapa ub academic year  795.26  \n",
       "1  ukhds unit 1 apt admin   38.78  \n",
       "2      cchem res research  104.67  \n",
       "3      cchem res research   71.77  \n",
       "4       immcb bh research  317.31  "
      ]
     },
     "execution_count": 8,
     "metadata": {},
     "output_type": "execute_result"
    }
   ],
   "source": [
    "df.head()"
   ]
  },
  {
   "cell_type": "markdown",
   "metadata": {},
   "source": [
    "## Exploratory"
   ]
  },
  {
   "cell_type": "markdown",
   "metadata": {},
   "source": [
    "### Product Description"
   ]
  },
  {
   "cell_type": "markdown",
   "metadata": {},
   "source": [
    "#### Unique Entries"
   ]
  },
  {
   "cell_type": "code",
   "execution_count": 9,
   "metadata": {
    "collapsed": false
   },
   "outputs": [
    {
     "data": {
      "text/plain": [
       "product_description\n",
       "                                                                4\n",
       "-                                                               3\n",
       "- - -pinene analytical standard for terpene analysis            1\n",
       "- - do not voucher - - blanket po for purchase of compressed gas cylinders    1\n",
       "- - do not voucher - - create blanket po for gas purchase 2500 per year    1\n",
       "- - do not voucher - - customer 1352373 uc berkeley mathematics contract 1208326 ending 6/30/13 serial khn02814 208 26 for 7 months 300 for copy overage    1\n",
       "- - do not voucher - - customer 1352373 uc berkeley mathematics contract 1208326 ending 6/30/14 serial khn02814 238 97 for 12 months 500 for copy overage    1\n",
       "- - do not voucher - - customer 1352373 uc berkeley mathematics contract 1209454 ending 6/30/13 serial mpg77265 56 11 for 7 months 100 for copy overage    1\n",
       "- - do not voucher - - customer 1352373 uc berkeley mathematics contract 1209454 ending 6/30/14 serial mpg77265 63 99 for 12 months 100 for copy overage    2\n",
       "- - no not voucher - - replaces po bb00247686 for francis dry ice account fq893    2\n",
       "- -1 2-bis 2r 5r -2 5-diphenylphospholano ethane kanata purity    1\n",
       "- -1 2-bis 2s 5s -2 5-dimethylphospholano ethane                1\n",
       "- -2-methyl-d3-isoborneol99 atom dcas 135441-89-3               1\n",
       "- -4 5-bis hydroxy diphenyl methyl -2 2-dimethyl-1 3-dioxolane    1\n",
       "- -8-phenylmenthol 97 acros organics 250mg glass bottle packed in plastic container 1/ea 387952500    1\n",
       "...\n",
       "zyppy plasmid miniprep kit 400 preps/unit same as d4020 please refer to quote 250028446 for discounted pricing    1\n",
       "zyppy plasmid miniprep kit 50 preps promo code zr-holiday       1\n",
       "zyppy plasmid miniprep kit 800 preps                            9\n",
       "zyppy plasmid miniprep kit 800 preps d4037                      1\n",
       "zyppy plasmid miniprep kit 800 prepshttp //www zymoresearch com/dna/plasmid-dna-purification/zyppy-plasmid-miniprep-kit    3\n",
       "zyppy plasmid miniprep kit 800use code pc-plasmid please        1\n",
       "zyppy plasmid miniprep kit please use promo sweet19bday for free shipping 20 etc    1\n",
       "zyppy plasmid miniprep zymo research kit 400 preps/unit         1\n",
       "zyppy wash buffer                                               1\n",
       "zyppy wash buffer - 48 mlhttp //www zymoresearch com/components/zyppy-plasmid-miniprep-kit-components-3    1\n",
       "zyppy wash buffer 48 ml                                         8\n",
       "zyxel es 1100 8p switch 8 ports unmanaged desktop wall mountable    1\n",
       "zyxel zywall 110 security appliance                             1\n",
       "zyxel zywall usg 300 security appliance                         1\n",
       "zyxin mouse mab zz001                                           1\n",
       "Name: product_description, Length: 293788, dtype: int64"
      ]
     },
     "execution_count": 9,
     "metadata": {},
     "output_type": "execute_result"
    }
   ],
   "source": [
    "df.groupby('product_description')['product_description'].count()"
   ]
  },
  {
   "cell_type": "markdown",
   "metadata": {
    "collapsed": true
   },
   "source": [
    "#### Unique Words"
   ]
  },
  {
   "cell_type": "code",
   "execution_count": 7,
   "metadata": {
    "collapsed": false
   },
   "outputs": [],
   "source": [
    "words = [w.strip().split(' ') for w in df.product_description.dropna().values]"
   ]
  },
  {
   "cell_type": "code",
   "execution_count": 8,
   "metadata": {
    "collapsed": false
   },
   "outputs": [],
   "source": [
    "word_list = [i for word in words for i in word]"
   ]
  },
  {
   "cell_type": "code",
   "execution_count": 9,
   "metadata": {
    "collapsed": true
   },
   "outputs": [],
   "source": [
    "word_counts = Counter(word_list)"
   ]
  },
  {
   "cell_type": "code",
   "execution_count": 10,
   "metadata": {
    "collapsed": false
   },
   "outputs": [],
   "source": [
    "top_100_words = word_counts.most_common(100)"
   ]
  },
  {
   "cell_type": "markdown",
   "metadata": {},
   "source": [
    "### Total words"
   ]
  },
  {
   "cell_type": "code",
   "execution_count": null,
   "metadata": {
    "collapsed": true
   },
   "outputs": [],
   "source": []
  },
  {
   "cell_type": "markdown",
   "metadata": {},
   "source": [
    "### Identify stop words"
   ]
  }
 ],
 "metadata": {
  "kernelspec": {
   "display_name": "Python 2",
   "language": "python",
   "name": "python2"
  },
  "language_info": {
   "codemirror_mode": {
    "name": "ipython",
    "version": 2
   },
   "file_extension": ".py",
   "mimetype": "text/x-python",
   "name": "python",
   "nbconvert_exporter": "python",
   "pygments_lexer": "ipython2",
   "version": "2.7.9"
  }
 },
 "nbformat": 4,
 "nbformat_minor": 0
}
