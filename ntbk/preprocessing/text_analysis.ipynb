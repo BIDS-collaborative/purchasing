{
 "cells": [
  {
   "cell_type": "markdown",
   "metadata": {},
   "source": [
    "# Text Analysis"
   ]
  },
  {
   "cell_type": "markdown",
   "metadata": {},
   "source": [
    "Notebook by: Juan Shishido"
   ]
  },
  {
   "cell_type": "markdown",
   "metadata": {},
   "source": [
    "In this notebook, I'll start cleaning the text columns and, more importantly, thinking about how to classify and group the data within them. Consider using n-grams for word occurence."
   ]
  },
  {
   "cell_type": "markdown",
   "metadata": {},
   "source": [
    "## Imports"
   ]
  },
  {
   "cell_type": "code",
   "execution_count": 1,
   "metadata": {
    "collapsed": true
   },
   "outputs": [],
   "source": [
    "import re\n",
    "import random\n",
    "#import lda\n",
    "import csv\n",
    "import numpy as np\n",
    "import pandas as pd\n",
    "from collections import Counter\n",
    "from nltk.corpus import stopwords\n",
    "from nltk.tokenize import word_tokenize\n",
    "from sklearn.feature_extraction.text import CountVectorizer"
   ]
  },
  {
   "cell_type": "markdown",
   "metadata": {},
   "source": [
    "## Load"
   ]
  },
  {
   "cell_type": "code",
   "execution_count": 2,
   "metadata": {
    "collapsed": false
   },
   "outputs": [],
   "source": [
    "df = pd.read_csv('../../data/cleaned/UCB_dept_merge.csv')"
   ]
  },
  {
   "cell_type": "code",
   "execution_count": 3,
   "metadata": {
    "collapsed": true
   },
   "outputs": [],
   "source": [
    "df['product_line'] = df['supplier_name'] + ' ' + \\\n",
    "                     df['product_description'] + ' ' + \\\n",
    "                     df['manufacturer']"
   ]
  },
  {
   "cell_type": "markdown",
   "metadata": {},
   "source": [
    "**Account for NaN in column name.**"
   ]
  },
  {
   "cell_type": "markdown",
   "metadata": {},
   "source": [
    "### Random Sample: 40,000"
   ]
  },
  {
   "cell_type": "code",
   "execution_count": 4,
   "metadata": {
    "collapsed": true
   },
   "outputs": [],
   "source": [
    "random.seed(8675309)\n",
    "rows = random.sample(df.index, 40000)\n",
    "df = df.ix[rows].reset_index()"
   ]
  },
  {
   "cell_type": "code",
   "execution_count": 5,
   "metadata": {
    "collapsed": false
   },
   "outputs": [
    {
     "data": {
      "text/html": [
       "<div style=\"max-height:1000px;max-width:1500px;overflow:auto;\">\n",
       "<table border=\"1\" class=\"dataframe\">\n",
       "  <thead>\n",
       "    <tr style=\"text-align: right;\">\n",
       "      <th></th>\n",
       "      <th>index</th>\n",
       "      <th>po_id</th>\n",
       "      <th>po_num</th>\n",
       "      <th>creation_date</th>\n",
       "      <th>supplier_name</th>\n",
       "      <th>item_type</th>\n",
       "      <th>product_description</th>\n",
       "      <th>manufacturer</th>\n",
       "      <th>quantity</th>\n",
       "      <th>unit_price</th>\n",
       "      <th>department</th>\n",
       "      <th>buyer__first_name</th>\n",
       "      <th>buyer__last_name</th>\n",
       "      <th>po_closed_date</th>\n",
       "      <th>department_name</th>\n",
       "      <th>spend</th>\n",
       "      <th>product_line</th>\n",
       "    </tr>\n",
       "  </thead>\n",
       "  <tbody>\n",
       "    <tr>\n",
       "      <th>0</th>\n",
       "      <td> 245817</td>\n",
       "      <td> 35963640</td>\n",
       "      <td> BB00319075</td>\n",
       "      <td> 2014-02-11 00:00:00</td>\n",
       "      <td> FISHER SCIENTIFIC</td>\n",
       "      <td>  SQ Hosted Product</td>\n",
       "      <td> Molecular BioProducts Electroporation Cuvettes...</td>\n",
       "      <td>    Molecular BioProducts</td>\n",
       "      <td> 2</td>\n",
       "      <td> 109.07</td>\n",
       "      <td>NaN</td>\n",
       "      <td>     Jon</td>\n",
       "      <td> Kuchenreuther</td>\n",
       "      <td> 2014-07-16 00:00:00</td>\n",
       "      <td>      OOEBI Depolymerization</td>\n",
       "      <td>  767.03</td>\n",
       "      <td> FISHER SCIENTIFIC Molecular BioProducts Electr...</td>\n",
       "    </tr>\n",
       "    <tr>\n",
       "      <th>1</th>\n",
       "      <td> 311817</td>\n",
       "      <td> 27067475</td>\n",
       "      <td> BB00134494</td>\n",
       "      <td> 2013-02-04 00:00:00</td>\n",
       "      <td>        OFFICE MAX</td>\n",
       "      <td>  SQ Hosted Product</td>\n",
       "      <td>              Tablemate - Balloons, Color Assorted</td>\n",
       "      <td>  TABLE MATE PRODUCTS INC</td>\n",
       "      <td> 1</td>\n",
       "      <td>  16.81</td>\n",
       "      <td>NaN</td>\n",
       "      <td> William</td>\n",
       "      <td>          Wolf</td>\n",
       "      <td> 2013-04-22 00:00:00</td>\n",
       "      <td>      OOEBI Depolymerization</td>\n",
       "      <td>   18.32</td>\n",
       "      <td> OFFICE MAX Tablemate - Balloons, Color Assorte...</td>\n",
       "    </tr>\n",
       "    <tr>\n",
       "      <th>2</th>\n",
       "      <td> 405620</td>\n",
       "      <td> 30901583</td>\n",
       "      <td> BB00218407</td>\n",
       "      <td> 2013-07-16 00:00:00</td>\n",
       "      <td>      GRAINGER INC</td>\n",
       "      <td>   PunchOut Product</td>\n",
       "      <td> CS2460120 Split Lock Washer, Spring Steel, Zin...</td>\n",
       "      <td> GRAINGER APPROVED VENDOR</td>\n",
       "      <td> 1</td>\n",
       "      <td>   2.46</td>\n",
       "      <td>NaN</td>\n",
       "      <td>    MIKE</td>\n",
       "      <td>       COURTER</td>\n",
       "      <td> 2013-10-02 00:00:00</td>\n",
       "      <td>      FJPPS BM Plumbing Shop</td>\n",
       "      <td> 1890.47</td>\n",
       "      <td> GRAINGER INC CS2460120 Split Lock Washer, Spri...</td>\n",
       "    </tr>\n",
       "    <tr>\n",
       "      <th>3</th>\n",
       "      <td> 525992</td>\n",
       "      <td> 24759795</td>\n",
       "      <td> BB00085067</td>\n",
       "      <td> 2012-10-11 00:00:00</td>\n",
       "      <td>      Thorlabs Inc</td>\n",
       "      <td> NonCatalog Product</td>\n",
       "      <td>  SM05 Threaded Kinematic Cage Mount O1/2\" Optics.</td>\n",
       "      <td>                 Thorlabs</td>\n",
       "      <td> 1</td>\n",
       "      <td>  82.00</td>\n",
       "      <td>NaN</td>\n",
       "      <td> Michael</td>\n",
       "      <td>      Hohensee</td>\n",
       "      <td> 2013-03-01 00:00:00</td>\n",
       "      <td> PHYSI SS Atomic &amp; Molecular</td>\n",
       "      <td> 4783.54</td>\n",
       "      <td> Thorlabs Inc SM05 Threaded Kinematic Cage Moun...</td>\n",
       "    </tr>\n",
       "    <tr>\n",
       "      <th>4</th>\n",
       "      <td> 171686</td>\n",
       "      <td> 35510783</td>\n",
       "      <td> BB00309841</td>\n",
       "      <td> 2014-01-24 00:00:00</td>\n",
       "      <td> FISHER SCIENTIFIC</td>\n",
       "      <td> NonCatalog Product</td>\n",
       "      <td>               10 mL serological pipettes 200/case</td>\n",
       "      <td>                      NaN</td>\n",
       "      <td> 3</td>\n",
       "      <td>  29.20</td>\n",
       "      <td>NaN</td>\n",
       "      <td>  Philip</td>\n",
       "      <td>        Nguyen</td>\n",
       "      <td> 2014-10-30 00:00:00</td>\n",
       "      <td>           IMMCB BH Research</td>\n",
       "      <td>  745.20</td>\n",
       "      <td>                                               NaN</td>\n",
       "    </tr>\n",
       "  </tbody>\n",
       "</table>\n",
       "</div>"
      ],
      "text/plain": [
       "    index     po_id      po_num        creation_date      supplier_name  \\\n",
       "0  245817  35963640  BB00319075  2014-02-11 00:00:00  FISHER SCIENTIFIC   \n",
       "1  311817  27067475  BB00134494  2013-02-04 00:00:00         OFFICE MAX   \n",
       "2  405620  30901583  BB00218407  2013-07-16 00:00:00       GRAINGER INC   \n",
       "3  525992  24759795  BB00085067  2012-10-11 00:00:00       Thorlabs Inc   \n",
       "4  171686  35510783  BB00309841  2014-01-24 00:00:00  FISHER SCIENTIFIC   \n",
       "\n",
       "            item_type                                product_description  \\\n",
       "0   SQ Hosted Product  Molecular BioProducts Electroporation Cuvettes...   \n",
       "1   SQ Hosted Product               Tablemate - Balloons, Color Assorted   \n",
       "2    PunchOut Product  CS2460120 Split Lock Washer, Spring Steel, Zin...   \n",
       "3  NonCatalog Product   SM05 Threaded Kinematic Cage Mount O1/2\" Optics.   \n",
       "4  NonCatalog Product                10 mL serological pipettes 200/case   \n",
       "\n",
       "               manufacturer  quantity  unit_price  department  \\\n",
       "0     Molecular BioProducts         2      109.07         NaN   \n",
       "1   TABLE MATE PRODUCTS INC         1       16.81         NaN   \n",
       "2  GRAINGER APPROVED VENDOR         1        2.46         NaN   \n",
       "3                  Thorlabs         1       82.00         NaN   \n",
       "4                       NaN         3       29.20         NaN   \n",
       "\n",
       "  buyer__first_name buyer__last_name       po_closed_date  \\\n",
       "0               Jon    Kuchenreuther  2014-07-16 00:00:00   \n",
       "1           William             Wolf  2013-04-22 00:00:00   \n",
       "2              MIKE          COURTER  2013-10-02 00:00:00   \n",
       "3           Michael         Hohensee  2013-03-01 00:00:00   \n",
       "4            Philip           Nguyen  2014-10-30 00:00:00   \n",
       "\n",
       "               department_name    spend  \\\n",
       "0       OOEBI Depolymerization   767.03   \n",
       "1       OOEBI Depolymerization    18.32   \n",
       "2       FJPPS BM Plumbing Shop  1890.47   \n",
       "3  PHYSI SS Atomic & Molecular  4783.54   \n",
       "4            IMMCB BH Research   745.20   \n",
       "\n",
       "                                        product_line  \n",
       "0  FISHER SCIENTIFIC Molecular BioProducts Electr...  \n",
       "1  OFFICE MAX Tablemate - Balloons, Color Assorte...  \n",
       "2  GRAINGER INC CS2460120 Split Lock Washer, Spri...  \n",
       "3  Thorlabs Inc SM05 Threaded Kinematic Cage Moun...  \n",
       "4                                                NaN  "
      ]
     },
     "execution_count": 5,
     "metadata": {},
     "output_type": "execute_result"
    }
   ],
   "source": [
    "df.head()"
   ]
  },
  {
   "cell_type": "markdown",
   "metadata": {},
   "source": [
    "## Transform"
   ]
  },
  {
   "cell_type": "markdown",
   "metadata": {},
   "source": [
    "This code:\n",
    "\n",
    "* removes NaNs\n",
    "* converts all to lowercase\n",
    "* removes URLs\n",
    "* replaces forward slashes _not_ associated with fractions with a single space\n",
    "* replaces characters that are _not_ alphanumeric, periods, percent signs, or forward slashes with a single space\n",
    "* removes multiple periods\n",
    "* removes individual letters (with spaces on either side)\n",
    "* removes multiple whitespace\n",
    "\n",
    "In a later step, numbers _not_ associated with a percent sign are removed."
   ]
  },
  {
   "cell_type": "code",
   "execution_count": 6,
   "metadata": {
    "collapsed": true
   },
   "outputs": [],
   "source": [
    "cols = ['supplier_name', 'item_type', 'product_description', 'manufacturer', \n",
    "        'buyer__first_name', 'buyer__last_name', 'department_name', 'product_line']"
   ]
  },
  {
   "cell_type": "code",
   "execution_count": 7,
   "metadata": {
    "collapsed": false
   },
   "outputs": [],
   "source": [
    "for col in cols:\n",
    "    df[col] = df[col].replace(np.nan, '' , regex=True)                                      \\\n",
    "                     .apply(lambda x: x.lower())                                            \\\n",
    "                     .apply(lambda x: re.sub('(http\\S*|www\\S*)', '', x))                    \\\n",
    "                     .apply(lambda x: re.sub('((?<=\\D)/|/(?=\\D))', ' ', x))                 \\\n",
    "                     .apply(lambda x: re.sub('[^A-Za-z0-9.%\\/]+', ' ', x))                  \\\n",
    "                     .apply(lambda x: re.sub('\\.+', '', x))                                 \\\n",
    "                     .apply(lambda x: re.sub('(?<=\\s)\\w(?=\\s)|(?<=\\s)\\d(?=\\s)', '', x))     \\\n",
    "                     .apply(lambda x: re.sub('\\s+', ' ', x).strip())"
   ]
  },
  {
   "cell_type": "code",
   "execution_count": 8,
   "metadata": {
    "collapsed": false
   },
   "outputs": [
    {
     "data": {
      "text/html": [
       "<div style=\"max-height:1000px;max-width:1500px;overflow:auto;\">\n",
       "<table border=\"1\" class=\"dataframe\">\n",
       "  <thead>\n",
       "    <tr style=\"text-align: right;\">\n",
       "      <th></th>\n",
       "      <th>index</th>\n",
       "      <th>po_id</th>\n",
       "      <th>po_num</th>\n",
       "      <th>creation_date</th>\n",
       "      <th>supplier_name</th>\n",
       "      <th>item_type</th>\n",
       "      <th>product_description</th>\n",
       "      <th>manufacturer</th>\n",
       "      <th>quantity</th>\n",
       "      <th>unit_price</th>\n",
       "      <th>department</th>\n",
       "      <th>buyer__first_name</th>\n",
       "      <th>buyer__last_name</th>\n",
       "      <th>po_closed_date</th>\n",
       "      <th>department_name</th>\n",
       "      <th>spend</th>\n",
       "      <th>product_line</th>\n",
       "    </tr>\n",
       "  </thead>\n",
       "  <tbody>\n",
       "    <tr>\n",
       "      <th>0</th>\n",
       "      <td> 245817</td>\n",
       "      <td> 35963640</td>\n",
       "      <td> BB00319075</td>\n",
       "      <td> 2014-02-11 00:00:00</td>\n",
       "      <td> fisher scientific</td>\n",
       "      <td>  sq hosted product</td>\n",
       "      <td> molecular bioproducts electroporation cuvettes...</td>\n",
       "      <td>    molecular bioproducts</td>\n",
       "      <td> 2</td>\n",
       "      <td> 109.07</td>\n",
       "      <td>NaN</td>\n",
       "      <td>     jon</td>\n",
       "      <td> kuchenreuther</td>\n",
       "      <td> 2014-07-16 00:00:00</td>\n",
       "      <td>    ooebi depolymerization</td>\n",
       "      <td>  767.03</td>\n",
       "      <td> fisher scientific molecular bioproducts electr...</td>\n",
       "    </tr>\n",
       "    <tr>\n",
       "      <th>1</th>\n",
       "      <td> 311817</td>\n",
       "      <td> 27067475</td>\n",
       "      <td> BB00134494</td>\n",
       "      <td> 2013-02-04 00:00:00</td>\n",
       "      <td>        office max</td>\n",
       "      <td>  sq hosted product</td>\n",
       "      <td>                 tablemate balloons color assorted</td>\n",
       "      <td>  table mate products inc</td>\n",
       "      <td> 1</td>\n",
       "      <td>  16.81</td>\n",
       "      <td>NaN</td>\n",
       "      <td> william</td>\n",
       "      <td>          wolf</td>\n",
       "      <td> 2013-04-22 00:00:00</td>\n",
       "      <td>    ooebi depolymerization</td>\n",
       "      <td>   18.32</td>\n",
       "      <td> office max tablemate balloons color assorted t...</td>\n",
       "    </tr>\n",
       "    <tr>\n",
       "      <th>2</th>\n",
       "      <td> 405620</td>\n",
       "      <td> 30901583</td>\n",
       "      <td> BB00218407</td>\n",
       "      <td> 2013-07-16 00:00:00</td>\n",
       "      <td>      grainger inc</td>\n",
       "      <td>   punchout product</td>\n",
       "      <td> cs2460120 split lock washer spring steel zinc ...</td>\n",
       "      <td> grainger approved vendor</td>\n",
       "      <td> 1</td>\n",
       "      <td>   2.46</td>\n",
       "      <td>NaN</td>\n",
       "      <td>    mike</td>\n",
       "      <td>       courter</td>\n",
       "      <td> 2013-10-02 00:00:00</td>\n",
       "      <td>    fjpps bm plumbing shop</td>\n",
       "      <td> 1890.47</td>\n",
       "      <td> grainger inc cs2460120 split lock washer sprin...</td>\n",
       "    </tr>\n",
       "    <tr>\n",
       "      <th>3</th>\n",
       "      <td> 525992</td>\n",
       "      <td> 24759795</td>\n",
       "      <td> BB00085067</td>\n",
       "      <td> 2012-10-11 00:00:00</td>\n",
       "      <td>      thorlabs inc</td>\n",
       "      <td> noncatalog product</td>\n",
       "      <td>    sm05 threaded kinematic cage mount o1/2 optics</td>\n",
       "      <td>                 thorlabs</td>\n",
       "      <td> 1</td>\n",
       "      <td>  82.00</td>\n",
       "      <td>NaN</td>\n",
       "      <td> michael</td>\n",
       "      <td>      hohensee</td>\n",
       "      <td> 2013-03-01 00:00:00</td>\n",
       "      <td> physi ss atomic molecular</td>\n",
       "      <td> 4783.54</td>\n",
       "      <td> thorlabs inc sm05 threaded kinematic cage moun...</td>\n",
       "    </tr>\n",
       "    <tr>\n",
       "      <th>4</th>\n",
       "      <td> 171686</td>\n",
       "      <td> 35510783</td>\n",
       "      <td> BB00309841</td>\n",
       "      <td> 2014-01-24 00:00:00</td>\n",
       "      <td> fisher scientific</td>\n",
       "      <td> noncatalog product</td>\n",
       "      <td>               10 ml serological pipettes 200 case</td>\n",
       "      <td>                         </td>\n",
       "      <td> 3</td>\n",
       "      <td>  29.20</td>\n",
       "      <td>NaN</td>\n",
       "      <td>  philip</td>\n",
       "      <td>        nguyen</td>\n",
       "      <td> 2014-10-30 00:00:00</td>\n",
       "      <td>         immcb bh research</td>\n",
       "      <td>  745.20</td>\n",
       "      <td>                                                  </td>\n",
       "    </tr>\n",
       "  </tbody>\n",
       "</table>\n",
       "</div>"
      ],
      "text/plain": [
       "    index     po_id      po_num        creation_date      supplier_name  \\\n",
       "0  245817  35963640  BB00319075  2014-02-11 00:00:00  fisher scientific   \n",
       "1  311817  27067475  BB00134494  2013-02-04 00:00:00         office max   \n",
       "2  405620  30901583  BB00218407  2013-07-16 00:00:00       grainger inc   \n",
       "3  525992  24759795  BB00085067  2012-10-11 00:00:00       thorlabs inc   \n",
       "4  171686  35510783  BB00309841  2014-01-24 00:00:00  fisher scientific   \n",
       "\n",
       "            item_type                                product_description  \\\n",
       "0   sq hosted product  molecular bioproducts electroporation cuvettes...   \n",
       "1   sq hosted product                  tablemate balloons color assorted   \n",
       "2    punchout product  cs2460120 split lock washer spring steel zinc ...   \n",
       "3  noncatalog product     sm05 threaded kinematic cage mount o1/2 optics   \n",
       "4  noncatalog product                10 ml serological pipettes 200 case   \n",
       "\n",
       "               manufacturer  quantity  unit_price  department  \\\n",
       "0     molecular bioproducts         2      109.07         NaN   \n",
       "1   table mate products inc         1       16.81         NaN   \n",
       "2  grainger approved vendor         1        2.46         NaN   \n",
       "3                  thorlabs         1       82.00         NaN   \n",
       "4                                   3       29.20         NaN   \n",
       "\n",
       "  buyer__first_name buyer__last_name       po_closed_date  \\\n",
       "0               jon    kuchenreuther  2014-07-16 00:00:00   \n",
       "1           william             wolf  2013-04-22 00:00:00   \n",
       "2              mike          courter  2013-10-02 00:00:00   \n",
       "3           michael         hohensee  2013-03-01 00:00:00   \n",
       "4            philip           nguyen  2014-10-30 00:00:00   \n",
       "\n",
       "             department_name    spend  \\\n",
       "0     ooebi depolymerization   767.03   \n",
       "1     ooebi depolymerization    18.32   \n",
       "2     fjpps bm plumbing shop  1890.47   \n",
       "3  physi ss atomic molecular  4783.54   \n",
       "4          immcb bh research   745.20   \n",
       "\n",
       "                                        product_line  \n",
       "0  fisher scientific molecular bioproducts electr...  \n",
       "1  office max tablemate balloons color assorted t...  \n",
       "2  grainger inc cs2460120 split lock washer sprin...  \n",
       "3  thorlabs inc sm05 threaded kinematic cage moun...  \n",
       "4                                                     "
      ]
     },
     "execution_count": 8,
     "metadata": {},
     "output_type": "execute_result"
    }
   ],
   "source": [
    "df.head()"
   ]
  },
  {
   "cell_type": "markdown",
   "metadata": {},
   "source": [
    "## Bag of Words"
   ]
  },
  {
   "cell_type": "markdown",
   "metadata": {},
   "source": [
    "### Tokenize"
   ]
  },
  {
   "cell_type": "code",
   "execution_count": 9,
   "metadata": {
    "collapsed": false
   },
   "outputs": [],
   "source": [
    "tokenized_pd = [word_tokenize(line) for line in df.product_line]"
   ]
  },
  {
   "cell_type": "markdown",
   "metadata": {},
   "source": [
    "### Stop Words"
   ]
  },
  {
   "cell_type": "markdown",
   "metadata": {},
   "source": [
    "Removing English stopwords from NLTK."
   ]
  },
  {
   "cell_type": "code",
   "execution_count": 10,
   "metadata": {
    "collapsed": false
   },
   "outputs": [],
   "source": [
    "stop_words = stopwords.words('english') + \\\n",
    "             [u'ea', u'per', u'item', u'description', u'quote', u'pk', u'pack',\n",
    "              'give', 'something', 'inc', 'corporation', 'quantity', 'back',\n",
    "              'products', 'co', 'officemax', 'unit', 'corp']"
   ]
  },
  {
   "cell_type": "markdown",
   "metadata": {},
   "source": [
    "This code:\n",
    "\n",
    "* removes English stop words\n",
    "* removes numbers (excludes numbers with non-numeric characters attached)\n",
    "* removes single characters"
   ]
  },
  {
   "cell_type": "code",
   "execution_count": 11,
   "metadata": {
    "collapsed": false
   },
   "outputs": [],
   "source": [
    "tokenized_pd_clean = []\n",
    "\n",
    "for entry in tokenized_pd:\n",
    "    entry_list = []\n",
    "    for word in entry:\n",
    "        if ((not word in stop_words) and \\\n",
    "        (not unicode(word).isnumeric()) and \\\n",
    "        (not len(word) <= 1)):\n",
    "            entry_list.append(word)\n",
    "    tokenized_pd_clean.append(entry_list)"
   ]
  },
  {
   "cell_type": "markdown",
   "metadata": {},
   "source": [
    "### To DF"
   ]
  },
  {
   "cell_type": "code",
   "execution_count": 12,
   "metadata": {
    "collapsed": false
   },
   "outputs": [],
   "source": [
    "df['tokenized_pd_clean'] = tokenized_pd_clean"
   ]
  },
  {
   "cell_type": "markdown",
   "metadata": {},
   "source": [
    "### Words to Features"
   ]
  },
  {
   "cell_type": "code",
   "execution_count": 13,
   "metadata": {
    "collapsed": false
   },
   "outputs": [],
   "source": [
    "pd_list_clean = []\n",
    "\n",
    "for item in tokenized_pd_clean:\n",
    "    pd_list_clean.append(' '.join(item))"
   ]
  },
  {
   "cell_type": "code",
   "execution_count": 14,
   "metadata": {
    "collapsed": true
   },
   "outputs": [],
   "source": [
    "vectorizer = CountVectorizer(analyzer = \"word\", \n",
    "                             tokenizer = None, \n",
    "                             preprocessor = None, \n",
    "                             stop_words = None)"
   ]
  },
  {
   "cell_type": "code",
   "execution_count": 15,
   "metadata": {
    "collapsed": false
   },
   "outputs": [],
   "source": [
    "word_features = vectorizer.fit_transform(pd_list_clean).toarray()"
   ]
  },
  {
   "cell_type": "code",
   "execution_count": 16,
   "metadata": {
    "collapsed": false
   },
   "outputs": [
    {
     "data": {
      "text/plain": [
       "(40000, 23542)"
      ]
     },
     "execution_count": 16,
     "metadata": {},
     "output_type": "execute_result"
    }
   ],
   "source": [
    "word_features.shape"
   ]
  },
  {
   "cell_type": "code",
   "execution_count": 17,
   "metadata": {
    "collapsed": false
   },
   "outputs": [
    {
     "data": {
      "text/plain": [
       "array([[0, 0, 0, ..., 0, 0, 0],\n",
       "       [0, 0, 0, ..., 0, 0, 0],\n",
       "       [0, 0, 0, ..., 0, 0, 0],\n",
       "       [0, 0, 0, ..., 0, 0, 0],\n",
       "       [0, 0, 0, ..., 0, 0, 0]])"
      ]
     },
     "execution_count": 17,
     "metadata": {},
     "output_type": "execute_result"
    }
   ],
   "source": [
    "word_features[0:5,:]"
   ]
  },
  {
   "cell_type": "code",
   "execution_count": 18,
   "metadata": {
    "collapsed": false
   },
   "outputs": [
    {
     "name": "stdout",
     "output_type": "stream",
     "text": [
      "[u'0001g', u'0001mm', u'0002mm', u'0003mm', u'00067m', u'000bp', u'000mw', u'000u', u'000ug', u'000v', u'000w', u'000x', u'000xg', u'0010in', u'0011in']\n"
     ]
    }
   ],
   "source": [
    "vocab = vectorizer.get_feature_names()\n",
    "print vocab[:15]"
   ]
  },
  {
   "cell_type": "code",
   "execution_count": 19,
   "metadata": {
    "collapsed": false
   },
   "outputs": [],
   "source": [
    "vocab_map = vectorizer.vocabulary_"
   ]
  },
  {
   "cell_type": "markdown",
   "metadata": {},
   "source": [
    "## LDA"
   ]
  },
  {
   "cell_type": "code",
   "execution_count": 23,
   "metadata": {
    "collapsed": true
   },
   "outputs": [],
   "source": [
    "X = word_features"
   ]
  },
  {
   "cell_type": "code",
   "execution_count": 24,
   "metadata": {
    "collapsed": false
   },
   "outputs": [
    {
     "name": "stderr",
     "output_type": "stream",
     "text": [
      "WARNING:lda:all zero row in document-term matrix found\n"
     ]
    },
    {
     "data": {
      "text/plain": [
       "<lda.lda.LDA instance at 0x11a7609e0>"
      ]
     },
     "execution_count": 24,
     "metadata": {},
     "output_type": "execute_result"
    }
   ],
   "source": [
    "model = lda.LDA(n_topics=15, n_iter=1500, random_state=8675309)\n",
    "model.fit(X)"
   ]
  },
  {
   "cell_type": "code",
   "execution_count": 25,
   "metadata": {
    "collapsed": false
   },
   "outputs": [],
   "source": [
    "topic_word = model.topic_word_\n",
    "n_top_words = 21\n",
    "\n",
    "with open('../../results/topic_definitions.csv', 'wb') as to_:\n",
    "    writer = csv.writer(to_, delimiter=',', quotechar='\\\"')\n",
    "    doc_topic = model.doc_topic_\n",
    "    for i, topic_dist in enumerate(topic_word):\n",
    "        topic_words = np.array(vocab)[np.argsort(topic_dist)][:-n_top_words:-1]\n",
    "        writer.writerow([i, ' '.join(topic_words)])"
   ]
  },
  {
   "cell_type": "code",
   "execution_count": 26,
   "metadata": {
    "collapsed": false
   },
   "outputs": [],
   "source": [
    "with open('../../results/pd_topics.csv', 'wb') as to_:\n",
    "    writer = csv.writer(to_, delimiter=',', quotechar='\\\"')\n",
    "    doc_topic = model.doc_topic_\n",
    "    for i in range(len(tokenized_pd_clean)):\n",
    "        writer.writerow([tokenized_pd_clean[i], doc_topic[i].argmax()])"
   ]
  },
  {
   "cell_type": "code",
   "execution_count": 27,
   "metadata": {
    "collapsed": false
   },
   "outputs": [
    {
     "name": "stdout",
     "output_type": "stream",
     "text": [
      "('', 13900)\n",
      "('office', 7333)\n",
      "('max', 7150)\n",
      "('inc', 6584)\n",
      "('scientific', 5587)\n",
      "('fisher', 4595)\n",
      "('size', 4276)\n",
      "('back', 4237)\n",
      "('color', 4137)\n",
      "('give', 4106)\n",
      "('something', 4098)\n",
      "('vwr', 4015)\n",
      "('pack', 3809)\n",
      "('sigma', 3507)\n",
      "('aldrich', 3507)\n",
      "('black', 2980)\n",
      "('1/2', 2816)\n",
      "('white', 2543)\n",
      "('type', 2296)\n",
      "('officemax', 2177)\n",
      "('grainger', 2161)\n",
      "('label', 2132)\n",
      "('quantity', 2084)\n",
      "('international', 2025)\n",
      "('private', 2009)\n",
      "('products', 1956)\n",
      "('unit', 1847)\n",
      "('paper', 1752)\n",
      "('corporation', 1680)\n",
      "('length', 1475)\n",
      "('box', 1416)\n",
      "('blue', 1376)\n",
      "('cs', 1361)\n",
      "('ea', 1356)\n",
      "('hp', 1332)\n",
      "('pk', 1191)\n",
      "('corp', 1174)\n",
      "('life', 1143)\n",
      "('dell', 1122)\n",
      "('3m', 1073)\n",
      "('assorted', 1049)\n",
      "('material', 1048)\n",
      "('thermo', 1012)\n",
      "('lb', 1002)\n",
      "('cartridge', 975)\n",
      "('toner', 967)\n",
      "('capacity', 962)\n",
      "('tape', 957)\n",
      "('boise', 936)\n",
      "('sterile', 935)\n",
      "('1/4', 921)\n",
      "('technologies', 920)\n",
      "('steel', 913)\n",
      "('laboratories', 904)\n",
      "('use', 899)\n",
      "('3/4', 898)\n",
      "('cdw', 882)\n",
      "('free', 872)\n",
      "('packard', 855)\n",
      "('hewlett', 854)\n",
      "('ink', 829)\n",
      "('point', 828)\n",
      "('clear', 819)\n",
      "('sanford', 813)\n",
      "('high', 811)\n",
      "('medium', 810)\n",
      "('avery', 803)\n",
      "('yellow', 800)\n",
      "('tip', 800)\n",
      "('universal', 783)\n",
      "('plastic', 778)\n",
      "('chemical', 773)\n",
      "('style', 757)\n",
      "('llc', 753)\n",
      "('tube', 744)\n",
      "('carton', 728)\n",
      "('head', 727)\n",
      "('glass', 724)\n",
      "('recycled', 706)\n",
      "('sheets', 701)\n",
      "('dia', 691)\n",
      "('yield', 688)\n",
      "('bd', 682)\n",
      "('cap', 677)\n",
      "('standard', 662)\n",
      "('oz', 660)\n",
      "('gloves', 656)\n",
      "('tips', 638)\n",
      "('co', 632)\n",
      "('corning', 632)\n",
      "('praxair', 629)\n",
      "('cell', 617)\n",
      "('bottle', 611)\n",
      "('letter', 609)\n",
      "('width', 587)\n",
      "('grade', 578)\n",
      "('disposable', 570)\n",
      "('per', 565)\n",
      "('bio', 563)\n",
      "('page', 560)\n"
     ]
    }
   ],
   "source": [
    "words = [w.strip().split(' ') for w in pd_list_clean]\n",
    "word_list = [i for word in words for i in word]\n",
    "word_counts = Counter(word_list)\n",
    "top_100_words = word_counts.most_common(100)\n",
    "for word in top_100_words:\n",
    "    print word"
   ]
  },
  {
   "cell_type": "markdown",
   "metadata": {
    "collapsed": true
   },
   "source": [
    "## Topics"
   ]
  },
  {
   "cell_type": "markdown",
   "metadata": {},
   "source": [
    "Merge the topic assignments when number of topics is 10."
   ]
  },
  {
   "cell_type": "code",
   "execution_count": 20,
   "metadata": {
    "collapsed": true
   },
   "outputs": [],
   "source": [
    "topics = pd.read_csv('../../results/pd_topics_10.csv', header=None)"
   ]
  },
  {
   "cell_type": "code",
   "execution_count": 21,
   "metadata": {
    "collapsed": false
   },
   "outputs": [],
   "source": [
    "topics.columns = ['tpc', 'topic']"
   ]
  },
  {
   "cell_type": "code",
   "execution_count": 22,
   "metadata": {
    "collapsed": true
   },
   "outputs": [],
   "source": [
    "df['tpc'] = topics.tpc"
   ]
  },
  {
   "cell_type": "code",
   "execution_count": 23,
   "metadata": {
    "collapsed": true
   },
   "outputs": [],
   "source": [
    "df['topic'] = topics.topic"
   ]
  },
  {
   "cell_type": "code",
   "execution_count": 24,
   "metadata": {
    "collapsed": false
   },
   "outputs": [],
   "source": [
    "depts = pd.DataFrame({'count' : df.groupby('department_name')['department_name'].count()}).reset_index()\n",
    "depts.sort('count', ascending=False, inplace=True)"
   ]
  },
  {
   "cell_type": "code",
   "execution_count": 25,
   "metadata": {
    "collapsed": false
   },
   "outputs": [],
   "source": [
    "top15 = depts['department_name'][:25].tolist()"
   ]
  },
  {
   "cell_type": "code",
   "execution_count": 26,
   "metadata": {
    "collapsed": false
   },
   "outputs": [],
   "source": [
    "df_top15 = df[df.department_name.isin(top15)]"
   ]
  },
  {
   "cell_type": "code",
   "execution_count": 27,
   "metadata": {
    "collapsed": false
   },
   "outputs": [],
   "source": [
    "df_top15 = df_top15[df_top15['product_line'] != '']"
   ]
  },
  {
   "cell_type": "code",
   "execution_count": 28,
   "metadata": {
    "collapsed": true
   },
   "outputs": [],
   "source": [
    "topics_by_dept = pd.DataFrame({'count' : df_top15.groupby(['department_name', 'topic'])['topic'].count()}).reset_index()"
   ]
  },
  {
   "cell_type": "code",
   "execution_count": 29,
   "metadata": {
    "collapsed": true
   },
   "outputs": [],
   "source": [
    "topic_def = pd.read_csv('../../results/topics_definitions_10.csv', header=None)"
   ]
  },
  {
   "cell_type": "code",
   "execution_count": 30,
   "metadata": {
    "collapsed": false
   },
   "outputs": [],
   "source": [
    "topic_def.columns = ['topic', 'words']\n",
    "topic_def['words'] = topic_def['words'].apply(lambda x: ', '.join(x.split()[:10]))"
   ]
  },
  {
   "cell_type": "code",
   "execution_count": 31,
   "metadata": {
    "collapsed": true
   },
   "outputs": [],
   "source": [
    "df_top15_final = pd.merge(topics_by_dept, topic_def, on='topic')"
   ]
  },
  {
   "cell_type": "code",
   "execution_count": 32,
   "metadata": {
    "collapsed": false
   },
   "outputs": [],
   "source": [
    "df_top15_final.to_csv('../../results/topic_count_10.csv', index=False)"
   ]
  },
  {
   "cell_type": "code",
   "execution_count": null,
   "metadata": {
    "collapsed": true
   },
   "outputs": [],
   "source": []
  }
 ],
 "metadata": {
  "kernelspec": {
   "display_name": "Python 2",
   "language": "python",
   "name": "python2"
  },
  "language_info": {
   "codemirror_mode": {
    "name": "ipython",
    "version": 2
   },
   "file_extension": ".py",
   "mimetype": "text/x-python",
   "name": "python",
   "nbconvert_exporter": "python",
   "pygments_lexer": "ipython2",
   "version": "2.7.9"
  }
 },
 "nbformat": 4,
 "nbformat_minor": 0
}
