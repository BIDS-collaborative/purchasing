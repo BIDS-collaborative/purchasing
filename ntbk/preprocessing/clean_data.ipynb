{
 "cells": [
  {
   "cell_type": "code",
   "execution_count": 1,
   "metadata": {
    "collapsed": false
   },
   "outputs": [],
   "source": [
    "import pandas as pd\n",
    "import numpy as np\n",
    "from matplotlib import pyplot as plt"
   ]
  },
  {
   "cell_type": "code",
   "execution_count": 5,
   "metadata": {
    "collapsed": true
   },
   "outputs": [],
   "source": [
    "full_data_path = '../../data/raw/UCB.csv'\n",
    "data_path = '/Users/choldgraf/Google Drive/Projects/BIDS/Sourcing/data/UCB_cleaned.csv'\n",
    "dept_path = '/Users/choldgraf/Google Drive/Projects/BIDS/Sourcing/data/BerkeleyPO_Department.csv'"
   ]
  },
  {
   "cell_type": "code",
   "execution_count": 16,
   "metadata": {
    "collapsed": true
   },
   "outputs": [],
   "source": [
    "output_path = '../../data/cleaned/UCB_cleaned.csv'\n",
    "merged_path = '../../data/cleaned/UCB_dept_merge.csv'"
   ]
  },
  {
   "cell_type": "code",
   "execution_count": 7,
   "metadata": {
    "collapsed": false
   },
   "outputs": [
    {
     "name": "stderr",
     "output_type": "stream",
     "text": [
      "/Users/choldgraf/anaconda/lib/python2.7/site-packages/pandas/io/parsers.py:1159: DtypeWarning: Columns (12,51,53,55,58,59,66,94,100,101,102,107,109,139) have mixed types. Specify dtype option on import or set low_memory=False.\n",
      "  data = self._reader.read(nrows)\n"
     ]
    }
   ],
   "source": [
    "full_data = pd.read_csv(full_data_path)"
   ]
  },
  {
   "cell_type": "code",
   "execution_count": 8,
   "metadata": {
    "collapsed": true
   },
   "outputs": [],
   "source": [
    "# Subset of columns\n",
    "keep_columns = ['PO ID',\n",
    "                'PO #',\n",
    "                'Creation Date',\n",
    "                'Supplier Name',\n",
    "                'Item Type',\n",
    "                'Product Description',\n",
    "                'Manufacturer',\n",
    "                'Quantity',\n",
    "                'Unit Price',\n",
    "                'Department',\n",
    "                'Buyer: First Name',\n",
    "                'Buyer: Last Name',\n",
    "                'PO Closed Date']\n",
    "data = full_data[keep_columns]"
   ]
  },
  {
   "cell_type": "code",
   "execution_count": 9,
   "metadata": {
    "collapsed": true
   },
   "outputs": [],
   "source": [
    "# Replace problematic characters in column names\n",
    "def convert_strings_to_specials(s):\n",
    "    s = s.replace(' ', '_')\n",
    "    s = s.replace(':', '_')\n",
    "    s = s.replace('#', 'num')\n",
    "    s = s.lower()\n",
    "    return s\n",
    "data.columns = [convert_strings_to_specials(col) for col in data.columns]"
   ]
  },
  {
   "cell_type": "code",
   "execution_count": 10,
   "metadata": {
    "collapsed": true
   },
   "outputs": [],
   "source": [
    "# Remove rows with some percentage null values\n",
    "null_perc_cutoff = .5\n",
    "ix_null = data.isnull().sum(1) < np.round(null_perc_cutoff * data.shape[1])\n",
    "data = data.loc[ix_null]"
   ]
  },
  {
   "cell_type": "code",
   "execution_count": 13,
   "metadata": {
    "collapsed": true
   },
   "outputs": [],
   "source": [
    "# Turn column values into correct dtype\n",
    "convert_int = ['po_id', 'quantity']\n",
    "convert_float = ['unit_price']\n",
    "convert_date = ['po_closed_date', 'creation_date']\n",
    "\n",
    "data[convert_int] = data[convert_int].astype(np.int64)\n",
    "data[convert_float] = data[convert_float].replace(',', '', regex=True).astype(float)"
   ]
  },
  {
   "cell_type": "code",
   "execution_count": 14,
   "metadata": {
    "collapsed": true
   },
   "outputs": [],
   "source": [
    "# Convert dates (this may take some time)\n",
    "data[convert_date] = data[convert_date].apply(pd.to_datetime)"
   ]
  },
  {
   "cell_type": "code",
   "execution_count": 17,
   "metadata": {
    "collapsed": false
   },
   "outputs": [],
   "source": [
    "data.to_csv(output_path, index=False)"
   ]
  },
  {
   "cell_type": "markdown",
   "metadata": {},
   "source": [
    "## Merge with department"
   ]
  },
  {
   "cell_type": "code",
   "execution_count": 18,
   "metadata": {
    "collapsed": true
   },
   "outputs": [],
   "source": [
    "# Department ID\n",
    "dept = pd.read_csv(dept_path)\n",
    "dept['Spend'] = dept['Spend'].replace(',', '', regex=True).astype(float)\n",
    "dept = dept.sort('Spend', ascending=False)"
   ]
  },
  {
   "cell_type": "code",
   "execution_count": 19,
   "metadata": {
    "collapsed": true
   },
   "outputs": [],
   "source": [
    "# Clean up the department data\n",
    "dept['Spend'] = dept.Spend.replace(',', '', regex=True).astype(float)\n",
    "rename_dict = {col: ''.join([c for c in col if c.isalnum()]) for col in dept.columns}\n",
    "dept = dept.rename(columns=rename_dict)\n",
    "dept = dept.dropna(axis=0, subset=['PONumber'])\n",
    "dept = dept[dept.PONumber != 'Null']"
   ]
  },
  {
   "cell_type": "code",
   "execution_count": 27,
   "metadata": {
    "collapsed": true
   },
   "outputs": [],
   "source": [
    "merged = pd.merge(data, dept, left_on='po_num', right_on='PONumber', how='inner')"
   ]
  },
  {
   "cell_type": "code",
   "execution_count": 28,
   "metadata": {
    "collapsed": false
   },
   "outputs": [],
   "source": [
    "merged = merged.drop('PONumber', axis=1).rename(columns={'DepartmentName': 'department_name', 'Spend': 'spend'})"
   ]
  },
  {
   "cell_type": "code",
   "execution_count": 30,
   "metadata": {
    "collapsed": false
   },
   "outputs": [],
   "source": [
    "merged.to_csv(merged_path, index=False)"
   ]
  },
  {
   "cell_type": "code",
   "execution_count": null,
   "metadata": {
    "collapsed": true
   },
   "outputs": [],
   "source": []
  }
 ],
 "metadata": {
  "kernelspec": {
   "display_name": "Python 2",
   "language": "python",
   "name": "python2"
  },
  "language_info": {
   "codemirror_mode": {
    "name": "ipython",
    "version": 2
   },
   "file_extension": ".py",
   "mimetype": "text/x-python",
   "name": "python",
   "nbconvert_exporter": "python",
   "pygments_lexer": "ipython2",
   "version": "2.7.9"
  }
 },
 "nbformat": 4,
 "nbformat_minor": 0
}
