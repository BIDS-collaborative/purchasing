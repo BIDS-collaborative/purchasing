{
 "metadata": {
  "name": ""
 },
 "nbformat": 3,
 "nbformat_minor": 0,
 "worksheets": [
  {
   "cells": [
    {
     "cell_type": "markdown",
     "metadata": {},
     "source": [
      "<h2><Font Face='Cambria Math'> Prepare Raw Invoice data for Logistic Regression Analysis"
     ]
    },
    {
     "cell_type": "code",
     "collapsed": false,
     "input": [
      "import pandas as pd\n",
      "import datetime\n",
      "import numpy as np\n",
      "from pandas import pivot_table\n",
      "\n",
      "from pandas import merge\n",
      "from pandas import DataFrame\n",
      "\n",
      "\n",
      "from __future__ import division\n",
      "\n",
      "#Load some variables for use later\n",
      "Campus = 'UCB'\n",
      "data = pd.read_csv('IDT_vouchers_bk.csv')\n",
      "data['Campus'] = Campus"
     ],
     "language": "python",
     "metadata": {},
     "outputs": [],
     "prompt_number": 93
    },
    {
     "cell_type": "heading",
     "level": 2,
     "metadata": {},
     "source": [
      "File formating...  "
     ]
    },
    {
     "cell_type": "code",
     "collapsed": false,
     "input": [
      "#The code was written a while back and when I came back to it, the file formats had changed.  This is just\n",
      "#a wrapper to make the data for UCSF and Berkeley standardized.\n",
      "\n",
      "if Campus == 'UCSF':\n",
      "    data.rename(columns={'PO No':'PO #', \n",
      "                         'Invoice Line Extended Price':'Extended Price1',\n",
      "                         'PO Line Extended Price':'Extended Price2',\n",
      "                         'PO Line No':'PO Line #',\n",
      "                         'Voucher No':'Voucher #',\n",
      "                         'Invoice System Created Date':'Invoice System Creation Date',\n",
      "                         'Home Department Name':'Department Name'\n",
      "                         }, inplace=True)\n",
      "\n",
      "if Campus == 'UCB':\n",
      "    data.rename(columns={'Voucher Type':'Invoice Type',\n",
      "                         'PO No':'PO #', \n",
      "                         'Invoice Line Extended Price':'Extended Price1',\n",
      "                         'PO Line Extended Price':'Extended Price2',\n",
      "                         'PO Line No':'PO Line #',\n",
      "                         'Voucher No':'Voucher #',\n",
      "                         'Invoice System Created Date':'Invoice System Creation Date',\n",
      "                         'Home Department Name':'Department Name',\n",
      "                         'Voucher Total':'Invoice Total'\n",
      "                         }, inplace=True)\n",
      "\n",
      "##Change these values to be floats to filter and do calculations by them\n",
      "try:\n",
      "    if data['Extended Price2'].dtype is np.dtype('O'):\n",
      "      data['Extended Price2'] = data['Extended Price2'].str.replace('$','').str.replace(',','').astype('float32')\n",
      "except:\n",
      "    pass\n",
      "\n",
      "try:\n",
      "    if data['Invoice Total'].dtype is np.dtype('O'):\n",
      "      data['Invoice Total'] = data['Invoice Total'].str.replace('$','').str.replace(',','').astype('float32')\n",
      "except:\n",
      "    pass\n",
      "\n",
      "try:\n",
      "    if data['Extended Price1'].dtype is np.dtype('O'):\n",
      "      data['Extended Price1'] = data['Extended Price1'].str.replace('$','').str.replace(',','').astype('float32')\n",
      "except:\n",
      "    pass"
     ],
     "language": "python",
     "metadata": {},
     "outputs": [],
     "prompt_number": 104
    },
    {
     "cell_type": "heading",
     "level": 2,
     "metadata": {},
     "source": [
      "Start Parsing out the POs of interest"
     ]
    },
    {
     "cell_type": "code",
     "collapsed": false,
     "input": [
      "##Give me everything that starts with a B\n",
      "data['PO #'] = data['PO #'].astype('str')\n",
      "data['PO #'] = data['PO #'].str.lower()\n",
      "data=data[data['PO #'].str.startswith('b')]\n",
      "\n",
      "#Don't want Rejected Vouchers nor 0 or negative Ext. Prices\n",
      "data=data[data['Voucher Status'] != 'Rejected']\n",
      "#Negative Ext1. Price means its a rebate...\n",
      "data=data[data['Extended Price1'] > 0]\n",
      "\n",
      "#Don't want items with Item Type as SQ Hosted or NonCatalog\n",
      "#Also, don't want Credit Memo\n",
      "data=data[data['Item Type'] != 'SQ Hosted Product']\n",
      "data=data[data['Item Type'] != 'Contract NonCatalogItem']\n",
      "\n",
      "#Credits will mess up the data, only want pure vouchers\n",
      "data=data[data['Invoice Type'] != 'Credit memo']\n",
      "\n",
      "#There is no Ext. Price 2 where there is a blank Line Status, also don't want Cancelled Lines so only want Accepted\n",
      "data=data[data['Line Status'] == 'Approved']"
     ],
     "language": "python",
     "metadata": {},
     "outputs": [],
     "prompt_number": 105
    },
    {
     "cell_type": "heading",
     "level": 2,
     "metadata": {},
     "source": [
      "Find the percent of usage"
     ]
    },
    {
     "cell_type": "code",
     "collapsed": false,
     "input": [
      "##Adding a column per item to get percentages and then making sure we have a good bound of percents\n",
      "\n",
      "data['Percent of Usage'] = data['Extended Price1']/data['Extended Price2']\n",
      "data=data[data['Percent of Usage'] > 0]\n",
      "data=data[data['Percent of Usage'] <.99]\n",
      "\n",
      "#Now you want to sum up the totals per po and po Line\n",
      "#Excludes Repeated Voucher Totals for PO since this is a problem in the data\n",
      "#This way we don't sum up the same value n times giving a false overvalued total\n",
      "data = data.sort(['PO #', 'Invoice Total'], ascending = [1,1])\n",
      "data['Invoice Total']=data['Invoice Total'].loc[data['Invoice Total'].shift(1) != data['Invoice Total']]\n",
      "data['Invoice Total']= data['Invoice Total'].fillna(0)\n",
      "\n",
      "data = data.sort(['PO #', 'Extended Price2'], ascending = [1,1])\n",
      "data['Extended Price2']=data['Extended Price2'].loc[data['Extended Price2'].shift(1) != data['Extended Price2']]\n",
      "data['Extended Price2']= data['Extended Price2'].fillna(0)\n",
      "\n",
      "\n",
      "data = data.sort(['PO #', 'Extended Price1'], ascending = [1,1])\n",
      "data['Extended Price1']=data['Extended Price1'].loc[data['Extended Price1'].shift(1) != data['Extended Price1']]\n",
      "data['Extended Price1']= data['Extended Price1'].fillna(0)\n",
      "\n",
      "#Pivot it out to sum it up\n",
      "pivot_sums = pivot_table(data, rows=['PO #','PO Line #'], values = ['Invoice Total','Extended Price1','Extended Price2','Percent of Usage'], aggfunc = np.sum)\n",
      "pivot_sums= pivot_sums[~pivot_sums['Extended Price1'].isnull()]\n",
      "pivot_sums= pivot_sums[~pivot_sums['Invoice Total'].isnull()]\n",
      "pivot_sums= pivot_sums[~pivot_sums['Extended Price2'].isnull()]\n",
      "pivot_sums = pivot_sums.reset_index()\n",
      "\n",
      "#Create a separate pivot to count the unique vouchers\n",
      "pivot_vouchers= pivot_table(data, rows=['PO #','PO Line #'], values = ['Voucher #'], aggfunc=lambda x: len(x.unique()))\n",
      "pivot_vouchers = DataFrame(pivot_vouchers)\n",
      "pivot_vouchers.columns =['Count of Vouchers']\n",
      "pivot_vouchers = pivot_vouchers.reset_index() \n",
      "pivot_vouchers = pivot_vouchers[~pivot_vouchers['Count of Vouchers'].isnull()]\n",
      "\n",
      "analysis = pivot_sums\n",
      "analysis_all=merge(analysis, pivot_vouchers, left_on = ['PO #','PO Line #'], right_on=['PO #','PO Line #'], how= 'left')\n",
      "analysis_all= analysis_all.rename(columns ={'Extended Price1':'Sum of Ext. Price 1','Extended Price2':'Sum of Ext.2'})\n",
      "analysis_all['Total Percent Remaining'] = 1-analysis_all['Percent of Usage']\n",
      "\n",
      "supplier = data.loc[:,['PO #','PO Line #','Invoice System Creation Date','Supplier Name','Product Description','Department Name','ShipTo Contact 1','Invoice Owner','Category Level 1','Campus']]\n",
      "supplier = supplier.drop_duplicates(['PO #','PO Line #'])\n",
      "analysis_all = merge(analysis_all,supplier, left_on = ['PO #','PO Line #'],right_on = ['PO #','PO Line #'], how='left')"
     ],
     "language": "python",
     "metadata": {},
     "outputs": [],
     "prompt_number": 110
    },
    {
     "cell_type": "heading",
     "level": 2,
     "metadata": {},
     "source": [
      "Write out the table to csv"
     ]
    },
    {
     "cell_type": "code",
     "collapsed": false,
     "input": [
      "analysis_all.to_csv('Invoice Data All Final.csv',index = False)"
     ],
     "language": "python",
     "metadata": {},
     "outputs": [],
     "prompt_number": 112
    },
    {
     "cell_type": "markdown",
     "metadata": {},
     "source": [
      "<b><Font Face='Cambria Math'><h2> Use prepared Data for Logistic Regression"
     ]
    },
    {
     "cell_type": "code",
     "collapsed": false,
     "input": [
      "import sklearn \n",
      "from sklearn import linear_model\n",
      "from pandas import *\n",
      "import numpy as np\n",
      "from numpy import random\n",
      "from sklearn.cross_validation import train_test_split"
     ],
     "language": "python",
     "metadata": {},
     "outputs": [],
     "prompt_number": 76
    },
    {
     "cell_type": "code",
     "collapsed": false,
     "input": [
      "#Manually entered 1's and 0's for blankets and non blankets\n",
      "invoices= pd.read_csv('Invoice Data with Blanket.csv')\n",
      "invoices =invoices.reset_index()\n",
      "\n"
     ],
     "language": "python",
     "metadata": {},
     "outputs": [],
     "prompt_number": 28
    },
    {
     "cell_type": "code",
     "collapsed": false,
     "input": [
      "invoices_labeled = invoices[-invoices['Blanket?'].isnull()]\n",
      "invoices_not_labeled = invoices[invoices['Blanket?'].isnull()]"
     ],
     "language": "python",
     "metadata": {},
     "outputs": [],
     "prompt_number": 29
    },
    {
     "cell_type": "code",
     "collapsed": false,
     "input": [
      "invoices_not_labeled.describe()"
     ],
     "language": "python",
     "metadata": {},
     "outputs": [
      {
       "html": [
        "<div style=\"max-height:1000px;max-width:1500px;overflow:auto;\">\n",
        "<table border=\"1\" class=\"dataframe\">\n",
        "  <thead>\n",
        "    <tr style=\"text-align: right;\">\n",
        "      <th></th>\n",
        "      <th>index</th>\n",
        "      <th>PO Line #</th>\n",
        "      <th>Sum of Ext. Price 1</th>\n",
        "      <th>Sum of Ext.2</th>\n",
        "      <th>Invoice Total</th>\n",
        "      <th>Percent of Usage</th>\n",
        "      <th>Count of Vouchers</th>\n",
        "      <th>Total Percent Remaining</th>\n",
        "      <th>Blanket?</th>\n",
        "    </tr>\n",
        "  </thead>\n",
        "  <tbody>\n",
        "    <tr>\n",
        "      <th>count</th>\n",
        "      <td> 44875.000000</td>\n",
        "      <td> 44875.000000</td>\n",
        "      <td>    44875.000000</td>\n",
        "      <td>    44875.000000</td>\n",
        "      <td>    44875.000000</td>\n",
        "      <td> 44875.000000</td>\n",
        "      <td> 44875.000000</td>\n",
        "      <td> 44875.000000</td>\n",
        "      <td>  0</td>\n",
        "    </tr>\n",
        "    <tr>\n",
        "      <th>mean</th>\n",
        "      <td> 22729.999643</td>\n",
        "      <td>     2.096423</td>\n",
        "      <td>    13239.131608</td>\n",
        "      <td>    26672.787745</td>\n",
        "      <td>    13642.604890</td>\n",
        "      <td>     0.750275</td>\n",
        "      <td>     4.276925</td>\n",
        "      <td>     0.249725</td>\n",
        "      <td>NaN</td>\n",
        "    </tr>\n",
        "    <tr>\n",
        "      <th>std</th>\n",
        "      <td> 13122.997299</td>\n",
        "      <td>     3.708677</td>\n",
        "      <td>   259689.526441</td>\n",
        "      <td>   599447.862642</td>\n",
        "      <td>   270533.740824</td>\n",
        "      <td>     0.299086</td>\n",
        "      <td>    19.248269</td>\n",
        "      <td>     0.299086</td>\n",
        "      <td>NaN</td>\n",
        "    </tr>\n",
        "    <tr>\n",
        "      <th>min</th>\n",
        "      <td>     0.000000</td>\n",
        "      <td>     1.000000</td>\n",
        "      <td>        0.000000</td>\n",
        "      <td>        0.000000</td>\n",
        "      <td>        0.000000</td>\n",
        "      <td>     0.000005</td>\n",
        "      <td>     1.000000</td>\n",
        "      <td>    -6.906423</td>\n",
        "      <td>NaN</td>\n",
        "    </tr>\n",
        "    <tr>\n",
        "      <th>25%</th>\n",
        "      <td> 11370.500000</td>\n",
        "      <td>     1.000000</td>\n",
        "      <td>       75.055000</td>\n",
        "      <td>      105.000000</td>\n",
        "      <td>       78.660000</td>\n",
        "      <td>     0.583333</td>\n",
        "      <td>     1.000000</td>\n",
        "      <td>     0.036648</td>\n",
        "      <td>NaN</td>\n",
        "    </tr>\n",
        "    <tr>\n",
        "      <th>50%</th>\n",
        "      <td> 22689.000000</td>\n",
        "      <td>     1.000000</td>\n",
        "      <td>      272.700000</td>\n",
        "      <td>      411.000000</td>\n",
        "      <td>      373.520000</td>\n",
        "      <td>     0.863899</td>\n",
        "      <td>     1.000000</td>\n",
        "      <td>     0.136101</td>\n",
        "      <td>NaN</td>\n",
        "    </tr>\n",
        "    <tr>\n",
        "      <th>75%</th>\n",
        "      <td> 34100.500000</td>\n",
        "      <td>     2.000000</td>\n",
        "      <td>     1755.415000</td>\n",
        "      <td>     3920.000000</td>\n",
        "      <td>     2042.950000</td>\n",
        "      <td>     0.963352</td>\n",
        "      <td>     2.000000</td>\n",
        "      <td>     0.416667</td>\n",
        "      <td>NaN</td>\n",
        "    </tr>\n",
        "    <tr>\n",
        "      <th>max</th>\n",
        "      <td> 45474.000000</td>\n",
        "      <td>   143.000000</td>\n",
        "      <td> 30101461.360000</td>\n",
        "      <td> 83839048.000000</td>\n",
        "      <td> 30101461.360000</td>\n",
        "      <td>     7.906423</td>\n",
        "      <td>  1627.000000</td>\n",
        "      <td>     0.999995</td>\n",
        "      <td>NaN</td>\n",
        "    </tr>\n",
        "  </tbody>\n",
        "</table>\n",
        "</div>"
       ],
       "metadata": {},
       "output_type": "pyout",
       "prompt_number": 40,
       "text": [
        "              index     PO Line #  Sum of Ext. Price 1     Sum of Ext.2  \\\n",
        "count  44875.000000  44875.000000         44875.000000     44875.000000   \n",
        "mean   22729.999643      2.096423         13239.131608     26672.787745   \n",
        "std    13122.997299      3.708677        259689.526441    599447.862642   \n",
        "min        0.000000      1.000000             0.000000         0.000000   \n",
        "25%    11370.500000      1.000000            75.055000       105.000000   \n",
        "50%    22689.000000      1.000000           272.700000       411.000000   \n",
        "75%    34100.500000      2.000000          1755.415000      3920.000000   \n",
        "max    45474.000000    143.000000      30101461.360000  83839048.000000   \n",
        "\n",
        "         Invoice Total  Percent of Usage  Count of Vouchers  \\\n",
        "count     44875.000000      44875.000000       44875.000000   \n",
        "mean      13642.604890          0.750275           4.276925   \n",
        "std      270533.740824          0.299086          19.248269   \n",
        "min           0.000000          0.000005           1.000000   \n",
        "25%          78.660000          0.583333           1.000000   \n",
        "50%         373.520000          0.863899           1.000000   \n",
        "75%        2042.950000          0.963352           2.000000   \n",
        "max    30101461.360000          7.906423        1627.000000   \n",
        "\n",
        "       Total Percent Remaining  Blanket?  \n",
        "count             44875.000000         0  \n",
        "mean                  0.249725       NaN  \n",
        "std                   0.299086       NaN  \n",
        "min                  -6.906423       NaN  \n",
        "25%                   0.036648       NaN  \n",
        "50%                   0.136101       NaN  \n",
        "75%                   0.416667       NaN  \n",
        "max                   0.999995       NaN  "
       ]
      }
     ],
     "prompt_number": 40
    },
    {
     "cell_type": "code",
     "collapsed": false,
     "input": [
      "invoices_train =invoices_labeled.ix[np.random.choice(invoices_labeled.index, 300)]\n",
      "invoices_train=invoices_train.reset_index()\n",
      "\n",
      "invoices_test = invoices_labeled[~invoices_labeled['index'].isin(invoices_train['index'])]\n"
     ],
     "language": "python",
     "metadata": {},
     "outputs": [],
     "prompt_number": 31
    },
    {
     "cell_type": "code",
     "collapsed": false,
     "input": [
      "X_train,y_train = invoices_train[['Count of Vouchers','Total Percent Remaining']],invoices_train['Blanket?']\n",
      "X_test,y_test = invoices_test[['Count of Vouchers','Total Percent Remaining']],invoices_test['Blanket?']\n",
      " "
     ],
     "language": "python",
     "metadata": {},
     "outputs": [],
     "prompt_number": 32
    },
    {
     "cell_type": "code",
     "collapsed": false,
     "input": [
      "logreg=linear_model.LogisticRegression(C=10)\n",
      "\n",
      "logreg.fit(X_train,y_train)"
     ],
     "language": "python",
     "metadata": {},
     "outputs": [
      {
       "metadata": {},
       "output_type": "pyout",
       "prompt_number": 44,
       "text": [
        "LogisticRegression(C=10, class_weight=None, dual=False, fit_intercept=True,\n",
        "          intercept_scaling=1, penalty='l2', random_state=None, tol=0.0001)"
       ]
      }
     ],
     "prompt_number": 44
    },
    {
     "cell_type": "code",
     "collapsed": false,
     "input": [
      "logreg.coef_"
     ],
     "language": "python",
     "metadata": {},
     "outputs": [
      {
       "metadata": {},
       "output_type": "pyout",
       "prompt_number": 45,
       "text": [
        "array([[ 3.07821648,  6.66791968]])"
       ]
      }
     ],
     "prompt_number": 45
    },
    {
     "cell_type": "code",
     "collapsed": false,
     "input": [
      "logreg.intercept_"
     ],
     "language": "python",
     "metadata": {},
     "outputs": [
      {
       "metadata": {},
       "output_type": "pyout",
       "prompt_number": 46,
       "text": [
        "array([-6.91610094])"
       ]
      }
     ],
     "prompt_number": 46
    },
    {
     "cell_type": "code",
     "collapsed": false,
     "input": [
      "print\"The parametered are\" \n",
      "print logreg.get_params()\n",
      "\n",
      "invoices_test['Predicted Value']=logreg.predict(X_test)\n",
      "invoices_test=DataFrame(invoices_test)\n",
      "\n",
      "print \"\\n\\nThe score is\"\n",
      "print logreg.score(X_test,y_test)\n",
      "\n",
      "from sklearn.metrics import confusion_matrix\n",
      "y_true= y_test\n",
      "y_predict = invoices_test['Predicted Value']\n",
      "\n",
      "confusion_matrix(y_true, y_predict)"
     ],
     "language": "python",
     "metadata": {},
     "outputs": [
      {
       "output_type": "stream",
       "stream": "stdout",
       "text": [
        "The parametered are\n",
        "{'C': 10, 'intercept_scaling': 1, 'fit_intercept': True, 'penalty': 'l2', 'random_state': None, 'dual': False, 'tol': 0.0001, 'class_weight': None}\n",
        "\n",
        "\n",
        "The score is\n",
        "0.957264957265\n"
       ]
      },
      {
       "metadata": {},
       "output_type": "pyout",
       "prompt_number": 47,
       "text": [
        "array([[168,   9],\n",
        "       [  6, 168]])"
       ]
      }
     ],
     "prompt_number": 47
    },
    {
     "cell_type": "code",
     "collapsed": false,
     "input": [
      "from sklearn.pipeline import Pipeline\n",
      "\n",
      "from sklearn.linear_model import LogisticRegression\n",
      "from sklearn.grid_search import GridSearchCV\n",
      "from time import time\n",
      "\n",
      "\n",
      "parameters = {\n",
      "      # uncommenting more parameters will give better exploring power but will\n",
      "      # increase processing time in a combinatorial way\n",
      "      'model__C':[0.01, 0.1, 1, 10, 1005,2000],\n",
      " \n",
      "      'model__dual': [False],\n",
      "\n",
      "      'model__intercept_scaling': [1],\n",
      "      'model__penalty': ['l1', 'l2'],\n",
      "      'model__fit_intercept':[True,False],\n",
      "      'model__class_weight':['auto']\n",
      "            }\n",
      "            \n",
      "pipeline = Pipeline([('model', LogisticRegression())])\n",
      "\n",
      "grid_search = GridSearchCV(pipeline, parameters, verbose=1, n_jobs=2,cv=4)\n",
      "\n",
      "\n",
      "if __name__ == '__main__':\n",
      "    print \"Performing grid search...\"\n",
      "    print \"pipeline:\", [name for name, _ in pipeline.steps]\n",
      "    print \"parameters:\"\n",
      "    print(parameters)\n",
      "    t0 = time()\n",
      "    grid_search.fit(X_test,y_test)\n",
      "    print \"done in %0.3fs\" % (time() - t0)\n",
      "    print\n",
      "    print \"Best score: %0.5f\" % grid_search.best_score_\n",
      "    print \"Best parameters set:\"\n",
      "    best_parameters = grid_search.best_estimator_.get_params()\n",
      "    for param_name in sorted(parameters.keys()):\n",
      "        print \"\\t%s: %r\" % (param_name, best_parameters[param_name])"
     ],
     "language": "python",
     "metadata": {},
     "outputs": [
      {
       "output_type": "stream",
       "stream": "stderr",
       "text": [
        "[Parallel(n_jobs=2)]: Done   1 jobs       | elapsed:    0.5s\n",
        "[Parallel(n_jobs=2)]: Done  50 jobs       | elapsed:    1.2s\n",
        "[Parallel(n_jobs=2)]: Done  96 out of  96 | elapsed:    1.3s finished\n"
       ]
      },
      {
       "output_type": "stream",
       "stream": "stdout",
       "text": [
        "Performing grid search...\n",
        "pipeline: ['model']\n",
        "parameters:\n",
        "{'model__C': [0.01, 0.1, 1, 10, 1005, 2000], 'model__class_weight': ['auto'], 'model__fit_intercept': [True, False], 'model__intercept_scaling': [1], 'model__penalty': ['l1', 'l2'], 'model__dual': [False]}\n",
        "Fitting 4 folds for each of 24 candidates, totalling 96 fits\n",
        "done in 1.413s"
       ]
      },
      {
       "output_type": "stream",
       "stream": "stdout",
       "text": [
        "\n",
        "\n",
        "Best score: 0.95726\n",
        "Best parameters set:\n",
        "\tmodel__C: 1\n",
        "\tmodel__class_weight: 'auto'\n",
        "\tmodel__dual: False\n",
        "\tmodel__fit_intercept: True\n",
        "\tmodel__intercept_scaling: 1\n",
        "\tmodel__penalty: 'l1'\n"
       ]
      }
     ],
     "prompt_number": 50
    },
    {
     "cell_type": "code",
     "collapsed": false,
     "input": [
      "from sklearn.metrics import hamming_loss\n",
      "hamming_loss(y_true, y_predict)"
     ],
     "language": "python",
     "metadata": {},
     "outputs": [
      {
       "metadata": {},
       "output_type": "pyout",
       "prompt_number": 49,
       "text": [
        "0.042735042735042736"
       ]
      }
     ],
     "prompt_number": 49
    },
    {
     "cell_type": "code",
     "collapsed": false,
     "input": [
      "X=invoices[['Count of Vouchers','Total Percent Remaining']]\n",
      "invoices['Predicted Value']=logreg.predict(X)"
     ],
     "language": "python",
     "metadata": {},
     "outputs": [],
     "prompt_number": 42
    },
    {
     "cell_type": "code",
     "collapsed": false,
     "input": [
      "invoices.to_csv('C:/Users/alexisperez/Documents/Invoices/All with predicted values.csv',index=False)"
     ],
     "language": "python",
     "metadata": {},
     "outputs": [],
     "prompt_number": 43
    }
   ],
   "metadata": {}
  }
 ]
}