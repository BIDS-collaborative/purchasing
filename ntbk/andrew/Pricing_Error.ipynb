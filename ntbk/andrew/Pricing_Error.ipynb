{
 "cells": [
  {
   "cell_type": "markdown",
   "metadata": {
    "collapsed": true
   },
   "source": [
    "<center><h1><font face=\"vollkorn\" color=navy> Price Errors Between Invoices and POs</font></h1></center>\n",
    "<center><h2> Are we systematically overpaying? </h2></center><br>\n",
    "<p>\n",
    "<img src=\"http://www.ncseprojects.org/files/images/berkeley_logo_300.gif\" style=\"float: left; width: 15%; margin-left: 30%;\">\n",
    "\n",
    "<img src=\"http://www.ucsf.edu/sites/all/themes/ucsf/logo.png\" style=\"float: right; width: 20%; margin-right: 30%; margin-bottom: 10%;\">\n",
    "<p style=\"clear: both;\">\n",
    "\n",
    "<center><h1><font face=\"vollkorn\" color=navy>Contributors:</font></h1></center>\n",
    "<p>\n",
    "<center><h2>Andrew G. Clark</h2></center>"
   ]
  },
  {
   "cell_type": "markdown",
   "metadata": {},
   "source": [
    "<font face=\"vollkorn\"><p><b>Purpose:</b><br>\n",
    "This book explores the accuracy of pricing invoiced to UCSF and UC Berkeley versus the Purchase Order. \n",
    "\n",
    "<p><b>Background:</b> <br>\n",
    "UCSF issues Purchase Orders (binding legal contracts) to suppliers as a \"promise\" to pay for goods and services. The PO serves as official notice to the supplier of the goods/services we wish to buy, along with the price we are authorizing for payment, and any other terms and conditions we require.  It is generally expected that the supplier will either fill the purchase order and send UCSF the goods/services ordered or will call UCSF to identify a problem with the order.  \n",
    "<p>\n",
    "In Febuary 2015, UCSF BearBuy Operations was notified by a key stakeholder that they belived we were being systematically over-invoiced.  That is to say, suppliers were issuing invoices to UCSF for dollar amounts greater than the PO authorized.  As a result, this was causing a great deal of work for this stakeholder who was carefully reconciling her budgets.\n",
    "\n",
    "<p><b>Assumptions:</b><br>\n",
    "+ PO Line Extended Price vs. Invoice Line Extended Price is correct identifier of price error.\n",
    "+ The invoice full extract from BearBuy(s) is the right dataset to use.\n",
    "+ BearBuy PO number is a reasonable approximation for time.\n",
    "\n",
    "<p><b>To Do:</b><br>\n",
    "+ I should identify the blankets and then mark them in the initial data set in a new column."
   ]
  },
  {
   "cell_type": "markdown",
   "metadata": {},
   "source": [
    "<font face=\"vollkorn\"><h2>Read in data and pre-process it</h2>\n",
    "<p>The BearBuy Invoice extract includes a number of columns unnecessary for this analysis.  This section of code reads in the data, creates a list of important columns, then removes all columns not on the list."
   ]
  },
  {
   "cell_type": "code",
   "execution_count": 1,
   "metadata": {
    "collapsed": false
   },
   "outputs": [
    {
     "name": "stdout",
     "output_type": "stream",
     "text": [
      "Populating the interactive namespace from numpy and matplotlib\n"
     ]
    }
   ],
   "source": [
    "%pylab inline\n",
    "import pandas as pd\n",
    "import numpy as np\n",
    "\n",
    "#Read in the data\n",
    "RawData = pd.read_csv('/home/analyst/Desktop/invoices/all.csv', low_memory=False, thousands=',')\n",
    "\n",
    "\n",
    "#The UCSF file has different headers to describe the same data.  Rename UCSF Headers to match UCB Headers.\n",
    "try:\n",
    "    RawData.rename(columns={'PO #':'PO No', \n",
    "                            'Extended Price1':'Invoice Line Extended Price',\n",
    "                            'Extended Price2':'PO Line Extended Price',\n",
    "                            'PO Line #':'PO Line No',\n",
    "                            'Voucher #':'Voucher No',\n",
    "                            'Invoice System Creation Date':'Invoice System Created Date',\n",
    "                            'Home Department Name':'Department Name',\n",
    "                            'Invoice Type':'Voucher Type'\n",
    "                           }, inplace=True)\n",
    "except:\n",
    "    pass\n",
    "\n",
    "#Eliminate columns not used in the analysis [uses the Berkeley file name convention]\n",
    "keep_columns = ['PO No',\n",
    "                'PO Line No',\n",
    "                'PO Line Unit Price',\n",
    "                'PO Line Extended Price',\n",
    "                'Supplier Name',\n",
    "                'Manufacturer',\n",
    "                'Department Name',\n",
    "                'Invoice Owner',\n",
    "                'Item Type',\n",
    "                'Form Type',\n",
    "                'Voucher No',\n",
    "                'Voucher Source',\n",
    "                'Voucher Type',\n",
    "                'Invoice Line Unit Price',\n",
    "                'Invoice Line Extended Price',\n",
    "                'Voucher Status',\n",
    "                'Workflow Status',\n",
    "                'Line Status'\n",
    "               ]\n",
    "\n",
    "invoices = RawData[keep_columns];"
   ]
  },
  {
   "cell_type": "markdown",
   "metadata": {},
   "source": [
    "<font face=\"vollkorn\"><h2>Filter the data and add PO features</h2>\n",
    "<p>The dataset contains far more types of documents than \"regular\" invoices.  As such some additional filtering is required.  Specifically:\n",
    "* Filter non-PO data: We eliminate anything not starting with a \"B\".\n",
    "* Filter unprocessed invoices: The data includes a host of invoices which have not been approved by campus accounts payable.  These are removed.\n",
    "* Filter credit memos: We constrain our focus to just invoices and not credit memos or other documents in the data.\n",
    "* Filter Blanket POs: Blanket POs are PO Lines that are used to pay for multiple invoices.  There is no apriori specified buy when the Blanket is created, rather, these are authorizations for campus officials to spend fixed dollar amounts with a specific supplier.  This typically makes sense when administration wants to frontload all approvals and authorizations to better streamline the buying activity of researchers, faculty, and other staff.  \n"
   ]
  },
  {
   "cell_type": "code",
   "execution_count": 4,
   "metadata": {
    "collapsed": false
   },
   "outputs": [],
   "source": [
    "#filter out all of the non-invoice invoices...\n",
    "invoices_filtered = invoices[(invoices['PO No'].str.startswith('B')) &\n",
    "                              (invoices['Voucher Status'] != 'Rejected') &\n",
    "                              (invoices['Invoice Line Extended Price'] > 0) &\n",
    "                              (invoices['Voucher Type'] != 'Credit Memo') &\n",
    "                              (invoices['Workflow Status'] == 'Complete') &\n",
    "                              (invoices['Line Status'] == 'Approved')]\n",
    "\n",
    "#Summarize the data by PO Number and calculate some features\n",
    "summary = invoices_filtered.groupby(['PO No','PO Line No','Supplier Name']).agg({'PO Line Extended Price': lambda x: x.unique(),\n",
    "                                                                                 'Invoice Line Extended Price': np.sum,\n",
    "                                                                                 'Voucher No': lambda x: len(x.unique())\n",
    "                                                                                 })\n",
    "\n",
    "#Set the datatypes for the fields to float\n",
    "summary['Invoice Line Extended Price'] = summary['Invoice Line Extended Price'].replace(',','').astype(float)\n",
    "summary['PO Line Extended Price'] = summary['PO Line Extended Price'].replace(',','').astype(float)\n",
    "\n",
    "#Calculate the features of interest\n",
    "summary['PO Amount Used'] = summary['Invoice Line Extended Price'] / summary['PO Line Extended Price']\n",
    "summary['PriceDiff'] = summary['Invoice Line Extended Price'] - summary['PO Line Extended Price'] \n",
    "summary['PercentDiff'] = summary['PriceDiff'] / summary['PO Line Extended Price']\n"
   ]
  },
  {
   "cell_type": "markdown",
   "metadata": {},
   "source": [
    "<font face=\"vollkorn\"><h2>What do the non-blanket PO price errors look like?</h2>\n",
    "<p>The first fact we notice when analyzing the data is that the price errors are centered around zero.  Also, we also notice that we are running a rather low error rate on PO Lines."
   ]
  },
  {
   "cell_type": "code",
   "execution_count": 21,
   "metadata": {
    "collapsed": false
   },
   "outputs": [
    {
     "name": "stderr",
     "output_type": "stream",
     "text": [
      "/home/analyst/anaconda/lib/python2.7/site-packages/IPython/kernel/__main__.py:13: SettingWithCopyWarning: \n",
      "A value is trying to be set on a copy of a slice from a DataFrame.\n",
      "Try using .loc[row_indexer,col_indexer] = value instead\n",
      "\n",
      "See the the caveats in the documentation: http://pandas.pydata.org/pandas-docs/stable/indexing.html#indexing-view-versus-copy\n",
      "/home/analyst/anaconda/lib/python2.7/site-packages/IPython/kernel/__main__.py:14: SettingWithCopyWarning: \n",
      "A value is trying to be set on a copy of a slice from a DataFrame.\n",
      "Try using .loc[row_indexer,col_indexer] = value instead\n",
      "\n",
      "See the the caveats in the documentation: http://pandas.pydata.org/pandas-docs/stable/indexing.html#indexing-view-versus-copy\n",
      "/home/analyst/anaconda/lib/python2.7/site-packages/IPython/kernel/__main__.py:15: SettingWithCopyWarning: \n",
      "A value is trying to be set on a copy of a slice from a DataFrame.\n",
      "Try using .loc[row_indexer,col_indexer] = value instead\n",
      "\n",
      "See the the caveats in the documentation: http://pandas.pydata.org/pandas-docs/stable/indexing.html#indexing-view-versus-copy\n"
     ]
    }
   ],
   "source": [
    "#Remove the blanket POs by creating a filter\n",
    "NonBlanket_filter = summary[(summary['Voucher No'] <= 2) &\n",
    "                      (summary['PO Amount Used'] >= .70) &\n",
    "                      (summary['PercentDiff'] >= -.40) &\n",
    "                      (summary['PercentDiff'] <= .40) \n",
    "                     ].reset_index()\n",
    "\n",
    "\n",
    "#Filter the invoices to just the non-blankets\n",
    "NonBlanket = invoices_filtered[invoices_filtered['PO No'].isin(NonBlanket_filter['PO No'])]\n",
    "\n",
    "#Add some features\n",
    "NonBlanket['PriceDiff'] = NonBlanket['Invoice Line Extended Price'] - NonBlanket['PO Line Extended Price']\n",
    "NonBlanket['PercentDiff'] = NonBlanket['PriceDiff'] / NonBlanket['PO Line Extended Price'];\n",
    "NonBlankbet['IsError'] = NonBlanket['PercentDiff'] != 0\n",
    "\n",
    "#maxbin = .4\n",
    "#minbin = -.4\n",
    "#binwidth = .05\n",
    "\n",
    "#Plot a Histogram of all of the non-Zero, Non-Blanket PO Lines\n",
    "#NonBlanket[NonBlanket['PercentDiff'] != 0].hist('PercentDiff', bins=np.arange(minbin, maxbin + binwidth, binwidth),\n",
    "#                                                  alpha=.7, figsize=(10,6),histtype='bar',xlabelsize=14, ylabelsize=14)\n",
    "#plt.xlabel('Percent Price Error', fontsize=14);\n",
    "#plt.ylabel('Count of PO Lines', fontsize=14);\n",
    "#plt.title('Histogram - PO lines vouchered with Price Differences', fontsize=14)\n",
    "#plt.tight_layout()\n",
    "\n",
    "#print '%0.2f percent of Non-Blanket POs contain a price error' %round(100*(float(NonBlanket[NonBlanket['PercentDiff'] != 0].count()[1]) / float(NonBlanket.count()[1])),2)\n"
   ]
  },
  {
   "cell_type": "markdown",
   "metadata": {
    "collapsed": false
   },
   "source": [
    "##HOW DO I CREATE THE COLUMNS ABOVE WITHOUT THROWING THESE ERRORS?"
   ]
  },
  {
   "cell_type": "code",
   "execution_count": 6,
   "metadata": {
    "collapsed": false
   },
   "outputs": [
    {
     "name": "stderr",
     "output_type": "stream",
     "text": [
      "/home/analyst/anaconda/lib/python2.7/site-packages/IPython/kernel/__main__.py:5: SettingWithCopyWarning: \n",
      "A value is trying to be set on a copy of a slice from a DataFrame.\n",
      "Try using .loc[row_indexer,col_indexer] = value instead\n",
      "\n",
      "See the the caveats in the documentation: http://pandas.pydata.org/pandas-docs/stable/indexing.html#indexing-view-versus-copy\n",
      "/home/analyst/anaconda/lib/python2.7/site-packages/IPython/kernel/__main__.py:6: SettingWithCopyWarning: \n",
      "A value is trying to be set on a copy of a slice from a DataFrame.\n",
      "Try using .loc[row_indexer,col_indexer] = value instead\n",
      "\n",
      "See the the caveats in the documentation: http://pandas.pydata.org/pandas-docs/stable/indexing.html#indexing-view-versus-copy\n"
     ]
    },
    {
     "data": {
      "text/html": [
       "<div style=\"max-height:1000px;max-width:1500px;overflow:auto;\">\n",
       "<table border=\"1\" class=\"dataframe\">\n",
       "  <thead>\n",
       "    <tr style=\"text-align: right;\">\n",
       "      <th>IsError</th>\n",
       "      <th>Item Type</th>\n",
       "      <th>NotError</th>\n",
       "      <th>IsError</th>\n",
       "      <th>Percent Error</th>\n",
       "    </tr>\n",
       "  </thead>\n",
       "  <tbody>\n",
       "    <tr>\n",
       "      <th>0</th>\n",
       "      <td>Contract NonCatalogItem</td>\n",
       "      <td>4550</td>\n",
       "      <td>139</td>\n",
       "      <td>2.964385</td>\n",
       "    </tr>\n",
       "    <tr>\n",
       "      <th>1</th>\n",
       "      <td>NonCatalog Product</td>\n",
       "      <td>53718</td>\n",
       "      <td>3201</td>\n",
       "      <td>5.623781</td>\n",
       "    </tr>\n",
       "    <tr>\n",
       "      <th>2</th>\n",
       "      <td>Punch-out Product</td>\n",
       "      <td>45250</td>\n",
       "      <td>1012</td>\n",
       "      <td>2.187541</td>\n",
       "    </tr>\n",
       "    <tr>\n",
       "      <th>3</th>\n",
       "      <td>SQ Hosted Product</td>\n",
       "      <td>53792</td>\n",
       "      <td>811</td>\n",
       "      <td>1.485266</td>\n",
       "    </tr>\n",
       "  </tbody>\n",
       "</table>\n",
       "</div>"
      ],
      "text/plain": [
       "IsError                Item Type  NotError  IsError  Percent Error\n",
       "0        Contract NonCatalogItem      4550      139       2.964385\n",
       "1             NonCatalog Product     53718     3201       5.623781\n",
       "2              Punch-out Product     45250     1012       2.187541\n",
       "3              SQ Hosted Product     53792      811       1.485266"
      ]
     },
     "execution_count": 6,
     "metadata": {},
     "output_type": "execute_result"
    }
   ],
   "source": [
    "#Which Items Seem to have the most problems\n",
    "NonBlankets['PriceError'] = NonBlankets['Invoice Line Extended Price'] - NonBlankets['PO Line Extended Price'] \n",
    "NonBlankets['IsError'] = NonBlankets['PriceError'] != 0\n",
    "\n",
    "ItemType = NonBlankets.groupby(['Item Type','IsError']).agg({'PriceError':'count'}).unstack()\n",
    "\n",
    "ItemType.columns = ItemType.columns.droplevel(0)\n",
    "ItemType = ItemType.reset_index()\n",
    "ItemType = ItemType.rename(columns = {ItemType.columns[1]:'NotError',\n",
    "                                      ItemType.columns[2]:'IsError'\n",
    "                                      })\n",
    "\n",
    "ItemType['Percent Error'] = ItemType['IsError'] / (ItemType['IsError'] + ItemType['NotError']) * 100\n",
    "\n",
    "ItemType"
   ]
  },
  {
   "cell_type": "markdown",
   "metadata": {},
   "source": [
    "##Analyze by Supplier"
   ]
  },
  {
   "cell_type": "markdown",
   "metadata": {},
   "source": [
    "<font face=\"vollkorn\">"
   ]
  },
  {
   "cell_type": "code",
   "execution_count": 7,
   "metadata": {
    "collapsed": false
   },
   "outputs": [
    {
     "data": {
      "text/html": [
       "<div style=\"max-height:1000px;max-width:1500px;overflow:auto;\">\n",
       "<table border=\"1\" class=\"dataframe\">\n",
       "  <thead>\n",
       "    <tr style=\"text-align: right;\">\n",
       "      <th>PriceError</th>\n",
       "      <th>Supplier Name</th>\n",
       "      <th>NotError</th>\n",
       "      <th>IsError</th>\n",
       "      <th>PercentError</th>\n",
       "    </tr>\n",
       "  </thead>\n",
       "  <tbody>\n",
       "    <tr>\n",
       "      <th>1133</th>\n",
       "      <td>CASCADE ORTHOPEDIC SUPPLY INC</td>\n",
       "      <td>1112</td>\n",
       "      <td>351</td>\n",
       "      <td>23.99</td>\n",
       "    </tr>\n",
       "    <tr>\n",
       "      <th>4730</th>\n",
       "      <td>SIGMA-ALDRICH INC</td>\n",
       "      <td>6856</td>\n",
       "      <td>88</td>\n",
       "      <td>1.27</td>\n",
       "    </tr>\n",
       "    <tr>\n",
       "      <th>4546</th>\n",
       "      <td>SANTA CRUZ BIOTECHNOLOGY INC</td>\n",
       "      <td>467</td>\n",
       "      <td>60</td>\n",
       "      <td>11.39</td>\n",
       "    </tr>\n",
       "    <tr>\n",
       "      <th>5534</th>\n",
       "      <td>VWR INTERNATIONAL, INC.</td>\n",
       "      <td>11697</td>\n",
       "      <td>56</td>\n",
       "      <td>0.48</td>\n",
       "    </tr>\n",
       "    <tr>\n",
       "      <th>3069</th>\n",
       "      <td>LIFE TECHNOLOGIES CORPORATION</td>\n",
       "      <td>4985</td>\n",
       "      <td>45</td>\n",
       "      <td>0.89</td>\n",
       "    </tr>\n",
       "    <tr>\n",
       "      <th>3947</th>\n",
       "      <td>PATTERSON DENTAL SUPPLY, INC</td>\n",
       "      <td>1389</td>\n",
       "      <td>41</td>\n",
       "      <td>2.87</td>\n",
       "    </tr>\n",
       "    <tr>\n",
       "      <th>586</th>\n",
       "      <td>ASSOCIATED SERVICES CO</td>\n",
       "      <td>246</td>\n",
       "      <td>35</td>\n",
       "      <td>12.46</td>\n",
       "    </tr>\n",
       "    <tr>\n",
       "      <th>4333</th>\n",
       "      <td>REMEL, INC</td>\n",
       "      <td>54</td>\n",
       "      <td>31</td>\n",
       "      <td>36.47</td>\n",
       "    </tr>\n",
       "    <tr>\n",
       "      <th>1163</th>\n",
       "      <td>CDW-GOVERNMENT INC.</td>\n",
       "      <td>2668</td>\n",
       "      <td>24</td>\n",
       "      <td>0.89</td>\n",
       "    </tr>\n",
       "    <tr>\n",
       "      <th>1690</th>\n",
       "      <td>DIGI-KEY CORPORATION</td>\n",
       "      <td>174</td>\n",
       "      <td>23</td>\n",
       "      <td>11.68</td>\n",
       "    </tr>\n",
       "  </tbody>\n",
       "</table>\n",
       "</div>"
      ],
      "text/plain": [
       "PriceError                  Supplier Name  NotError  IsError  PercentError\n",
       "1133        CASCADE ORTHOPEDIC SUPPLY INC      1112      351         23.99\n",
       "4730                    SIGMA-ALDRICH INC      6856       88          1.27\n",
       "4546         SANTA CRUZ BIOTECHNOLOGY INC       467       60         11.39\n",
       "5534              VWR INTERNATIONAL, INC.     11697       56          0.48\n",
       "3069        LIFE TECHNOLOGIES CORPORATION      4985       45          0.89\n",
       "3947         PATTERSON DENTAL SUPPLY, INC      1389       41          2.87\n",
       "586                ASSOCIATED SERVICES CO       246       35         12.46\n",
       "4333                           REMEL, INC        54       31         36.47\n",
       "1163                  CDW-GOVERNMENT INC.      2668       24          0.89\n",
       "1690                 DIGI-KEY CORPORATION       174       23         11.68"
      ]
     },
     "execution_count": 7,
     "metadata": {},
     "output_type": "execute_result"
    }
   ],
   "source": [
    "#Create a binary indicator of price error\n",
    "tot['PriceError'] = tot['PercentDiff'] != 0\n",
    "\n",
    "#Summerize the price error by total lines \n",
    "SupplierSummary = tot.groupby(['Supplier Name','PriceError']).agg({'PO Line No': 'count'}).unstack().fillna(0)\n",
    "\n",
    "#Format the price error table more intuitively and change the name of the columns\n",
    "SupplierSummary.columns = SupplierSummary.columns.droplevel(0)\n",
    "SupplierSummary = SupplierSummary.reset_index()\n",
    "SupplierSummary = SupplierSummary.rename(columns = {SupplierSummary.columns[1]:'NotError',\n",
    "                                                    SupplierSummary.columns[2]:'IsError'\n",
    "                                                    })\n",
    "\n",
    "#Calculate the percent of total lines in Error\n",
    "SupplierSummary['PercentError'] = np.round(SupplierSummary['IsError'] / (SupplierSummary['NotError'] + SupplierSummary['IsError'])*100,2)\n",
    "\n",
    "#Print out the table in descending format\n",
    "SupplierSummary.sort('IsError', ascending=False).head(10)\n",
    "\n"
   ]
  }
 ],
 "metadata": {
  "kernelspec": {
   "display_name": "Python 2",
   "language": "python",
   "name": "python2"
  },
  "language_info": {
   "codemirror_mode": {
    "name": "ipython",
    "version": 2
   },
   "file_extension": ".py",
   "mimetype": "text/x-python",
   "name": "python",
   "nbconvert_exporter": "python",
   "pygments_lexer": "ipython2",
   "version": "2.7.9"
  }
 },
 "nbformat": 4,
 "nbformat_minor": 0
}
