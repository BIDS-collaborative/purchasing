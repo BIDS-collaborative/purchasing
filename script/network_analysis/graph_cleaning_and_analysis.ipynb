{
 "cells": [
  {
   "cell_type": "code",
   "execution_count": 40,
   "metadata": {
    "collapsed": true
   },
   "outputs": [],
   "source": [
    "import pandas as pd\n",
    "import numpy as np\n",
    "import networkx as nx\n",
    "import matplotlib.pyplot as plt\n",
    "from networkx.algorithms import bipartite"
   ]
  },
  {
   "cell_type": "code",
   "execution_count": 2,
   "metadata": {
    "collapsed": false
   },
   "outputs": [],
   "source": [
    "#this has org level 5 data dept names and number\n",
    "data = pd.read_csv('/Users/dariushbozorgmehri/Documents/My Work/Berkeley Classes Spring 2015/BIDS/data/modified_data_4_15/departmentDataV3_ALL_DATA_CLEAN.csv', low_memory=False)\n"
   ]
  },
  {
   "cell_type": "code",
   "execution_count": 3,
   "metadata": {
    "collapsed": false
   },
   "outputs": [],
   "source": [
    "data = data.rename(columns={'Org.Level.4': 'org_level_4', 'Org.Level.4.Number': 'org_level_4_number','Org.Level.5': 'org_level_5', 'Org.Level.5.Number': 'org_level_5_number'})"
   ]
  },
  {
   "cell_type": "code",
   "execution_count": 4,
   "metadata": {
    "collapsed": false
   },
   "outputs": [
    {
     "data": {
      "text/html": [
       "<div style=\"max-height:1000px;max-width:1500px;overflow:auto;\">\n",
       "<table border=\"1\" class=\"dataframe\">\n",
       "  <thead>\n",
       "    <tr style=\"text-align: right;\">\n",
       "      <th></th>\n",
       "      <th>Unnamed: 0</th>\n",
       "      <th>Tier.3...UC.Category.Group</th>\n",
       "      <th>PO.Date</th>\n",
       "      <th>PO.Number</th>\n",
       "      <th>PO.Commitment</th>\n",
       "      <th>PO.Line.Number</th>\n",
       "      <th>Org.Level.1</th>\n",
       "      <th>Org.Level.1.Number</th>\n",
       "      <th>Org.Level.2.Number</th>\n",
       "      <th>Org.Level.2</th>\n",
       "      <th>Org.Level.3</th>\n",
       "      <th>Org.Level.3.Number</th>\n",
       "      <th>org_level_4</th>\n",
       "      <th>org_level_4_number</th>\n",
       "      <th>org_level_5</th>\n",
       "      <th>org_level_5_number</th>\n",
       "      <th>Org.Level.6</th>\n",
       "      <th>Org.Level.6.Number</th>\n",
       "      <th>Org.Level.7</th>\n",
       "      <th>Org.Level.7.Number</th>\n",
       "    </tr>\n",
       "  </thead>\n",
       "  <tbody>\n",
       "    <tr>\n",
       "      <th>0</th>\n",
       "      <td> 1</td>\n",
       "      <td>                   NaN</td>\n",
       "      <td>        NaN</td>\n",
       "      <td>        NaN</td>\n",
       "      <td> 1,378,222,902.63</td>\n",
       "      <td>NaN</td>\n",
       "      <td>         NaN</td>\n",
       "      <td>   NaN</td>\n",
       "      <td>   NaN</td>\n",
       "      <td>            NaN</td>\n",
       "      <td>                      NaN</td>\n",
       "      <td>   NaN</td>\n",
       "      <td>                            NaN</td>\n",
       "      <td>   NaN</td>\n",
       "      <td>               NaN</td>\n",
       "      <td>   NaN</td>\n",
       "      <td>              NaN</td>\n",
       "      <td>   NaN</td>\n",
       "      <td>                   NaN</td>\n",
       "      <td>                   NaN</td>\n",
       "    </tr>\n",
       "    <tr>\n",
       "      <th>1</th>\n",
       "      <td> 2</td>\n",
       "      <td> Building Construction</td>\n",
       "      <td> 07/05/2012</td>\n",
       "      <td> BB00040468</td>\n",
       "      <td>           300.00</td>\n",
       "      <td>  1</td>\n",
       "      <td> UC Berkeley</td>\n",
       "      <td> UCBKL</td>\n",
       "      <td> CAMSU</td>\n",
       "      <td> Campus Support</td>\n",
       "      <td>      Facilities Services</td>\n",
       "      <td> VCCPD</td>\n",
       "      <td>    Capital Projects Operations</td>\n",
       "      <td> ALPDC</td>\n",
       "      <td>     CP Operations</td>\n",
       "      <td> ALOPS</td>\n",
       "      <td> CP Operations-L6</td>\n",
       "      <td> ALOP6</td>\n",
       "      <td> Null from Data Source</td>\n",
       "      <td> Null from Data Source</td>\n",
       "    </tr>\n",
       "    <tr>\n",
       "      <th>2</th>\n",
       "      <td> 3</td>\n",
       "      <td> Building Construction</td>\n",
       "      <td> 07/16/2012</td>\n",
       "      <td> BB00044826</td>\n",
       "      <td>         2,500.00</td>\n",
       "      <td>  1</td>\n",
       "      <td> UC Berkeley</td>\n",
       "      <td> UCBKL</td>\n",
       "      <td> CAMSU</td>\n",
       "      <td> Campus Support</td>\n",
       "      <td> Administration &amp; Finance</td>\n",
       "      <td> VCBAS</td>\n",
       "      <td> Business &amp; Administrative Svcs</td>\n",
       "      <td> BSAVC</td>\n",
       "      <td> University Police</td>\n",
       "      <td> FUPOL</td>\n",
       "      <td>  UCPD Operations</td>\n",
       "      <td> FUOPS</td>\n",
       "      <td> Null from Data Source</td>\n",
       "      <td> Null from Data Source</td>\n",
       "    </tr>\n",
       "  </tbody>\n",
       "</table>\n",
       "</div>"
      ],
      "text/plain": [
       "   Unnamed: 0 Tier.3...UC.Category.Group     PO.Date   PO.Number  \\\n",
       "0           1                        NaN         NaN         NaN   \n",
       "1           2      Building Construction  07/05/2012  BB00040468   \n",
       "2           3      Building Construction  07/16/2012  BB00044826   \n",
       "\n",
       "      PO.Commitment  PO.Line.Number  Org.Level.1 Org.Level.1.Number  \\\n",
       "0  1,378,222,902.63             NaN          NaN                NaN   \n",
       "1            300.00               1  UC Berkeley              UCBKL   \n",
       "2          2,500.00               1  UC Berkeley              UCBKL   \n",
       "\n",
       "  Org.Level.2.Number     Org.Level.2               Org.Level.3  \\\n",
       "0                NaN             NaN                       NaN   \n",
       "1              CAMSU  Campus Support       Facilities Services   \n",
       "2              CAMSU  Campus Support  Administration & Finance   \n",
       "\n",
       "  Org.Level.3.Number                     org_level_4 org_level_4_number  \\\n",
       "0                NaN                             NaN                NaN   \n",
       "1              VCCPD     Capital Projects Operations              ALPDC   \n",
       "2              VCBAS  Business & Administrative Svcs              BSAVC   \n",
       "\n",
       "         org_level_5 org_level_5_number       Org.Level.6 Org.Level.6.Number  \\\n",
       "0                NaN                NaN               NaN                NaN   \n",
       "1      CP Operations              ALOPS  CP Operations-L6              ALOP6   \n",
       "2  University Police              FUPOL   UCPD Operations              FUOPS   \n",
       "\n",
       "             Org.Level.7     Org.Level.7.Number  \n",
       "0                    NaN                    NaN  \n",
       "1  Null from Data Source  Null from Data Source  \n",
       "2  Null from Data Source  Null from Data Source  "
      ]
     },
     "execution_count": 4,
     "metadata": {},
     "output_type": "execute_result"
    }
   ],
   "source": [
    "data.head(3)"
   ]
  },
  {
   "cell_type": "code",
   "execution_count": 7,
   "metadata": {
    "collapsed": false
   },
   "outputs": [],
   "source": [
    "data4Number = data[[\"org_level_4\",\"org_level_4_number\"]]\n",
    "data4Number = data4Number.drop_duplicates()\n",
    "data4Number = data4Number[[\"org_level_4_number\", \"org_level_4\"]]\n",
    "#reindex after drop dup\n",
    "data4Number.index = range(1,len(data4Number) + 1)\n"
   ]
  },
  {
   "cell_type": "code",
   "execution_count": 8,
   "metadata": {
    "collapsed": true
   },
   "outputs": [],
   "source": [
    "data5Number = data[[\"org_level_5\",\"org_level_5_number\"]]\n",
    "data5Number = data5Number.drop_duplicates()\n",
    "data5Number = data5Number[[\"org_level_5_number\", \"org_level_5\"]]\n",
    "data5Number.index = range(1,len(data5Number) + 1)"
   ]
  },
  {
   "cell_type": "code",
   "execution_count": 10,
   "metadata": {
    "collapsed": false
   },
   "outputs": [
    {
     "data": {
      "text/plain": [
       "291"
      ]
     },
     "execution_count": 10,
     "metadata": {},
     "output_type": "execute_result"
    }
   ],
   "source": [
    "len(data4Number)\n",
    "#data4Number = data4Number.drop(data4Number.index[[0]])\n",
    "#data4Number"
   ]
  },
  {
   "cell_type": "code",
   "execution_count": 40,
   "metadata": {
    "collapsed": false
   },
   "outputs": [],
   "source": [
    "#data4Number['org_level_4_number'] = data4['org_level_4_number'].to_string()"
   ]
  },
  {
   "cell_type": "code",
   "execution_count": 52,
   "metadata": {
    "collapsed": false
   },
   "outputs": [],
   "source": [
    "#a = data4Number.org_level_4_number[3]\n",
    "#type(data4Number)"
   ]
  },
  {
   "cell_type": "code",
   "execution_count": 93,
   "metadata": {
    "collapsed": false
   },
   "outputs": [],
   "source": [
    "#data4Number['org_level_4_number'] =  data4Number['org_level_4_number'].map(str.strip)"
   ]
  },
  {
   "cell_type": "code",
   "execution_count": 94,
   "metadata": {
    "collapsed": false
   },
   "outputs": [],
   "source": [
    "#convert data frame into a dictionary\n",
    "#data4Dic = data4Number.set_index('org_level_4_number').to_dict()"
   ]
  },
  {
   "cell_type": "code",
   "execution_count": 11,
   "metadata": {
    "collapsed": false
   },
   "outputs": [
    {
     "data": {
      "text/plain": [
       "'DACE5'"
      ]
     },
     "execution_count": 11,
     "metadata": {},
     "output_type": "execute_result"
    }
   ],
   "source": [
    "data5Number.org_level_5_number[7]"
   ]
  },
  {
   "cell_type": "code",
   "execution_count": 12,
   "metadata": {
    "collapsed": false
   },
   "outputs": [
    {
     "data": {
      "text/html": [
       "<div style=\"max-height:1000px;max-width:1500px;overflow:auto;\">\n",
       "<table border=\"1\" class=\"dataframe\">\n",
       "  <thead>\n",
       "    <tr style=\"text-align: right;\">\n",
       "      <th></th>\n",
       "      <th>org_level_4_number</th>\n",
       "      <th>org_level_4</th>\n",
       "    </tr>\n",
       "  </thead>\n",
       "  <tbody>\n",
       "    <tr>\n",
       "      <th>1 </th>\n",
       "      <td>   NaN</td>\n",
       "      <td>                            NaN</td>\n",
       "    </tr>\n",
       "    <tr>\n",
       "      <th>2 </th>\n",
       "      <td> ALPDC</td>\n",
       "      <td>    Capital Projects Operations</td>\n",
       "    </tr>\n",
       "    <tr>\n",
       "      <th>3 </th>\n",
       "      <td> BSAVC</td>\n",
       "      <td> Business &amp; Administrative Svcs</td>\n",
       "    </tr>\n",
       "    <tr>\n",
       "      <th>4 </th>\n",
       "      <td> EXADM</td>\n",
       "      <td>      UNEX Administrative Depts</td>\n",
       "    </tr>\n",
       "    <tr>\n",
       "      <th>5 </th>\n",
       "      <td> EDDNO</td>\n",
       "      <td>              Eng Dean's Office</td>\n",
       "    </tr>\n",
       "    <tr>\n",
       "      <th>6 </th>\n",
       "      <td> EHEEC</td>\n",
       "      <td>        Elec Engr &amp; Computer Sc</td>\n",
       "    </tr>\n",
       "    <tr>\n",
       "      <th>7 </th>\n",
       "      <td> DACED</td>\n",
       "      <td>        Envir Design Dean's Off</td>\n",
       "    </tr>\n",
       "    <tr>\n",
       "      <th>8 </th>\n",
       "      <td> UKHDS</td>\n",
       "      <td>      Housing &amp; Dining Services</td>\n",
       "    </tr>\n",
       "    <tr>\n",
       "      <th>9 </th>\n",
       "      <td> FNATH</td>\n",
       "      <td>      Intercollegiate Athletics</td>\n",
       "    </tr>\n",
       "    <tr>\n",
       "      <th>10</th>\n",
       "      <td> VRIST</td>\n",
       "      <td>     Info Services &amp; Technology</td>\n",
       "    </tr>\n",
       "  </tbody>\n",
       "</table>\n",
       "</div>"
      ],
      "text/plain": [
       "   org_level_4_number                     org_level_4\n",
       "1                 NaN                             NaN\n",
       "2               ALPDC     Capital Projects Operations\n",
       "3               BSAVC  Business & Administrative Svcs\n",
       "4               EXADM       UNEX Administrative Depts\n",
       "5               EDDNO               Eng Dean's Office\n",
       "6               EHEEC         Elec Engr & Computer Sc\n",
       "7               DACED         Envir Design Dean's Off\n",
       "8               UKHDS       Housing & Dining Services\n",
       "9               FNATH       Intercollegiate Athletics\n",
       "10              VRIST      Info Services & Technology"
      ]
     },
     "execution_count": 12,
     "metadata": {},
     "output_type": "execute_result"
    }
   ],
   "source": [
    "data4Number.head(10)\n",
    "#reindiex\n",
    "#data4Number = data4Number.reindex(index = [0,291])\n",
    "\n",
    "#data4Number.org_level_4_number[1]\n"
   ]
  },
  {
   "cell_type": "code",
   "execution_count": 13,
   "metadata": {
    "collapsed": false
   },
   "outputs": [],
   "source": [
    "data4Dic = {}"
   ]
  },
  {
   "cell_type": "code",
   "execution_count": 14,
   "metadata": {
    "collapsed": false
   },
   "outputs": [],
   "source": [
    "#CREATE A DICITONARY for org elevel 4\n",
    "#data4Dic2[data4Number.org_level_4_number[1]] = data4Number.org_level_4[1]\n",
    "i=1\n",
    "for i in range(1,len(data4Number)):\n",
    "    #while i < 3:\n",
    "    data4Dic.update({data4Number.org_level_4_number[i]:data4Number.org_level_4[i]}) \n",
    "    \n"
   ]
  },
  {
   "cell_type": "code",
   "execution_count": 15,
   "metadata": {
    "collapsed": true
   },
   "outputs": [],
   "source": [
    "data5Dic = {}"
   ]
  },
  {
   "cell_type": "code",
   "execution_count": 16,
   "metadata": {
    "collapsed": true
   },
   "outputs": [],
   "source": [
    "i=1\n",
    "for i in range(1,len(data5Number)):\n",
    "    #while i < 3:\n",
    "    data5Dic.update({data5Number.org_level_5_number[i]:data5Number.org_level_5[i]})"
   ]
  },
  {
   "cell_type": "code",
   "execution_count": 17,
   "metadata": {
    "collapsed": false
   },
   "outputs": [
    {
     "data": {
      "text/plain": [
       "606"
      ]
     },
     "execution_count": 17,
     "metadata": {},
     "output_type": "execute_result"
    }
   ],
   "source": [
    "data5Dic\n",
    "len(data5Number)"
   ]
  },
  {
   "cell_type": "code",
   "execution_count": 18,
   "metadata": {
    "collapsed": false
   },
   "outputs": [
    {
     "data": {
      "text/plain": [
       "nan"
      ]
     },
     "execution_count": 18,
     "metadata": {},
     "output_type": "execute_result"
    }
   ],
   "source": [
    "data5Number.org_level_5_number[1]"
   ]
  },
  {
   "cell_type": "code",
   "execution_count": 19,
   "metadata": {
    "collapsed": false
   },
   "outputs": [
    {
     "data": {
      "text/plain": [
       "nan"
      ]
     },
     "execution_count": 19,
     "metadata": {},
     "output_type": "execute_result"
    }
   ],
   "source": [
    "data4Number.org_level_4_number[1]\n",
    "#len(data4Number)"
   ]
  },
  {
   "cell_type": "code",
   "execution_count": 20,
   "metadata": {
    "collapsed": true
   },
   "outputs": [],
   "source": [
    "dataOrig = pd.read_csv('/Users/dariushbozorgmehri/Documents/My Work/Berkeley Classes Spring 2015/BIDS/data/UCB_dept_merge.csv', low_memory=False)"
   ]
  },
  {
   "cell_type": "code",
   "execution_count": 21,
   "metadata": {
    "collapsed": false
   },
   "outputs": [
    {
     "data": {
      "text/html": [
       "<div style=\"max-height:1000px;max-width:1500px;overflow:auto;\">\n",
       "<table border=\"1\" class=\"dataframe\">\n",
       "  <thead>\n",
       "    <tr style=\"text-align: right;\">\n",
       "      <th></th>\n",
       "      <th>po_id</th>\n",
       "      <th>po_num</th>\n",
       "      <th>creation_date</th>\n",
       "      <th>supplier_name</th>\n",
       "      <th>item_type</th>\n",
       "      <th>product_description</th>\n",
       "      <th>manufacturer</th>\n",
       "      <th>quantity</th>\n",
       "      <th>unit_price</th>\n",
       "      <th>department</th>\n",
       "      <th>buyer__first_name</th>\n",
       "      <th>buyer__last_name</th>\n",
       "      <th>po_closed_date</th>\n",
       "      <th>department_name</th>\n",
       "      <th>spend</th>\n",
       "    </tr>\n",
       "  </thead>\n",
       "  <tbody>\n",
       "    <tr>\n",
       "      <th>0</th>\n",
       "      <td> 29847876</td>\n",
       "      <td> BB00195887</td>\n",
       "      <td> 2013-05-31 00:00:00</td>\n",
       "      <td>         GIVE SOMETHING BACK</td>\n",
       "      <td>  SQ Hosted Product</td>\n",
       "      <td> PORTABLE COMBINATION LAPTOP LOCK, 6 FT. CARBON...</td>\n",
       "      <td>                    KENSINGTON</td>\n",
       "      <td> 30</td>\n",
       "      <td>  24.32</td>\n",
       "      <td>NaN</td>\n",
       "      <td>    Dustin</td>\n",
       "      <td>   Miller</td>\n",
       "      <td> 2013-07-16 00:00:00</td>\n",
       "      <td> UIAPA UB Academic Year</td>\n",
       "      <td> 795.26</td>\n",
       "    </tr>\n",
       "    <tr>\n",
       "      <th>1</th>\n",
       "      <td> 29847864</td>\n",
       "      <td> BB00195886</td>\n",
       "      <td> 2013-05-31 00:00:00</td>\n",
       "      <td>                GRAINGER INC</td>\n",
       "      <td>   PunchOut Product</td>\n",
       "      <td> Wall Mount Fan, Oscillating, Number of Speeds ...</td>\n",
       "      <td>                      AIR KING</td>\n",
       "      <td>  1</td>\n",
       "      <td>  35.58</td>\n",
       "      <td>NaN</td>\n",
       "      <td>      Erin</td>\n",
       "      <td> Pinkston</td>\n",
       "      <td> 2013-08-08 00:00:00</td>\n",
       "      <td> UKHDS Unit 1 Apt Admin</td>\n",
       "      <td>  38.78</td>\n",
       "    </tr>\n",
       "    <tr>\n",
       "      <th>2</th>\n",
       "      <td> 29847796</td>\n",
       "      <td> BB00195884</td>\n",
       "      <td> 2013-05-31 00:00:00</td>\n",
       "      <td>            BELLCO GLASS INC</td>\n",
       "      <td> NonCatalog Product</td>\n",
       "      <td> Septum Stopper, 20mm Blue Butyl Rubber QtyPerC...</td>\n",
       "      <td>                           NaN</td>\n",
       "      <td>  1</td>\n",
       "      <td>  77.41</td>\n",
       "      <td>NaN</td>\n",
       "      <td>   William</td>\n",
       "      <td>     Wolf</td>\n",
       "      <td>                 NaN</td>\n",
       "      <td>     CCHEM RES Research</td>\n",
       "      <td> 104.67</td>\n",
       "    </tr>\n",
       "    <tr>\n",
       "      <th>3</th>\n",
       "      <td> 29847820</td>\n",
       "      <td> BB00195885</td>\n",
       "      <td> 2013-05-31 00:00:00</td>\n",
       "      <td> CHEMGLASS LIFE SCIENCES LLC</td>\n",
       "      <td> NonCatalog Product</td>\n",
       "      <td> Column, Chromatography, 24/40 Outer Joint, 100...</td>\n",
       "      <td>                           NaN</td>\n",
       "      <td>  1</td>\n",
       "      <td> 108.00</td>\n",
       "      <td>NaN</td>\n",
       "      <td>   William</td>\n",
       "      <td>     Wolf</td>\n",
       "      <td> 2014-10-30 00:00:00</td>\n",
       "      <td>     CCHEM RES Research</td>\n",
       "      <td>  71.77</td>\n",
       "    </tr>\n",
       "    <tr>\n",
       "      <th>4</th>\n",
       "      <td> 29847565</td>\n",
       "      <td> BB00195881</td>\n",
       "      <td> 2013-05-31 00:00:00</td>\n",
       "      <td>           FISHER SCIENTIFIC</td>\n",
       "      <td>  SQ Hosted Product</td>\n",
       "      <td> Bottles, Media/Lab; Wheaton;Graduated; With ru...</td>\n",
       "      <td>  Wheaton Science Products Inc</td>\n",
       "      <td>  1</td>\n",
       "      <td> 135.38</td>\n",
       "      <td>NaN</td>\n",
       "      <td> Donald C.</td>\n",
       "      <td>      RIO</td>\n",
       "      <td>                 NaN</td>\n",
       "      <td>      IMMCB BH Research</td>\n",
       "      <td> 317.31</td>\n",
       "    </tr>\n",
       "    <tr>\n",
       "      <th>5</th>\n",
       "      <td> 29847565</td>\n",
       "      <td> BB00195881</td>\n",
       "      <td> 2013-05-31 00:00:00</td>\n",
       "      <td>           FISHER SCIENTIFIC</td>\n",
       "      <td>  SQ Hosted Product</td>\n",
       "      <td> Flasks, Cell Culture; Corning; Wide neck; Stac...</td>\n",
       "      <td> Corning Life Sciences Plastic</td>\n",
       "      <td>  1</td>\n",
       "      <td>  81.29</td>\n",
       "      <td>NaN</td>\n",
       "      <td> Donald C.</td>\n",
       "      <td>      RIO</td>\n",
       "      <td>                 NaN</td>\n",
       "      <td>      IMMCB BH Research</td>\n",
       "      <td> 317.31</td>\n",
       "    </tr>\n",
       "    <tr>\n",
       "      <th>6</th>\n",
       "      <td> 29847565</td>\n",
       "      <td> BB00195881</td>\n",
       "      <td> 2013-05-31 00:00:00</td>\n",
       "      <td>           FISHER SCIENTIFIC</td>\n",
       "      <td>  SQ Hosted Product</td>\n",
       "      <td> Filter unit; EMD Millipore; Steriflip; Disposa...</td>\n",
       "      <td>            Emd Millipore Corp</td>\n",
       "      <td>  1</td>\n",
       "      <td>  96.56</td>\n",
       "      <td>NaN</td>\n",
       "      <td> Donald C.</td>\n",
       "      <td>      RIO</td>\n",
       "      <td>                 NaN</td>\n",
       "      <td>      IMMCB BH Research</td>\n",
       "      <td> 317.31</td>\n",
       "    </tr>\n",
       "  </tbody>\n",
       "</table>\n",
       "</div>"
      ],
      "text/plain": [
       "      po_id      po_num        creation_date                supplier_name  \\\n",
       "0  29847876  BB00195887  2013-05-31 00:00:00          GIVE SOMETHING BACK   \n",
       "1  29847864  BB00195886  2013-05-31 00:00:00                 GRAINGER INC   \n",
       "2  29847796  BB00195884  2013-05-31 00:00:00             BELLCO GLASS INC   \n",
       "3  29847820  BB00195885  2013-05-31 00:00:00  CHEMGLASS LIFE SCIENCES LLC   \n",
       "4  29847565  BB00195881  2013-05-31 00:00:00            FISHER SCIENTIFIC   \n",
       "5  29847565  BB00195881  2013-05-31 00:00:00            FISHER SCIENTIFIC   \n",
       "6  29847565  BB00195881  2013-05-31 00:00:00            FISHER SCIENTIFIC   \n",
       "\n",
       "            item_type                                product_description  \\\n",
       "0   SQ Hosted Product  PORTABLE COMBINATION LAPTOP LOCK, 6 FT. CARBON...   \n",
       "1    PunchOut Product  Wall Mount Fan, Oscillating, Number of Speeds ...   \n",
       "2  NonCatalog Product  Septum Stopper, 20mm Blue Butyl Rubber QtyPerC...   \n",
       "3  NonCatalog Product  Column, Chromatography, 24/40 Outer Joint, 100...   \n",
       "4   SQ Hosted Product  Bottles, Media/Lab; Wheaton;Graduated; With ru...   \n",
       "5   SQ Hosted Product  Flasks, Cell Culture; Corning; Wide neck; Stac...   \n",
       "6   SQ Hosted Product  Filter unit; EMD Millipore; Steriflip; Disposa...   \n",
       "\n",
       "                    manufacturer  quantity  unit_price  department  \\\n",
       "0                     KENSINGTON        30       24.32         NaN   \n",
       "1                       AIR KING         1       35.58         NaN   \n",
       "2                            NaN         1       77.41         NaN   \n",
       "3                            NaN         1      108.00         NaN   \n",
       "4   Wheaton Science Products Inc         1      135.38         NaN   \n",
       "5  Corning Life Sciences Plastic         1       81.29         NaN   \n",
       "6             Emd Millipore Corp         1       96.56         NaN   \n",
       "\n",
       "  buyer__first_name buyer__last_name       po_closed_date  \\\n",
       "0            Dustin           Miller  2013-07-16 00:00:00   \n",
       "1              Erin         Pinkston  2013-08-08 00:00:00   \n",
       "2           William             Wolf                  NaN   \n",
       "3           William             Wolf  2014-10-30 00:00:00   \n",
       "4         Donald C.              RIO                  NaN   \n",
       "5         Donald C.              RIO                  NaN   \n",
       "6         Donald C.              RIO                  NaN   \n",
       "\n",
       "          department_name   spend  \n",
       "0  UIAPA UB Academic Year  795.26  \n",
       "1  UKHDS Unit 1 Apt Admin   38.78  \n",
       "2      CCHEM RES Research  104.67  \n",
       "3      CCHEM RES Research   71.77  \n",
       "4       IMMCB BH Research  317.31  \n",
       "5       IMMCB BH Research  317.31  \n",
       "6       IMMCB BH Research  317.31  "
      ]
     },
     "execution_count": 21,
     "metadata": {},
     "output_type": "execute_result"
    }
   ],
   "source": [
    "dataOrig.head(7)"
   ]
  },
  {
   "cell_type": "code",
   "execution_count": 22,
   "metadata": {
    "collapsed": false
   },
   "outputs": [],
   "source": [
    "dataOrig['department_number'] = dataOrig[\"department_name\"].apply(lambda x: x[:5])\n",
    "dataOrig['department_name_stripped'] = dataOrig[\"department_name\"].apply(lambda x: x[6:])\n"
   ]
  },
  {
   "cell_type": "code",
   "execution_count": 23,
   "metadata": {
    "collapsed": false
   },
   "outputs": [],
   "source": [
    "dataOrig['department_name_update'] = \"\""
   ]
  },
  {
   "cell_type": "code",
   "execution_count": 24,
   "metadata": {
    "collapsed": false
   },
   "outputs": [
    {
     "data": {
      "text/html": [
       "<div style=\"max-height:1000px;max-width:1500px;overflow:auto;\">\n",
       "<table border=\"1\" class=\"dataframe\">\n",
       "  <thead>\n",
       "    <tr style=\"text-align: right;\">\n",
       "      <th></th>\n",
       "      <th>po_id</th>\n",
       "      <th>po_num</th>\n",
       "      <th>creation_date</th>\n",
       "      <th>supplier_name</th>\n",
       "      <th>item_type</th>\n",
       "      <th>product_description</th>\n",
       "      <th>manufacturer</th>\n",
       "      <th>quantity</th>\n",
       "      <th>unit_price</th>\n",
       "      <th>department</th>\n",
       "      <th>buyer__first_name</th>\n",
       "      <th>buyer__last_name</th>\n",
       "      <th>po_closed_date</th>\n",
       "      <th>department_name</th>\n",
       "      <th>spend</th>\n",
       "      <th>department_number</th>\n",
       "      <th>department_name_stripped</th>\n",
       "      <th>department_name_update</th>\n",
       "    </tr>\n",
       "  </thead>\n",
       "  <tbody>\n",
       "    <tr>\n",
       "      <th>0</th>\n",
       "      <td> 29847876</td>\n",
       "      <td> BB00195887</td>\n",
       "      <td> 2013-05-31 00:00:00</td>\n",
       "      <td>         GIVE SOMETHING BACK</td>\n",
       "      <td>  SQ Hosted Product</td>\n",
       "      <td> PORTABLE COMBINATION LAPTOP LOCK, 6 FT. CARBON...</td>\n",
       "      <td>                   KENSINGTON</td>\n",
       "      <td> 30</td>\n",
       "      <td>  24.32</td>\n",
       "      <td>NaN</td>\n",
       "      <td>    Dustin</td>\n",
       "      <td>   Miller</td>\n",
       "      <td> 2013-07-16 00:00:00</td>\n",
       "      <td> UIAPA UB Academic Year</td>\n",
       "      <td> 795.26</td>\n",
       "      <td> UIAPA</td>\n",
       "      <td> UB Academic Year</td>\n",
       "      <td> </td>\n",
       "    </tr>\n",
       "    <tr>\n",
       "      <th>1</th>\n",
       "      <td> 29847864</td>\n",
       "      <td> BB00195886</td>\n",
       "      <td> 2013-05-31 00:00:00</td>\n",
       "      <td>                GRAINGER INC</td>\n",
       "      <td>   PunchOut Product</td>\n",
       "      <td> Wall Mount Fan, Oscillating, Number of Speeds ...</td>\n",
       "      <td>                     AIR KING</td>\n",
       "      <td>  1</td>\n",
       "      <td>  35.58</td>\n",
       "      <td>NaN</td>\n",
       "      <td>      Erin</td>\n",
       "      <td> Pinkston</td>\n",
       "      <td> 2013-08-08 00:00:00</td>\n",
       "      <td> UKHDS Unit 1 Apt Admin</td>\n",
       "      <td>  38.78</td>\n",
       "      <td> UKHDS</td>\n",
       "      <td> Unit 1 Apt Admin</td>\n",
       "      <td> </td>\n",
       "    </tr>\n",
       "    <tr>\n",
       "      <th>2</th>\n",
       "      <td> 29847796</td>\n",
       "      <td> BB00195884</td>\n",
       "      <td> 2013-05-31 00:00:00</td>\n",
       "      <td>            BELLCO GLASS INC</td>\n",
       "      <td> NonCatalog Product</td>\n",
       "      <td> Septum Stopper, 20mm Blue Butyl Rubber QtyPerC...</td>\n",
       "      <td>                          NaN</td>\n",
       "      <td>  1</td>\n",
       "      <td>  77.41</td>\n",
       "      <td>NaN</td>\n",
       "      <td>   William</td>\n",
       "      <td>     Wolf</td>\n",
       "      <td>                 NaN</td>\n",
       "      <td>     CCHEM RES Research</td>\n",
       "      <td> 104.67</td>\n",
       "      <td> CCHEM</td>\n",
       "      <td>     RES Research</td>\n",
       "      <td> </td>\n",
       "    </tr>\n",
       "    <tr>\n",
       "      <th>3</th>\n",
       "      <td> 29847820</td>\n",
       "      <td> BB00195885</td>\n",
       "      <td> 2013-05-31 00:00:00</td>\n",
       "      <td> CHEMGLASS LIFE SCIENCES LLC</td>\n",
       "      <td> NonCatalog Product</td>\n",
       "      <td> Column, Chromatography, 24/40 Outer Joint, 100...</td>\n",
       "      <td>                          NaN</td>\n",
       "      <td>  1</td>\n",
       "      <td> 108.00</td>\n",
       "      <td>NaN</td>\n",
       "      <td>   William</td>\n",
       "      <td>     Wolf</td>\n",
       "      <td> 2014-10-30 00:00:00</td>\n",
       "      <td>     CCHEM RES Research</td>\n",
       "      <td>  71.77</td>\n",
       "      <td> CCHEM</td>\n",
       "      <td>     RES Research</td>\n",
       "      <td> </td>\n",
       "    </tr>\n",
       "    <tr>\n",
       "      <th>4</th>\n",
       "      <td> 29847565</td>\n",
       "      <td> BB00195881</td>\n",
       "      <td> 2013-05-31 00:00:00</td>\n",
       "      <td>           FISHER SCIENTIFIC</td>\n",
       "      <td>  SQ Hosted Product</td>\n",
       "      <td> Bottles, Media/Lab; Wheaton;Graduated; With ru...</td>\n",
       "      <td> Wheaton Science Products Inc</td>\n",
       "      <td>  1</td>\n",
       "      <td> 135.38</td>\n",
       "      <td>NaN</td>\n",
       "      <td> Donald C.</td>\n",
       "      <td>      RIO</td>\n",
       "      <td>                 NaN</td>\n",
       "      <td>      IMMCB BH Research</td>\n",
       "      <td> 317.31</td>\n",
       "      <td> IMMCB</td>\n",
       "      <td>      BH Research</td>\n",
       "      <td> </td>\n",
       "    </tr>\n",
       "  </tbody>\n",
       "</table>\n",
       "</div>"
      ],
      "text/plain": [
       "      po_id      po_num        creation_date                supplier_name  \\\n",
       "0  29847876  BB00195887  2013-05-31 00:00:00          GIVE SOMETHING BACK   \n",
       "1  29847864  BB00195886  2013-05-31 00:00:00                 GRAINGER INC   \n",
       "2  29847796  BB00195884  2013-05-31 00:00:00             BELLCO GLASS INC   \n",
       "3  29847820  BB00195885  2013-05-31 00:00:00  CHEMGLASS LIFE SCIENCES LLC   \n",
       "4  29847565  BB00195881  2013-05-31 00:00:00            FISHER SCIENTIFIC   \n",
       "\n",
       "            item_type                                product_description  \\\n",
       "0   SQ Hosted Product  PORTABLE COMBINATION LAPTOP LOCK, 6 FT. CARBON...   \n",
       "1    PunchOut Product  Wall Mount Fan, Oscillating, Number of Speeds ...   \n",
       "2  NonCatalog Product  Septum Stopper, 20mm Blue Butyl Rubber QtyPerC...   \n",
       "3  NonCatalog Product  Column, Chromatography, 24/40 Outer Joint, 100...   \n",
       "4   SQ Hosted Product  Bottles, Media/Lab; Wheaton;Graduated; With ru...   \n",
       "\n",
       "                   manufacturer  quantity  unit_price  department  \\\n",
       "0                    KENSINGTON        30       24.32         NaN   \n",
       "1                      AIR KING         1       35.58         NaN   \n",
       "2                           NaN         1       77.41         NaN   \n",
       "3                           NaN         1      108.00         NaN   \n",
       "4  Wheaton Science Products Inc         1      135.38         NaN   \n",
       "\n",
       "  buyer__first_name buyer__last_name       po_closed_date  \\\n",
       "0            Dustin           Miller  2013-07-16 00:00:00   \n",
       "1              Erin         Pinkston  2013-08-08 00:00:00   \n",
       "2           William             Wolf                  NaN   \n",
       "3           William             Wolf  2014-10-30 00:00:00   \n",
       "4         Donald C.              RIO                  NaN   \n",
       "\n",
       "          department_name   spend department_number department_name_stripped  \\\n",
       "0  UIAPA UB Academic Year  795.26             UIAPA         UB Academic Year   \n",
       "1  UKHDS Unit 1 Apt Admin   38.78             UKHDS         Unit 1 Apt Admin   \n",
       "2      CCHEM RES Research  104.67             CCHEM             RES Research   \n",
       "3      CCHEM RES Research   71.77             CCHEM             RES Research   \n",
       "4       IMMCB BH Research  317.31             IMMCB              BH Research   \n",
       "\n",
       "  department_name_update  \n",
       "0                         \n",
       "1                         \n",
       "2                         \n",
       "3                         \n",
       "4                         "
      ]
     },
     "execution_count": 24,
     "metadata": {},
     "output_type": "execute_result"
    }
   ],
   "source": [
    "dataOrig.head()"
   ]
  },
  {
   "cell_type": "code",
   "execution_count": 48,
   "metadata": {
    "collapsed": false
   },
   "outputs": [
    {
     "data": {
      "text/plain": [
       "'#this creates a list\\ndataOrigEdit = dataOrig[\"department_number\"]\\n#convert back to dataframe\\ndataOrigEdit = pd.DataFrame(dataOrigEdit)\\ndataOrigEdit '"
      ]
     },
     "execution_count": 48,
     "metadata": {},
     "output_type": "execute_result"
    }
   ],
   "source": [
    "\"\"\"#this creates a list\n",
    "dataOrigEdit = dataOrig[\"department_number\"]\n",
    "#convert back to dataframe\n",
    "dataOrigEdit = pd.DataFrame(dataOrigEdit)\n",
    "dataOrigEdit \"\"\""
   ]
  },
  {
   "cell_type": "code",
   "execution_count": 114,
   "metadata": {
    "collapsed": false
   },
   "outputs": [
    {
     "data": {
      "text/html": [
       "<div style=\"max-height:1000px;max-width:1500px;overflow:auto;\">\n",
       "<table border=\"1\" class=\"dataframe\">\n",
       "  <thead>\n",
       "    <tr style=\"text-align: right;\">\n",
       "      <th></th>\n",
       "      <th>po_id</th>\n",
       "      <th>po_num</th>\n",
       "      <th>creation_date</th>\n",
       "      <th>supplier_name</th>\n",
       "      <th>item_type</th>\n",
       "      <th>product_description</th>\n",
       "      <th>manufacturer</th>\n",
       "      <th>quantity</th>\n",
       "      <th>unit_price</th>\n",
       "      <th>department</th>\n",
       "      <th>buyer__first_name</th>\n",
       "      <th>buyer__last_name</th>\n",
       "      <th>po_closed_date</th>\n",
       "      <th>department_name</th>\n",
       "      <th>spend</th>\n",
       "      <th>department_number</th>\n",
       "      <th>department_name_update</th>\n",
       "      <th>org_level_4_number</th>\n",
       "      <th>org_level_4</th>\n",
       "    </tr>\n",
       "  </thead>\n",
       "  <tbody>\n",
       "  </tbody>\n",
       "</table>\n",
       "</div>"
      ],
      "text/plain": [
       "Empty DataFrame\n",
       "Columns: [po_id, po_num, creation_date, supplier_name, item_type, product_description, manufacturer, quantity, unit_price, department, buyer__first_name, buyer__last_name, po_closed_date, department_name, spend, department_number, department_name_update, org_level_4_number, org_level_4]\n",
       "Index: []"
      ]
     },
     "execution_count": 114,
     "metadata": {},
     "output_type": "execute_result"
    }
   ],
   "source": [
    "dataMerged = pd.merge(dataOrig, data4Number, left_on='department_number', right_index=True)\n",
    "dataMerged"
   ]
  },
  {
   "cell_type": "code",
   "execution_count": 58,
   "metadata": {
    "collapsed": false
   },
   "outputs": [
    {
     "data": {
      "text/plain": [
       "'ALPDC'"
      ]
     },
     "execution_count": 58,
     "metadata": {},
     "output_type": "execute_result"
    }
   ],
   "source": [
    "i=0\n",
    "#dataOrig.department_number[i] \n",
    "\n",
    "j=1\n",
    "data4Number.org_level_4_number[j]\n"
   ]
  },
  {
   "cell_type": "markdown",
   "metadata": {},
   "source": [
    "# WRITE SCRIPT TO INSERT NEW DEPARTMENTS\n"
   ]
  },
  {
   "cell_type": "code",
   "execution_count": 151,
   "metadata": {
    "collapsed": false
   },
   "outputs": [
    {
     "data": {
      "text/plain": [
       "' i=0\\nfor i in range(10000,50000):\\n    j=0\\n    for j in range(1, len(data4Number)):\\n        #print j\\n        if  dataOrig.department_number[i] == data4Number.org_level_4_number[j]:\\n            dataOrig.department_name_update[i] = data4Number.org_level_4[j]   '"
      ]
     },
     "execution_count": 151,
     "metadata": {},
     "output_type": "execute_result"
    }
   ],
   "source": [
    "\"\"\" i=0\n",
    "for i in range(10000,50000):\n",
    "    j=0\n",
    "    for j in range(1, len(data4Number)):\n",
    "        #print j\n",
    "        if  dataOrig.department_number[i] == data4Number.org_level_4_number[j]:\n",
    "            dataOrig.department_name_update[i] = data4Number.org_level_4[j]   \"\"\"\n",
    " "
   ]
  },
  {
   "cell_type": "code",
   "execution_count": 25,
   "metadata": {
    "collapsed": false
   },
   "outputs": [],
   "source": [
    "#USE DICTIONARY!!!\n",
    "i=0\n",
    "for i in range(1,len(dataOrig)):\n",
    "    if  dataOrig.department_number[i] in data4Dic:\n",
    "        #print \"in there\"\n",
    "        dataOrig.department_name_update[i] = data4Dic[dataOrig.department_number[i]]\n",
    "    elif dataOrig.department_number[i] in data5Dic:\n",
    "        dataOrig.department_name_update[i] = data5Dic[dataOrig.department_number[i]]\n",
    "    else:\n",
    "        dataOrig.department_name_update[i] = dataOrig.department_name_stripped[i]\n",
    "\n"
   ]
  },
  {
   "cell_type": "code",
   "execution_count": 27,
   "metadata": {
    "collapsed": false
   },
   "outputs": [
    {
     "data": {
      "text/html": [
       "<div style=\"max-height:1000px;max-width:1500px;overflow:auto;\">\n",
       "<table border=\"1\" class=\"dataframe\">\n",
       "  <thead>\n",
       "    <tr style=\"text-align: right;\">\n",
       "      <th></th>\n",
       "      <th>po_id</th>\n",
       "      <th>po_num</th>\n",
       "      <th>creation_date</th>\n",
       "      <th>supplier_name</th>\n",
       "      <th>item_type</th>\n",
       "      <th>product_description</th>\n",
       "      <th>manufacturer</th>\n",
       "      <th>quantity</th>\n",
       "      <th>unit_price</th>\n",
       "      <th>department</th>\n",
       "      <th>buyer__first_name</th>\n",
       "      <th>buyer__last_name</th>\n",
       "      <th>po_closed_date</th>\n",
       "      <th>department_name</th>\n",
       "      <th>spend</th>\n",
       "      <th>department_number</th>\n",
       "      <th>department_name_stripped</th>\n",
       "      <th>department_name_update</th>\n",
       "    </tr>\n",
       "  </thead>\n",
       "  <tbody>\n",
       "    <tr>\n",
       "      <th>0</th>\n",
       "      <td> 29847876</td>\n",
       "      <td> BB00195887</td>\n",
       "      <td> 2013-05-31 00:00:00</td>\n",
       "      <td>         GIVE SOMETHING BACK</td>\n",
       "      <td>  SQ Hosted Product</td>\n",
       "      <td> PORTABLE COMBINATION LAPTOP LOCK, 6 FT. CARBON...</td>\n",
       "      <td>                   KENSINGTON</td>\n",
       "      <td> 30</td>\n",
       "      <td>  24.32</td>\n",
       "      <td>NaN</td>\n",
       "      <td>    Dustin</td>\n",
       "      <td>   Miller</td>\n",
       "      <td> 2013-07-16 00:00:00</td>\n",
       "      <td> UIAPA UB Academic Year</td>\n",
       "      <td> 795.26</td>\n",
       "      <td> UIAPA</td>\n",
       "      <td> UB Academic Year</td>\n",
       "      <td>                          </td>\n",
       "    </tr>\n",
       "    <tr>\n",
       "      <th>1</th>\n",
       "      <td> 29847864</td>\n",
       "      <td> BB00195886</td>\n",
       "      <td> 2013-05-31 00:00:00</td>\n",
       "      <td>                GRAINGER INC</td>\n",
       "      <td>   PunchOut Product</td>\n",
       "      <td> Wall Mount Fan, Oscillating, Number of Speeds ...</td>\n",
       "      <td>                     AIR KING</td>\n",
       "      <td>  1</td>\n",
       "      <td>  35.58</td>\n",
       "      <td>NaN</td>\n",
       "      <td>      Erin</td>\n",
       "      <td> Pinkston</td>\n",
       "      <td> 2013-08-08 00:00:00</td>\n",
       "      <td> UKHDS Unit 1 Apt Admin</td>\n",
       "      <td>  38.78</td>\n",
       "      <td> UKHDS</td>\n",
       "      <td> Unit 1 Apt Admin</td>\n",
       "      <td> Housing &amp; Dining Services</td>\n",
       "    </tr>\n",
       "    <tr>\n",
       "      <th>2</th>\n",
       "      <td> 29847796</td>\n",
       "      <td> BB00195884</td>\n",
       "      <td> 2013-05-31 00:00:00</td>\n",
       "      <td>            BELLCO GLASS INC</td>\n",
       "      <td> NonCatalog Product</td>\n",
       "      <td> Septum Stopper, 20mm Blue Butyl Rubber QtyPerC...</td>\n",
       "      <td>                          NaN</td>\n",
       "      <td>  1</td>\n",
       "      <td>  77.41</td>\n",
       "      <td>NaN</td>\n",
       "      <td>   William</td>\n",
       "      <td>     Wolf</td>\n",
       "      <td>                 NaN</td>\n",
       "      <td>     CCHEM RES Research</td>\n",
       "      <td> 104.67</td>\n",
       "      <td> CCHEM</td>\n",
       "      <td>     RES Research</td>\n",
       "      <td>         Dept Of Chemistry</td>\n",
       "    </tr>\n",
       "    <tr>\n",
       "      <th>3</th>\n",
       "      <td> 29847820</td>\n",
       "      <td> BB00195885</td>\n",
       "      <td> 2013-05-31 00:00:00</td>\n",
       "      <td> CHEMGLASS LIFE SCIENCES LLC</td>\n",
       "      <td> NonCatalog Product</td>\n",
       "      <td> Column, Chromatography, 24/40 Outer Joint, 100...</td>\n",
       "      <td>                          NaN</td>\n",
       "      <td>  1</td>\n",
       "      <td> 108.00</td>\n",
       "      <td>NaN</td>\n",
       "      <td>   William</td>\n",
       "      <td>     Wolf</td>\n",
       "      <td> 2014-10-30 00:00:00</td>\n",
       "      <td>     CCHEM RES Research</td>\n",
       "      <td>  71.77</td>\n",
       "      <td> CCHEM</td>\n",
       "      <td>     RES Research</td>\n",
       "      <td>         Dept Of Chemistry</td>\n",
       "    </tr>\n",
       "    <tr>\n",
       "      <th>4</th>\n",
       "      <td> 29847565</td>\n",
       "      <td> BB00195881</td>\n",
       "      <td> 2013-05-31 00:00:00</td>\n",
       "      <td>           FISHER SCIENTIFIC</td>\n",
       "      <td>  SQ Hosted Product</td>\n",
       "      <td> Bottles, Media/Lab; Wheaton;Graduated; With ru...</td>\n",
       "      <td> Wheaton Science Products Inc</td>\n",
       "      <td>  1</td>\n",
       "      <td> 135.38</td>\n",
       "      <td>NaN</td>\n",
       "      <td> Donald C.</td>\n",
       "      <td>      RIO</td>\n",
       "      <td>                 NaN</td>\n",
       "      <td>      IMMCB BH Research</td>\n",
       "      <td> 317.31</td>\n",
       "      <td> IMMCB</td>\n",
       "      <td>      BH Research</td>\n",
       "      <td>  Molecular &amp; Cell Biology</td>\n",
       "    </tr>\n",
       "  </tbody>\n",
       "</table>\n",
       "</div>"
      ],
      "text/plain": [
       "      po_id      po_num        creation_date                supplier_name  \\\n",
       "0  29847876  BB00195887  2013-05-31 00:00:00          GIVE SOMETHING BACK   \n",
       "1  29847864  BB00195886  2013-05-31 00:00:00                 GRAINGER INC   \n",
       "2  29847796  BB00195884  2013-05-31 00:00:00             BELLCO GLASS INC   \n",
       "3  29847820  BB00195885  2013-05-31 00:00:00  CHEMGLASS LIFE SCIENCES LLC   \n",
       "4  29847565  BB00195881  2013-05-31 00:00:00            FISHER SCIENTIFIC   \n",
       "\n",
       "            item_type                                product_description  \\\n",
       "0   SQ Hosted Product  PORTABLE COMBINATION LAPTOP LOCK, 6 FT. CARBON...   \n",
       "1    PunchOut Product  Wall Mount Fan, Oscillating, Number of Speeds ...   \n",
       "2  NonCatalog Product  Septum Stopper, 20mm Blue Butyl Rubber QtyPerC...   \n",
       "3  NonCatalog Product  Column, Chromatography, 24/40 Outer Joint, 100...   \n",
       "4   SQ Hosted Product  Bottles, Media/Lab; Wheaton;Graduated; With ru...   \n",
       "\n",
       "                   manufacturer  quantity  unit_price  department  \\\n",
       "0                    KENSINGTON        30       24.32         NaN   \n",
       "1                      AIR KING         1       35.58         NaN   \n",
       "2                           NaN         1       77.41         NaN   \n",
       "3                           NaN         1      108.00         NaN   \n",
       "4  Wheaton Science Products Inc         1      135.38         NaN   \n",
       "\n",
       "  buyer__first_name buyer__last_name       po_closed_date  \\\n",
       "0            Dustin           Miller  2013-07-16 00:00:00   \n",
       "1              Erin         Pinkston  2013-08-08 00:00:00   \n",
       "2           William             Wolf                  NaN   \n",
       "3           William             Wolf  2014-10-30 00:00:00   \n",
       "4         Donald C.              RIO                  NaN   \n",
       "\n",
       "          department_name   spend department_number department_name_stripped  \\\n",
       "0  UIAPA UB Academic Year  795.26             UIAPA         UB Academic Year   \n",
       "1  UKHDS Unit 1 Apt Admin   38.78             UKHDS         Unit 1 Apt Admin   \n",
       "2      CCHEM RES Research  104.67             CCHEM             RES Research   \n",
       "3      CCHEM RES Research   71.77             CCHEM             RES Research   \n",
       "4       IMMCB BH Research  317.31             IMMCB              BH Research   \n",
       "\n",
       "      department_name_update  \n",
       "0                             \n",
       "1  Housing & Dining Services  \n",
       "2          Dept Of Chemistry  \n",
       "3          Dept Of Chemistry  \n",
       "4   Molecular & Cell Biology  "
      ]
     },
     "execution_count": 27,
     "metadata": {},
     "output_type": "execute_result"
    }
   ],
   "source": [
    "dataOrig.head()"
   ]
  },
  {
   "cell_type": "code",
   "execution_count": 28,
   "metadata": {
    "collapsed": false
   },
   "outputs": [
    {
     "data": {
      "text/plain": [
       "count                       611110\n",
       "unique                         524\n",
       "top       Molecular & Cell Biology\n",
       "freq                         48808\n",
       "dtype: object"
      ]
     },
     "execution_count": 28,
     "metadata": {},
     "output_type": "execute_result"
    }
   ],
   "source": [
    "dataOrig.department_name_update.describe()"
   ]
  },
  {
   "cell_type": "markdown",
   "metadata": {},
   "source": [
    "# MAKE THE GRAPH\n"
   ]
  },
  {
   "cell_type": "code",
   "execution_count": 3,
   "metadata": {
    "collapsed": false
   },
   "outputs": [],
   "source": [
    "#READ IN CLEANED UP DATA\n",
    "#dataOrig.to_csv('/Users/dariushbozorgmehri/Documents/My Work/Berkeley Classes Spring 2015/BIDS/data/temp.csv')\n",
    "dataOrig = pd.read_csv('/Users/dariushbozorgmehri/Documents/My Work/Berkeley Classes Spring 2015/BIDS/data/temp.csv')"
   ]
  },
  {
   "cell_type": "code",
   "execution_count": 4,
   "metadata": {
    "collapsed": false
   },
   "outputs": [],
   "source": [
    "#clean up data\n",
    "dataOrig['supplier_name'] =  dataOrig['supplier_name'].str.replace(',', ' ')\n",
    "dataOrig['supplier_name'] =  dataOrig['supplier_name'].str.replace(' ', '_')\n",
    "dataOrig['department_name_update'] =  dataOrig['department_name_update'].str.replace(',', ' ')\n",
    "dataOrig['department_name_update'] =  dataOrig['department_name_update'].str.replace(' ', '_')\n"
   ]
  },
  {
   "cell_type": "code",
   "execution_count": 5,
   "metadata": {
    "collapsed": true
   },
   "outputs": [],
   "source": [
    "dataOrig['creation_date'] = dataOrig['creation_date'].str.replace('00:00:00', '')\n"
   ]
  },
  {
   "cell_type": "code",
   "execution_count": 6,
   "metadata": {
    "collapsed": true
   },
   "outputs": [],
   "source": [
    "#create seperate year, month, day colums\n",
    "\n",
    "dataOrig['year'] = dataOrig[\"creation_date\"].apply(lambda x: x[:4])\n",
    "dataOrig['month'] = dataOrig['creation_date'].apply(lambda x: x[5:7])\n",
    "dataOrig['day'] = dataOrig['creation_date'].apply(lambda x: x[8:10])"
   ]
  },
  {
   "cell_type": "code",
   "execution_count": 8,
   "metadata": {
    "collapsed": false
   },
   "outputs": [
    {
     "data": {
      "text/html": [
       "<div style=\"max-height:1000px;max-width:1500px;overflow:auto;\">\n",
       "<table border=\"1\" class=\"dataframe\">\n",
       "  <thead>\n",
       "    <tr style=\"text-align: right;\">\n",
       "      <th></th>\n",
       "      <th>Unnamed: 0</th>\n",
       "      <th>po_id</th>\n",
       "      <th>po_num</th>\n",
       "      <th>creation_date</th>\n",
       "      <th>supplier_name</th>\n",
       "      <th>item_type</th>\n",
       "      <th>product_description</th>\n",
       "      <th>manufacturer</th>\n",
       "      <th>quantity</th>\n",
       "      <th>unit_price</th>\n",
       "      <th>...</th>\n",
       "      <th>buyer__last_name</th>\n",
       "      <th>po_closed_date</th>\n",
       "      <th>department_name</th>\n",
       "      <th>spend</th>\n",
       "      <th>department_number</th>\n",
       "      <th>department_name_stripped</th>\n",
       "      <th>department_name_update</th>\n",
       "      <th>year</th>\n",
       "      <th>month</th>\n",
       "      <th>day</th>\n",
       "    </tr>\n",
       "  </thead>\n",
       "  <tbody>\n",
       "    <tr>\n",
       "      <th>0</th>\n",
       "      <td> 0</td>\n",
       "      <td> 29847876</td>\n",
       "      <td> BB00195887</td>\n",
       "      <td> 2013-05-31 </td>\n",
       "      <td> GIVE_SOMETHING_BACK</td>\n",
       "      <td>  SQ Hosted Product</td>\n",
       "      <td> PORTABLE COMBINATION LAPTOP LOCK, 6 FT. CARBON...</td>\n",
       "      <td> KENSINGTON</td>\n",
       "      <td> 30</td>\n",
       "      <td> 24.32</td>\n",
       "      <td>...</td>\n",
       "      <td>   Miller</td>\n",
       "      <td> 2013-07-16 00:00:00</td>\n",
       "      <td> UIAPA UB Academic Year</td>\n",
       "      <td> 795.26</td>\n",
       "      <td> UIAPA</td>\n",
       "      <td> UB Academic Year</td>\n",
       "      <td>                       NaN</td>\n",
       "      <td> 2013</td>\n",
       "      <td> 05</td>\n",
       "      <td> 31</td>\n",
       "    </tr>\n",
       "    <tr>\n",
       "      <th>1</th>\n",
       "      <td> 1</td>\n",
       "      <td> 29847864</td>\n",
       "      <td> BB00195886</td>\n",
       "      <td> 2013-05-31 </td>\n",
       "      <td>        GRAINGER_INC</td>\n",
       "      <td>   PunchOut Product</td>\n",
       "      <td> Wall Mount Fan, Oscillating, Number of Speeds ...</td>\n",
       "      <td>   AIR KING</td>\n",
       "      <td>  1</td>\n",
       "      <td> 35.58</td>\n",
       "      <td>...</td>\n",
       "      <td> Pinkston</td>\n",
       "      <td> 2013-08-08 00:00:00</td>\n",
       "      <td> UKHDS Unit 1 Apt Admin</td>\n",
       "      <td>  38.78</td>\n",
       "      <td> UKHDS</td>\n",
       "      <td> Unit 1 Apt Admin</td>\n",
       "      <td> Housing_&amp;_Dining_Services</td>\n",
       "      <td> 2013</td>\n",
       "      <td> 05</td>\n",
       "      <td> 31</td>\n",
       "    </tr>\n",
       "    <tr>\n",
       "      <th>2</th>\n",
       "      <td> 2</td>\n",
       "      <td> 29847796</td>\n",
       "      <td> BB00195884</td>\n",
       "      <td> 2013-05-31 </td>\n",
       "      <td>    BELLCO_GLASS_INC</td>\n",
       "      <td> NonCatalog Product</td>\n",
       "      <td> Septum Stopper, 20mm Blue Butyl Rubber QtyPerC...</td>\n",
       "      <td>        NaN</td>\n",
       "      <td>  1</td>\n",
       "      <td> 77.41</td>\n",
       "      <td>...</td>\n",
       "      <td>     Wolf</td>\n",
       "      <td>                 NaN</td>\n",
       "      <td>     CCHEM RES Research</td>\n",
       "      <td> 104.67</td>\n",
       "      <td> CCHEM</td>\n",
       "      <td>     RES Research</td>\n",
       "      <td>         Dept_Of_Chemistry</td>\n",
       "      <td> 2013</td>\n",
       "      <td> 05</td>\n",
       "      <td> 31</td>\n",
       "    </tr>\n",
       "  </tbody>\n",
       "</table>\n",
       "<p>3 rows × 22 columns</p>\n",
       "</div>"
      ],
      "text/plain": [
       "   Unnamed: 0     po_id      po_num creation_date        supplier_name  \\\n",
       "0           0  29847876  BB00195887   2013-05-31   GIVE_SOMETHING_BACK   \n",
       "1           1  29847864  BB00195886   2013-05-31          GRAINGER_INC   \n",
       "2           2  29847796  BB00195884   2013-05-31      BELLCO_GLASS_INC   \n",
       "\n",
       "            item_type                                product_description  \\\n",
       "0   SQ Hosted Product  PORTABLE COMBINATION LAPTOP LOCK, 6 FT. CARBON...   \n",
       "1    PunchOut Product  Wall Mount Fan, Oscillating, Number of Speeds ...   \n",
       "2  NonCatalog Product  Septum Stopper, 20mm Blue Butyl Rubber QtyPerC...   \n",
       "\n",
       "  manufacturer  quantity  unit_price     ...      buyer__last_name  \\\n",
       "0   KENSINGTON        30       24.32     ...                Miller   \n",
       "1     AIR KING         1       35.58     ...              Pinkston   \n",
       "2          NaN         1       77.41     ...                  Wolf   \n",
       "\n",
       "        po_closed_date         department_name   spend department_number  \\\n",
       "0  2013-07-16 00:00:00  UIAPA UB Academic Year  795.26             UIAPA   \n",
       "1  2013-08-08 00:00:00  UKHDS Unit 1 Apt Admin   38.78             UKHDS   \n",
       "2                  NaN      CCHEM RES Research  104.67             CCHEM   \n",
       "\n",
       "   department_name_stripped     department_name_update  year month day  \n",
       "0          UB Academic Year                        NaN  2013    05  31  \n",
       "1          Unit 1 Apt Admin  Housing_&_Dining_Services  2013    05  31  \n",
       "2              RES Research          Dept_Of_Chemistry  2013    05  31  \n",
       "\n",
       "[3 rows x 22 columns]"
      ]
     },
     "execution_count": 8,
     "metadata": {},
     "output_type": "execute_result"
    }
   ],
   "source": [
    "dataOrig.head(3)"
   ]
  },
  {
   "cell_type": "code",
   "execution_count": 9,
   "metadata": {
    "collapsed": false
   },
   "outputs": [],
   "source": [
    "#subset data\n",
    "#data = data[['creation_date', 'supplier_name','item_type','org_level_3']]\n",
    "dataOrigSubset = dataOrig[[ 'supplier_name','department_name_update','item_type','year','month','day']]"
   ]
  },
  {
   "cell_type": "code",
   "execution_count": 11,
   "metadata": {
    "collapsed": false
   },
   "outputs": [
    {
     "data": {
      "text/html": [
       "<div style=\"max-height:1000px;max-width:1500px;overflow:auto;\">\n",
       "<table border=\"1\" class=\"dataframe\">\n",
       "  <thead>\n",
       "    <tr style=\"text-align: right;\">\n",
       "      <th></th>\n",
       "      <th>supplier_name</th>\n",
       "      <th>department_name_update</th>\n",
       "      <th>item_type</th>\n",
       "      <th>year</th>\n",
       "      <th>month</th>\n",
       "      <th>day</th>\n",
       "    </tr>\n",
       "  </thead>\n",
       "  <tbody>\n",
       "    <tr>\n",
       "      <th>0 </th>\n",
       "      <td>                               GIVE_SOMETHING_BACK</td>\n",
       "      <td>                            NaN</td>\n",
       "      <td>  SQ Hosted Product</td>\n",
       "      <td> 2013</td>\n",
       "      <td> 05</td>\n",
       "      <td> 31</td>\n",
       "    </tr>\n",
       "    <tr>\n",
       "      <th>1 </th>\n",
       "      <td>                                      GRAINGER_INC</td>\n",
       "      <td>      Housing_&amp;_Dining_Services</td>\n",
       "      <td>   PunchOut Product</td>\n",
       "      <td> 2013</td>\n",
       "      <td> 05</td>\n",
       "      <td> 31</td>\n",
       "    </tr>\n",
       "    <tr>\n",
       "      <th>2 </th>\n",
       "      <td>                                  BELLCO_GLASS_INC</td>\n",
       "      <td>              Dept_Of_Chemistry</td>\n",
       "      <td> NonCatalog Product</td>\n",
       "      <td> 2013</td>\n",
       "      <td> 05</td>\n",
       "      <td> 31</td>\n",
       "    </tr>\n",
       "    <tr>\n",
       "      <th>3 </th>\n",
       "      <td>                       CHEMGLASS_LIFE_SCIENCES_LLC</td>\n",
       "      <td>              Dept_Of_Chemistry</td>\n",
       "      <td> NonCatalog Product</td>\n",
       "      <td> 2013</td>\n",
       "      <td> 05</td>\n",
       "      <td> 31</td>\n",
       "    </tr>\n",
       "    <tr>\n",
       "      <th>4 </th>\n",
       "      <td>                                 FISHER_SCIENTIFIC</td>\n",
       "      <td>       Molecular_&amp;_Cell_Biology</td>\n",
       "      <td>  SQ Hosted Product</td>\n",
       "      <td> 2013</td>\n",
       "      <td> 05</td>\n",
       "      <td> 31</td>\n",
       "    </tr>\n",
       "    <tr>\n",
       "      <th>5 </th>\n",
       "      <td>                                 FISHER_SCIENTIFIC</td>\n",
       "      <td>       Molecular_&amp;_Cell_Biology</td>\n",
       "      <td>  SQ Hosted Product</td>\n",
       "      <td> 2013</td>\n",
       "      <td> 05</td>\n",
       "      <td> 31</td>\n",
       "    </tr>\n",
       "    <tr>\n",
       "      <th>6 </th>\n",
       "      <td>                                 FISHER_SCIENTIFIC</td>\n",
       "      <td>       Molecular_&amp;_Cell_Biology</td>\n",
       "      <td>  SQ Hosted Product</td>\n",
       "      <td> 2013</td>\n",
       "      <td> 05</td>\n",
       "      <td> 31</td>\n",
       "    </tr>\n",
       "    <tr>\n",
       "      <th>7 </th>\n",
       "      <td>                       EPPENDORF_NORTH_AMERICA_INC</td>\n",
       "      <td>       Molecular_&amp;_Cell_Biology</td>\n",
       "      <td> NonCatalog Product</td>\n",
       "      <td> 2013</td>\n",
       "      <td> 05</td>\n",
       "      <td> 31</td>\n",
       "    </tr>\n",
       "    <tr>\n",
       "      <th>8 </th>\n",
       "      <td>                             VWR_INTERNATIONAL_INC</td>\n",
       "      <td>       Molecular_&amp;_Cell_Biology</td>\n",
       "      <td>  SQ Hosted Product</td>\n",
       "      <td> 2013</td>\n",
       "      <td> 05</td>\n",
       "      <td> 31</td>\n",
       "    </tr>\n",
       "    <tr>\n",
       "      <th>9 </th>\n",
       "      <td> EMD_MILLIPORE_CORPORATION_(Formerly_EMD_Chemic...</td>\n",
       "      <td>     Nutritional_Sci_&amp;_Tox_Dept</td>\n",
       "      <td>  SQ Hosted Product</td>\n",
       "      <td> 2013</td>\n",
       "      <td> 05</td>\n",
       "      <td> 31</td>\n",
       "    </tr>\n",
       "    <tr>\n",
       "      <th>10</th>\n",
       "      <td>                      MATRIX_PROMOTIONAL_MARKETING</td>\n",
       "      <td> Summer_Sessions_&amp;_Study_Abroad</td>\n",
       "      <td> NonCatalog Product</td>\n",
       "      <td> 2013</td>\n",
       "      <td> 05</td>\n",
       "      <td> 31</td>\n",
       "    </tr>\n",
       "    <tr>\n",
       "      <th>11</th>\n",
       "      <td>                         EMD_MILLIPORE_CORPORATION</td>\n",
       "      <td>     Nutritional_Sci_&amp;_Tox_Dept</td>\n",
       "      <td>  SQ Hosted Product</td>\n",
       "      <td> 2013</td>\n",
       "      <td> 05</td>\n",
       "      <td> 31</td>\n",
       "    </tr>\n",
       "    <tr>\n",
       "      <th>12</th>\n",
       "      <td>                                        OFFICE_MAX</td>\n",
       "      <td>             Dept_of_Chemical_E</td>\n",
       "      <td>  SQ Hosted Product</td>\n",
       "      <td> 2013</td>\n",
       "      <td> 05</td>\n",
       "      <td> 31</td>\n",
       "    </tr>\n",
       "    <tr>\n",
       "      <th>13</th>\n",
       "      <td>                                        OFFICE_MAX</td>\n",
       "      <td>             Dept_of_Chemical_E</td>\n",
       "      <td>  SQ Hosted Product</td>\n",
       "      <td> 2013</td>\n",
       "      <td> 05</td>\n",
       "      <td> 31</td>\n",
       "    </tr>\n",
       "    <tr>\n",
       "      <th>14</th>\n",
       "      <td>                                        OFFICE_MAX</td>\n",
       "      <td>             Dept_of_Chemical_E</td>\n",
       "      <td>  SQ Hosted Product</td>\n",
       "      <td> 2013</td>\n",
       "      <td> 05</td>\n",
       "      <td> 31</td>\n",
       "    </tr>\n",
       "    <tr>\n",
       "      <th>15</th>\n",
       "      <td>                                 FISHER_SCIENTIFIC</td>\n",
       "      <td>   Environment__Health_&amp;_Safety</td>\n",
       "      <td>  SQ Hosted Product</td>\n",
       "      <td> 2013</td>\n",
       "      <td> 05</td>\n",
       "      <td> 31</td>\n",
       "    </tr>\n",
       "    <tr>\n",
       "      <th>16</th>\n",
       "      <td>                     Life_Technologies_Corporation</td>\n",
       "      <td>       Molecular_&amp;_Cell_Biology</td>\n",
       "      <td>  SQ Hosted Product</td>\n",
       "      <td> 2013</td>\n",
       "      <td> 05</td>\n",
       "      <td> 31</td>\n",
       "    </tr>\n",
       "    <tr>\n",
       "      <th>17</th>\n",
       "      <td>                                     SIGMA-ALDRICH</td>\n",
       "      <td>       Molecular_&amp;_Cell_Biology</td>\n",
       "      <td>  SQ Hosted Product</td>\n",
       "      <td> 2013</td>\n",
       "      <td> 05</td>\n",
       "      <td> 31</td>\n",
       "    </tr>\n",
       "    <tr>\n",
       "      <th>18</th>\n",
       "      <td>                                     SIGMA-ALDRICH</td>\n",
       "      <td>       Molecular_&amp;_Cell_Biology</td>\n",
       "      <td>  SQ Hosted Product</td>\n",
       "      <td> 2013</td>\n",
       "      <td> 05</td>\n",
       "      <td> 31</td>\n",
       "    </tr>\n",
       "    <tr>\n",
       "      <th>19</th>\n",
       "      <td>                     Life_Technologies_Corporation</td>\n",
       "      <td>       Molecular_&amp;_Cell_Biology</td>\n",
       "      <td>  SQ Hosted Product</td>\n",
       "      <td> 2013</td>\n",
       "      <td> 05</td>\n",
       "      <td> 31</td>\n",
       "    </tr>\n",
       "    <tr>\n",
       "      <th>20</th>\n",
       "      <td>                                     DigiKey_Corp.</td>\n",
       "      <td>      Space_Sciences_Laboratory</td>\n",
       "      <td> NonCatalog Product</td>\n",
       "      <td> 2013</td>\n",
       "      <td> 05</td>\n",
       "      <td> 31</td>\n",
       "    </tr>\n",
       "    <tr>\n",
       "      <th>21</th>\n",
       "      <td>                                     DigiKey_Corp.</td>\n",
       "      <td>      Space_Sciences_Laboratory</td>\n",
       "      <td> NonCatalog Product</td>\n",
       "      <td> 2013</td>\n",
       "      <td> 05</td>\n",
       "      <td> 31</td>\n",
       "    </tr>\n",
       "    <tr>\n",
       "      <th>22</th>\n",
       "      <td>                                 DELL_MARKETING_LP</td>\n",
       "      <td>  Inst_of_Personality_&amp;_Soc_Res</td>\n",
       "      <td>   PunchOut Product</td>\n",
       "      <td> 2013</td>\n",
       "      <td> 05</td>\n",
       "      <td> 31</td>\n",
       "    </tr>\n",
       "    <tr>\n",
       "      <th>23</th>\n",
       "      <td>                    PARTNERS_IN_COMMUNICATIONS_LLC</td>\n",
       "      <td>      Disabled_Students_Program</td>\n",
       "      <td> NonCatalog Product</td>\n",
       "      <td> 2013</td>\n",
       "      <td> 05</td>\n",
       "      <td> 31</td>\n",
       "    </tr>\n",
       "    <tr>\n",
       "      <th>24</th>\n",
       "      <td>                              Dead_End_Productions</td>\n",
       "      <td> Ctrs_Trans_Reent_Studt_Parents</td>\n",
       "      <td> NonCatalog Product</td>\n",
       "      <td> 2013</td>\n",
       "      <td> 05</td>\n",
       "      <td> 31</td>\n",
       "    </tr>\n",
       "    <tr>\n",
       "      <th>25</th>\n",
       "      <td>                    PARTNERS_IN_COMMUNICATIONS_LLC</td>\n",
       "      <td>      Disabled_Students_Program</td>\n",
       "      <td> NonCatalog Product</td>\n",
       "      <td> 2013</td>\n",
       "      <td> 05</td>\n",
       "      <td> 31</td>\n",
       "    </tr>\n",
       "    <tr>\n",
       "      <th>26</th>\n",
       "      <td>                    PARTNERS_IN_COMMUNICATIONS_LLC</td>\n",
       "      <td>      Disabled_Students_Program</td>\n",
       "      <td> NonCatalog Product</td>\n",
       "      <td> 2013</td>\n",
       "      <td> 05</td>\n",
       "      <td> 31</td>\n",
       "    </tr>\n",
       "    <tr>\n",
       "      <th>27</th>\n",
       "      <td>                    PARTNERS_IN_COMMUNICATIONS_LLC</td>\n",
       "      <td>      Disabled_Students_Program</td>\n",
       "      <td> NonCatalog Product</td>\n",
       "      <td> 2013</td>\n",
       "      <td> 05</td>\n",
       "      <td> 31</td>\n",
       "    </tr>\n",
       "    <tr>\n",
       "      <th>28</th>\n",
       "      <td>                                        OFFICE_MAX</td>\n",
       "      <td>  Professional_Development_Prog</td>\n",
       "      <td>  SQ Hosted Product</td>\n",
       "      <td> 2013</td>\n",
       "      <td> 05</td>\n",
       "      <td> 31</td>\n",
       "    </tr>\n",
       "    <tr>\n",
       "      <th>29</th>\n",
       "      <td>                             Linked_In_Corporation</td>\n",
       "      <td>                Human_Resources</td>\n",
       "      <td> NonCatalog Product</td>\n",
       "      <td> 2013</td>\n",
       "      <td> 05</td>\n",
       "      <td> 31</td>\n",
       "    </tr>\n",
       "    <tr>\n",
       "      <th>30</th>\n",
       "      <td>                             Linked_In_Corporation</td>\n",
       "      <td>                Human_Resources</td>\n",
       "      <td> NonCatalog Product</td>\n",
       "      <td> 2013</td>\n",
       "      <td> 05</td>\n",
       "      <td> 31</td>\n",
       "    </tr>\n",
       "    <tr>\n",
       "      <th>31</th>\n",
       "      <td>                                     ASHBY_FLOWERS</td>\n",
       "      <td>      Student_Life_Advising_Svs</td>\n",
       "      <td> NonCatalog Product</td>\n",
       "      <td> 2013</td>\n",
       "      <td> 05</td>\n",
       "      <td> 31</td>\n",
       "    </tr>\n",
       "    <tr>\n",
       "      <th>32</th>\n",
       "      <td>                                     ASHBY_FLOWERS</td>\n",
       "      <td>      Student_Life_Advising_Svs</td>\n",
       "      <td> NonCatalog Product</td>\n",
       "      <td> 2013</td>\n",
       "      <td> 05</td>\n",
       "      <td> 31</td>\n",
       "    </tr>\n",
       "    <tr>\n",
       "      <th>33</th>\n",
       "      <td>                                             CDW_G</td>\n",
       "      <td>                    Mathematics</td>\n",
       "      <td>   PunchOut Product</td>\n",
       "      <td> 2013</td>\n",
       "      <td> 05</td>\n",
       "      <td> 31</td>\n",
       "    </tr>\n",
       "    <tr>\n",
       "      <th>34</th>\n",
       "      <td>                       ONE_WORKPLACE_L_FERRARI_LLC</td>\n",
       "      <td>                      Geography</td>\n",
       "      <td>   PunchOut Product</td>\n",
       "      <td> 2013</td>\n",
       "      <td> 05</td>\n",
       "      <td> 31</td>\n",
       "    </tr>\n",
       "    <tr>\n",
       "      <th>35</th>\n",
       "      <td>                                     TED_PELLA_INC</td>\n",
       "      <td>              Dept_Of_Chemistry</td>\n",
       "      <td> NonCatalog Product</td>\n",
       "      <td> 2013</td>\n",
       "      <td> 05</td>\n",
       "      <td> 31</td>\n",
       "    </tr>\n",
       "    <tr>\n",
       "      <th>36</th>\n",
       "      <td>                                     TED_PELLA_INC</td>\n",
       "      <td>              Dept_Of_Chemistry</td>\n",
       "      <td> NonCatalog Product</td>\n",
       "      <td> 2013</td>\n",
       "      <td> 05</td>\n",
       "      <td> 31</td>\n",
       "    </tr>\n",
       "    <tr>\n",
       "      <th>37</th>\n",
       "      <td>                                     TED_PELLA_INC</td>\n",
       "      <td>              Dept_Of_Chemistry</td>\n",
       "      <td> NonCatalog Product</td>\n",
       "      <td> 2013</td>\n",
       "      <td> 05</td>\n",
       "      <td> 31</td>\n",
       "    </tr>\n",
       "    <tr>\n",
       "      <th>38</th>\n",
       "      <td>                                     TED_PELLA_INC</td>\n",
       "      <td>              Dept_Of_Chemistry</td>\n",
       "      <td> NonCatalog Product</td>\n",
       "      <td> 2013</td>\n",
       "      <td> 05</td>\n",
       "      <td> 31</td>\n",
       "    </tr>\n",
       "    <tr>\n",
       "      <th>39</th>\n",
       "      <td>                                     TED_PELLA_INC</td>\n",
       "      <td>              Dept_Of_Chemistry</td>\n",
       "      <td> NonCatalog Product</td>\n",
       "      <td> 2013</td>\n",
       "      <td> 05</td>\n",
       "      <td> 31</td>\n",
       "    </tr>\n",
       "    <tr>\n",
       "      <th>40</th>\n",
       "      <td>                                     TED_PELLA_INC</td>\n",
       "      <td>              Dept_Of_Chemistry</td>\n",
       "      <td> NonCatalog Product</td>\n",
       "      <td> 2013</td>\n",
       "      <td> 05</td>\n",
       "      <td> 31</td>\n",
       "    </tr>\n",
       "    <tr>\n",
       "      <th>41</th>\n",
       "      <td>                                     TED_PELLA_INC</td>\n",
       "      <td>              Dept_Of_Chemistry</td>\n",
       "      <td> NonCatalog Product</td>\n",
       "      <td> 2013</td>\n",
       "      <td> 05</td>\n",
       "      <td> 31</td>\n",
       "    </tr>\n",
       "    <tr>\n",
       "      <th>42</th>\n",
       "      <td>                                     TED_PELLA_INC</td>\n",
       "      <td>              Dept_Of_Chemistry</td>\n",
       "      <td> NonCatalog Product</td>\n",
       "      <td> 2013</td>\n",
       "      <td> 05</td>\n",
       "      <td> 31</td>\n",
       "    </tr>\n",
       "    <tr>\n",
       "      <th>43</th>\n",
       "      <td>                                     TED_PELLA_INC</td>\n",
       "      <td>              Dept_Of_Chemistry</td>\n",
       "      <td> NonCatalog Product</td>\n",
       "      <td> 2013</td>\n",
       "      <td> 05</td>\n",
       "      <td> 31</td>\n",
       "    </tr>\n",
       "    <tr>\n",
       "      <th>44</th>\n",
       "      <td>                                     TED_PELLA_INC</td>\n",
       "      <td>              Dept_Of_Chemistry</td>\n",
       "      <td> NonCatalog Product</td>\n",
       "      <td> 2013</td>\n",
       "      <td> 05</td>\n",
       "      <td> 31</td>\n",
       "    </tr>\n",
       "    <tr>\n",
       "      <th>45</th>\n",
       "      <td>                                     TED_PELLA_INC</td>\n",
       "      <td>              Dept_Of_Chemistry</td>\n",
       "      <td> NonCatalog Product</td>\n",
       "      <td> 2013</td>\n",
       "      <td> 05</td>\n",
       "      <td> 31</td>\n",
       "    </tr>\n",
       "    <tr>\n",
       "      <th>46</th>\n",
       "      <td>                                     TED_PELLA_INC</td>\n",
       "      <td>              Dept_Of_Chemistry</td>\n",
       "      <td> NonCatalog Product</td>\n",
       "      <td> 2013</td>\n",
       "      <td> 05</td>\n",
       "      <td> 31</td>\n",
       "    </tr>\n",
       "    <tr>\n",
       "      <th>47</th>\n",
       "      <td>                                     TED_PELLA_INC</td>\n",
       "      <td>              Dept_Of_Chemistry</td>\n",
       "      <td> NonCatalog Product</td>\n",
       "      <td> 2013</td>\n",
       "      <td> 05</td>\n",
       "      <td> 31</td>\n",
       "    </tr>\n",
       "    <tr>\n",
       "      <th>48</th>\n",
       "      <td>                                     TED_PELLA_INC</td>\n",
       "      <td>              Dept_Of_Chemistry</td>\n",
       "      <td> NonCatalog Product</td>\n",
       "      <td> 2013</td>\n",
       "      <td> 05</td>\n",
       "      <td> 31</td>\n",
       "    </tr>\n",
       "    <tr>\n",
       "      <th>49</th>\n",
       "      <td>                           MCMASTER_CARR_SUPPLY_CO</td>\n",
       "      <td>              Coll_of_Chem_Dean</td>\n",
       "      <td> NonCatalog Product</td>\n",
       "      <td> 2013</td>\n",
       "      <td> 05</td>\n",
       "      <td> 31</td>\n",
       "    </tr>\n",
       "  </tbody>\n",
       "</table>\n",
       "</div>"
      ],
      "text/plain": [
       "                                        supplier_name  \\\n",
       "0                                 GIVE_SOMETHING_BACK   \n",
       "1                                        GRAINGER_INC   \n",
       "2                                    BELLCO_GLASS_INC   \n",
       "3                         CHEMGLASS_LIFE_SCIENCES_LLC   \n",
       "4                                   FISHER_SCIENTIFIC   \n",
       "5                                   FISHER_SCIENTIFIC   \n",
       "6                                   FISHER_SCIENTIFIC   \n",
       "7                         EPPENDORF_NORTH_AMERICA_INC   \n",
       "8                               VWR_INTERNATIONAL_INC   \n",
       "9   EMD_MILLIPORE_CORPORATION_(Formerly_EMD_Chemic...   \n",
       "10                       MATRIX_PROMOTIONAL_MARKETING   \n",
       "11                          EMD_MILLIPORE_CORPORATION   \n",
       "12                                         OFFICE_MAX   \n",
       "13                                         OFFICE_MAX   \n",
       "14                                         OFFICE_MAX   \n",
       "15                                  FISHER_SCIENTIFIC   \n",
       "16                      Life_Technologies_Corporation   \n",
       "17                                      SIGMA-ALDRICH   \n",
       "18                                      SIGMA-ALDRICH   \n",
       "19                      Life_Technologies_Corporation   \n",
       "20                                      DigiKey_Corp.   \n",
       "21                                      DigiKey_Corp.   \n",
       "22                                  DELL_MARKETING_LP   \n",
       "23                     PARTNERS_IN_COMMUNICATIONS_LLC   \n",
       "24                               Dead_End_Productions   \n",
       "25                     PARTNERS_IN_COMMUNICATIONS_LLC   \n",
       "26                     PARTNERS_IN_COMMUNICATIONS_LLC   \n",
       "27                     PARTNERS_IN_COMMUNICATIONS_LLC   \n",
       "28                                         OFFICE_MAX   \n",
       "29                              Linked_In_Corporation   \n",
       "30                              Linked_In_Corporation   \n",
       "31                                      ASHBY_FLOWERS   \n",
       "32                                      ASHBY_FLOWERS   \n",
       "33                                              CDW_G   \n",
       "34                        ONE_WORKPLACE_L_FERRARI_LLC   \n",
       "35                                      TED_PELLA_INC   \n",
       "36                                      TED_PELLA_INC   \n",
       "37                                      TED_PELLA_INC   \n",
       "38                                      TED_PELLA_INC   \n",
       "39                                      TED_PELLA_INC   \n",
       "40                                      TED_PELLA_INC   \n",
       "41                                      TED_PELLA_INC   \n",
       "42                                      TED_PELLA_INC   \n",
       "43                                      TED_PELLA_INC   \n",
       "44                                      TED_PELLA_INC   \n",
       "45                                      TED_PELLA_INC   \n",
       "46                                      TED_PELLA_INC   \n",
       "47                                      TED_PELLA_INC   \n",
       "48                                      TED_PELLA_INC   \n",
       "49                            MCMASTER_CARR_SUPPLY_CO   \n",
       "\n",
       "            department_name_update           item_type  year month day  \n",
       "0                              NaN   SQ Hosted Product  2013    05  31  \n",
       "1        Housing_&_Dining_Services    PunchOut Product  2013    05  31  \n",
       "2                Dept_Of_Chemistry  NonCatalog Product  2013    05  31  \n",
       "3                Dept_Of_Chemistry  NonCatalog Product  2013    05  31  \n",
       "4         Molecular_&_Cell_Biology   SQ Hosted Product  2013    05  31  \n",
       "5         Molecular_&_Cell_Biology   SQ Hosted Product  2013    05  31  \n",
       "6         Molecular_&_Cell_Biology   SQ Hosted Product  2013    05  31  \n",
       "7         Molecular_&_Cell_Biology  NonCatalog Product  2013    05  31  \n",
       "8         Molecular_&_Cell_Biology   SQ Hosted Product  2013    05  31  \n",
       "9       Nutritional_Sci_&_Tox_Dept   SQ Hosted Product  2013    05  31  \n",
       "10  Summer_Sessions_&_Study_Abroad  NonCatalog Product  2013    05  31  \n",
       "11      Nutritional_Sci_&_Tox_Dept   SQ Hosted Product  2013    05  31  \n",
       "12              Dept_of_Chemical_E   SQ Hosted Product  2013    05  31  \n",
       "13              Dept_of_Chemical_E   SQ Hosted Product  2013    05  31  \n",
       "14              Dept_of_Chemical_E   SQ Hosted Product  2013    05  31  \n",
       "15    Environment__Health_&_Safety   SQ Hosted Product  2013    05  31  \n",
       "16        Molecular_&_Cell_Biology   SQ Hosted Product  2013    05  31  \n",
       "17        Molecular_&_Cell_Biology   SQ Hosted Product  2013    05  31  \n",
       "18        Molecular_&_Cell_Biology   SQ Hosted Product  2013    05  31  \n",
       "19        Molecular_&_Cell_Biology   SQ Hosted Product  2013    05  31  \n",
       "20       Space_Sciences_Laboratory  NonCatalog Product  2013    05  31  \n",
       "21       Space_Sciences_Laboratory  NonCatalog Product  2013    05  31  \n",
       "22   Inst_of_Personality_&_Soc_Res    PunchOut Product  2013    05  31  \n",
       "23       Disabled_Students_Program  NonCatalog Product  2013    05  31  \n",
       "24  Ctrs_Trans_Reent_Studt_Parents  NonCatalog Product  2013    05  31  \n",
       "25       Disabled_Students_Program  NonCatalog Product  2013    05  31  \n",
       "26       Disabled_Students_Program  NonCatalog Product  2013    05  31  \n",
       "27       Disabled_Students_Program  NonCatalog Product  2013    05  31  \n",
       "28   Professional_Development_Prog   SQ Hosted Product  2013    05  31  \n",
       "29                 Human_Resources  NonCatalog Product  2013    05  31  \n",
       "30                 Human_Resources  NonCatalog Product  2013    05  31  \n",
       "31       Student_Life_Advising_Svs  NonCatalog Product  2013    05  31  \n",
       "32       Student_Life_Advising_Svs  NonCatalog Product  2013    05  31  \n",
       "33                     Mathematics    PunchOut Product  2013    05  31  \n",
       "34                       Geography    PunchOut Product  2013    05  31  \n",
       "35               Dept_Of_Chemistry  NonCatalog Product  2013    05  31  \n",
       "36               Dept_Of_Chemistry  NonCatalog Product  2013    05  31  \n",
       "37               Dept_Of_Chemistry  NonCatalog Product  2013    05  31  \n",
       "38               Dept_Of_Chemistry  NonCatalog Product  2013    05  31  \n",
       "39               Dept_Of_Chemistry  NonCatalog Product  2013    05  31  \n",
       "40               Dept_Of_Chemistry  NonCatalog Product  2013    05  31  \n",
       "41               Dept_Of_Chemistry  NonCatalog Product  2013    05  31  \n",
       "42               Dept_Of_Chemistry  NonCatalog Product  2013    05  31  \n",
       "43               Dept_Of_Chemistry  NonCatalog Product  2013    05  31  \n",
       "44               Dept_Of_Chemistry  NonCatalog Product  2013    05  31  \n",
       "45               Dept_Of_Chemistry  NonCatalog Product  2013    05  31  \n",
       "46               Dept_Of_Chemistry  NonCatalog Product  2013    05  31  \n",
       "47               Dept_Of_Chemistry  NonCatalog Product  2013    05  31  \n",
       "48               Dept_Of_Chemistry  NonCatalog Product  2013    05  31  \n",
       "49               Coll_of_Chem_Dean  NonCatalog Product  2013    05  31  "
      ]
     },
     "execution_count": 11,
     "metadata": {},
     "output_type": "execute_result"
    }
   ],
   "source": [
    "dataOrigSubset.head(50)"
   ]
  },
  {
   "cell_type": "code",
   "execution_count": 12,
   "metadata": {
    "collapsed": false
   },
   "outputs": [
    {
     "data": {
      "text/plain": [
       "611110"
      ]
     },
     "execution_count": 12,
     "metadata": {},
     "output_type": "execute_result"
    }
   ],
   "source": [
    "dataOrigSubset.year.describe()\n",
    "#data4['year']= data4['year'].astype(int)\n",
    "#data4['year'].isnull().sum()\n",
    "#data4[50000:100000]\n",
    "#len(data4)\n",
    "len(dataOrigSubset)"
   ]
  },
  {
   "cell_type": "code",
   "execution_count": 26,
   "metadata": {
    "collapsed": false
   },
   "outputs": [
    {
     "data": {
      "text/html": [
       "<div style=\"max-height:1000px;max-width:1500px;overflow:auto;\">\n",
       "<table border=\"1\" class=\"dataframe\">\n",
       "  <thead>\n",
       "    <tr style=\"text-align: right;\">\n",
       "      <th></th>\n",
       "      <th>supplier_name</th>\n",
       "      <th>department_name_update</th>\n",
       "      <th>item_type</th>\n",
       "      <th>year</th>\n",
       "      <th>month</th>\n",
       "      <th>day</th>\n",
       "    </tr>\n",
       "  </thead>\n",
       "  <tbody>\n",
       "    <tr>\n",
       "      <th>1</th>\n",
       "      <td>                GRAINGER_INC</td>\n",
       "      <td> Housing_&amp;_Dining_Services</td>\n",
       "      <td>   PunchOut Product</td>\n",
       "      <td> 2013</td>\n",
       "      <td> 05</td>\n",
       "      <td> 31</td>\n",
       "    </tr>\n",
       "    <tr>\n",
       "      <th>2</th>\n",
       "      <td>            BELLCO_GLASS_INC</td>\n",
       "      <td>         Dept_Of_Chemistry</td>\n",
       "      <td> NonCatalog Product</td>\n",
       "      <td> 2013</td>\n",
       "      <td> 05</td>\n",
       "      <td> 31</td>\n",
       "    </tr>\n",
       "    <tr>\n",
       "      <th>3</th>\n",
       "      <td> CHEMGLASS_LIFE_SCIENCES_LLC</td>\n",
       "      <td>         Dept_Of_Chemistry</td>\n",
       "      <td> NonCatalog Product</td>\n",
       "      <td> 2013</td>\n",
       "      <td> 05</td>\n",
       "      <td> 31</td>\n",
       "    </tr>\n",
       "    <tr>\n",
       "      <th>4</th>\n",
       "      <td>           FISHER_SCIENTIFIC</td>\n",
       "      <td>  Molecular_&amp;_Cell_Biology</td>\n",
       "      <td>  SQ Hosted Product</td>\n",
       "      <td> 2013</td>\n",
       "      <td> 05</td>\n",
       "      <td> 31</td>\n",
       "    </tr>\n",
       "    <tr>\n",
       "      <th>5</th>\n",
       "      <td>           FISHER_SCIENTIFIC</td>\n",
       "      <td>  Molecular_&amp;_Cell_Biology</td>\n",
       "      <td>  SQ Hosted Product</td>\n",
       "      <td> 2013</td>\n",
       "      <td> 05</td>\n",
       "      <td> 31</td>\n",
       "    </tr>\n",
       "  </tbody>\n",
       "</table>\n",
       "</div>"
      ],
      "text/plain": [
       "                 supplier_name     department_name_update           item_type  \\\n",
       "1                 GRAINGER_INC  Housing_&_Dining_Services    PunchOut Product   \n",
       "2             BELLCO_GLASS_INC          Dept_Of_Chemistry  NonCatalog Product   \n",
       "3  CHEMGLASS_LIFE_SCIENCES_LLC          Dept_Of_Chemistry  NonCatalog Product   \n",
       "4            FISHER_SCIENTIFIC   Molecular_&_Cell_Biology   SQ Hosted Product   \n",
       "5            FISHER_SCIENTIFIC   Molecular_&_Cell_Biology   SQ Hosted Product   \n",
       "\n",
       "   year month day  \n",
       "1  2013    05  31  \n",
       "2  2013    05  31  \n",
       "3  2013    05  31  \n",
       "4  2013    05  31  \n",
       "5  2013    05  31  "
      ]
     },
     "execution_count": 26,
     "metadata": {},
     "output_type": "execute_result"
    }
   ],
   "source": [
    "#subsetting by element in row, subset data for year only, drop all 2104\n",
    "#data = data[data['year'] == '2013']\n",
    "dataOrigSubset = dataOrigSubset[dataOrigSubset['year'] == '2013']\n",
    "dataOrigSubset = dataOrigSubset[dataOrigSubset.supplier_name != 'OFFICE_MAX']\n",
    "dataOrigSubset = dataOrigSubset[dataOrigSubset.supplier_name != 'GIVE_SOMETHING_BACK']\n",
    "dataOrigSubset = dataOrigSubset[dataOrigSubset.supplier_name != 'ALKO_OFFICE_SUPPLY']\n",
    "\n",
    "\n",
    "dataOrigSubset.head()"
   ]
  },
  {
   "cell_type": "code",
   "execution_count": 37,
   "metadata": {
    "collapsed": false
   },
   "outputs": [
    {
     "data": {
      "text/plain": [
       "supplier_name             171444\n",
       "department_name_update    171444\n",
       "item_type                 171444\n",
       "year                      171444\n",
       "month                     171444\n",
       "day                       171444\n",
       "dtype: int64"
      ]
     },
     "execution_count": 37,
     "metadata": {},
     "output_type": "execute_result"
    }
   ],
   "source": [
    "dataOrigSubset.notnull().sum()"
   ]
  },
  {
   "cell_type": "code",
   "execution_count": 48,
   "metadata": {
    "collapsed": false
   },
   "outputs": [
    {
     "data": {
      "text/plain": [
       "27"
      ]
     },
     "execution_count": 48,
     "metadata": {},
     "output_type": "execute_result"
    }
   ],
   "source": [
    "\"\"\"data13Feb = data[data['month'].isin(['02'])]\n",
    "#data13Feb = data13Feb.drop_duplicates()\n",
    "data13March = data[data['month'].isin(['03'])]\"\"\"\n",
    "\n"
   ]
  },
  {
   "cell_type": "code",
   "execution_count": 27,
   "metadata": {
    "collapsed": false
   },
   "outputs": [],
   "source": [
    "#PREPARE DATA FOR GRAPH\n",
    "dataToGraph = dataOrigSubset[dataOrigSubset['month'].isin(['02'])]\n",
    "dataToGraph = dataToGraph[dataToGraph['item_type'].isin(['NonCatalog Product'])]\n",
    "dataToGraph = dataToGraph[['supplier_name','department_name_update']]\n",
    "dataToGraph = dataToGraph.drop_duplicates()\n",
    "#GraphData(dataToGraph, month)\n",
    "dataToGraph.to_csv('/Users/dariushbozorgmehri/Documents/My Work/Berkeley Classes Spring 2015/BIDS/data/DATA_CUT_JAN13ALL.csv')"
   ]
  },
  {
   "cell_type": "code",
   "execution_count": 23,
   "metadata": {
    "collapsed": false
   },
   "outputs": [],
   "source": [
    "dataToGraph.to_csv('/Users/dariushbozorgmehri/Documents/My Work/Berkeley Classes Spring 2015/BIDS/data/DATA2013FEB_NONCAT.csv')\n"
   ]
  },
  {
   "cell_type": "code",
   "execution_count": 142,
   "metadata": {
    "collapsed": true
   },
   "outputs": [],
   "source": [
    "\"\"\"#CREATE GRAPH AND ADD NODES AND EDGES\n",
    "#def GraphData(dataToGraph, month):\n",
    "G = nx.Graph()\n",
    "G.add_nodes_from(dataToGraph['department_name_update'], bipartite = 0)\n",
    "G.add_nodes_from(dataToGraph['supplier_name'], bipartite = 1)\n",
    "edgeList = [tuple(x) for x in dataToGraph.values]\n",
    "G.add_edges_from(edgeList)\n",
    "\n",
    "nx.draw(G)\n",
    "plt.show()\"\"\""
   ]
  },
  {
   "cell_type": "code",
   "execution_count": 69,
   "metadata": {
    "collapsed": false
   },
   "outputs": [
    {
     "name": "stdout",
     "output_type": "stream",
     "text": [
      "clearing graph\n"
     ]
    },
    {
     "ename": "AttributeError",
     "evalue": "'NoneType' object has no attribute 'clear'",
     "output_type": "error",
     "traceback": [
      "\u001b[0;31m---------------------------------------------------------------------------\u001b[0m",
      "\u001b[0;31mAttributeError\u001b[0m                            Traceback (most recent call last)",
      "\u001b[0;32m<ipython-input-69-98c275afe9b7>\u001b[0m in \u001b[0;36m<module>\u001b[0;34m()\u001b[0m\n\u001b[1;32m      1\u001b[0m \u001b[0;31m#CLEAR THE GRAPH FOR REGRAPHING\u001b[0m\u001b[0;34m\u001b[0m\u001b[0;34m\u001b[0m\u001b[0m\n\u001b[1;32m      2\u001b[0m \u001b[0;32mprint\u001b[0m \u001b[0;34m\"clearing graph\"\u001b[0m\u001b[0;34m\u001b[0m\u001b[0m\n\u001b[0;32m----> 3\u001b[0;31m \u001b[0mG\u001b[0m \u001b[0;34m=\u001b[0m \u001b[0mG\u001b[0m\u001b[0;34m.\u001b[0m\u001b[0mclear\u001b[0m\u001b[0;34m(\u001b[0m\u001b[0;34m)\u001b[0m\u001b[0;34m\u001b[0m\u001b[0m\n\u001b[0m\u001b[1;32m      4\u001b[0m \u001b[0;31m#print \"number of nodes and edges:\"\u001b[0m\u001b[0;34m\u001b[0m\u001b[0;34m\u001b[0m\u001b[0m\n\u001b[1;32m      5\u001b[0m \u001b[0;31m#if G.nodes() == 0 and G.edges() == 0:\u001b[0m\u001b[0;34m\u001b[0m\u001b[0;34m\u001b[0m\u001b[0m\n",
      "\u001b[0;31mAttributeError\u001b[0m: 'NoneType' object has no attribute 'clear'"
     ]
    }
   ],
   "source": [
    "#CLEAR THE GRAPH FOR REGRAPHING\n",
    "print \"clearing graph\"\n",
    "G = G.clear()\n",
    "#print \"number of nodes and edges:\"\n",
    "#if G.nodes() == 0 and G.edges() == 0:\n",
    "    #print \"node and edges are clear\"\n",
    "nodelistDept = []\n",
    "nodelistSup = []\n",
    "edgeList = []\n",
    "print \"clearing nodelistDept\", nodelistDept, nodelistSup, edgeList"
   ]
  },
  {
   "cell_type": "code",
   "execution_count": 71,
   "metadata": {
    "collapsed": false
   },
   "outputs": [],
   "source": [
    "#CREATE GRAPH AND ADD NODES AND EDGES\n",
    "#def GraphData(dataToGraph, month):\n",
    "G=nx.Graph()\n",
    "#G = nx.Graph()\n",
    "G.add_nodes_from(dataToGraph['department_name_update'], bipartite = 0)\n",
    "G.add_nodes_from(dataToGraph['supplier_name'], bipartite = 1)\n",
    "edgeList = [tuple(x) for x in dataToGraph.values]\n",
    "G.add_edges_from(edgeList)\n",
    "\n",
    "\"\"\"nx.draw(G)\n",
    "plt.show()  \"\"\"\n",
    "\n",
    "#CREATE A GRAPH WITH NODES COLORED ACCORDING TO DEPARTMENT OR SUPPLIER, AND SIZED\n",
    "#WITH DEPT LARGER THAN SUPPLIER, CREATE NETWORK X NODELIST FROM DATAFRAME\n",
    "nodelistDept = dataToGraph['department_name_update'].tolist()\n",
    "nodelistSup = dataToGraph['supplier_name'].tolist()\n",
    "\n",
    "#nodes, node_color=(.2,.4,.6,.8) is in R,G,B, A color range, or for shade just use 0.1 ro 1\n",
    "#Also, b: blue, g: green, r: red, c: cyan, m: magenta, y: yellow, k: black, w: white\n",
    "#network layout\n",
    "pos=nx.networkx.spring_layout(G)\n",
    "#draw nodes\n",
    "nx.draw_networkx_nodes(G, pos, nodelist = nodelistDept, node_color = 'r', node_size = 50)\n",
    "nx.draw_networkx_nodes(G, pos, nodelist = nodelistSup, node_color= 'w', node_size=50)\n",
    "#draw edges\n",
    "nx.draw_networkx_edges(G,pos,width=0.5,alpha=0.5)\n",
    "nx.draw_networkx_edges(G,pos,edgelist=edgeList)\n",
    "\n",
    "\"\"\"#draw the labels\n",
    "labels = {k:k for k in nodelistDept}    \n",
    "plt.clf()\n",
    "nx.draw_networkx_labels(G,pos, labels)\"\"\"\n",
    "\n",
    "\n",
    "#nx.draw_networkx_labels(G,pos,font_size=12,font_family='sans-serif')\n",
    "#plt.show()\n",
    "#NEWpicName = 'data2013' + month \n",
    "plt.savefig('/Users/dariushbozorgmehri/Documents/My Work/Berkeley Classes Spring 2015/BIDS/data/temp_pics/NEWpicName.png')\n",
    "    \n",
    "\n"
   ]
  },
  {
   "cell_type": "code",
   "execution_count": 272,
   "metadata": {
    "collapsed": false
   },
   "outputs": [
    {
     "data": {
      "text/plain": [
       "(1719, 2251)"
      ]
     },
     "execution_count": 272,
     "metadata": {},
     "output_type": "execute_result"
    }
   ],
   "source": [
    "\n"
   ]
  },
  {
   "cell_type": "code",
   "execution_count": 79,
   "metadata": {
    "collapsed": false
   },
   "outputs": [],
   "source": []
  },
  {
   "cell_type": "code",
   "execution_count": 48,
   "metadata": {
    "collapsed": false
   },
   "outputs": [
    {
     "ename": "ZeroDivisionError",
     "evalue": "float divmod()",
     "output_type": "error",
     "traceback": [
      "\u001b[0;31m---------------------------------------------------------------------------\u001b[0m",
      "\u001b[0;31mZeroDivisionError\u001b[0m                         Traceback (most recent call last)",
      "\u001b[0;32m<ipython-input-48-034abe483c8a>\u001b[0m in \u001b[0;36m<module>\u001b[0;34m()\u001b[0m\n\u001b[0;32m----> 1\u001b[0;31m \u001b[0mcent\u001b[0m \u001b[0;34m=\u001b[0m \u001b[0mnx\u001b[0m\u001b[0;34m.\u001b[0m\u001b[0mbipartite\u001b[0m\u001b[0;34m.\u001b[0m\u001b[0mbetweenness_centrality\u001b[0m\u001b[0;34m(\u001b[0m\u001b[0mG\u001b[0m\u001b[0;34m,\u001b[0m \u001b[0mG\u001b[0m\u001b[0;34m.\u001b[0m\u001b[0mnodes\u001b[0m\u001b[0;34m(\u001b[0m\u001b[0;34m)\u001b[0m\u001b[0;34m)\u001b[0m\u001b[0;34m\u001b[0m\u001b[0m\n\u001b[0m\u001b[1;32m      2\u001b[0m \u001b[0mcentDf\u001b[0m \u001b[0;34m=\u001b[0m \u001b[0mpd\u001b[0m\u001b[0;34m.\u001b[0m\u001b[0mDataFrame\u001b[0m\u001b[0;34m(\u001b[0m\u001b[0mcent\u001b[0m\u001b[0;34m.\u001b[0m\u001b[0mitems\u001b[0m\u001b[0;34m(\u001b[0m\u001b[0;34m)\u001b[0m\u001b[0;34m,\u001b[0m \u001b[0mcolumns\u001b[0m\u001b[0;34m=\u001b[0m\u001b[0;34m[\u001b[0m\u001b[0;34m'actor'\u001b[0m\u001b[0;34m,\u001b[0m \u001b[0;34m'centrality'\u001b[0m\u001b[0;34m]\u001b[0m\u001b[0;34m)\u001b[0m\u001b[0;34m.\u001b[0m\u001b[0msort\u001b[0m\u001b[0;34m(\u001b[0m\u001b[0mcolumns\u001b[0m\u001b[0;34m=\u001b[0m\u001b[0;34m\"centrality\"\u001b[0m\u001b[0;34m,\u001b[0m \u001b[0mascending\u001b[0m\u001b[0;34m=\u001b[0m\u001b[0mFalse\u001b[0m\u001b[0;34m)\u001b[0m\u001b[0;34m\u001b[0m\u001b[0m\n",
      "\u001b[0;32m/Users/dariushbozorgmehri/anaconda/lib/python2.7/site-packages/networkx/algorithms/bipartite/centrality.pyc\u001b[0m in \u001b[0;36mbetweenness_centrality\u001b[0;34m(G, nodes)\u001b[0m\n\u001b[1;32m    151\u001b[0m     \u001b[0mn\u001b[0m \u001b[0;34m=\u001b[0m \u001b[0mfloat\u001b[0m\u001b[0;34m(\u001b[0m\u001b[0mlen\u001b[0m\u001b[0;34m(\u001b[0m\u001b[0mtop\u001b[0m\u001b[0;34m)\u001b[0m\u001b[0;34m)\u001b[0m\u001b[0;34m\u001b[0m\u001b[0m\n\u001b[1;32m    152\u001b[0m     \u001b[0mm\u001b[0m \u001b[0;34m=\u001b[0m \u001b[0mfloat\u001b[0m\u001b[0;34m(\u001b[0m\u001b[0mlen\u001b[0m\u001b[0;34m(\u001b[0m\u001b[0mbottom\u001b[0m\u001b[0;34m)\u001b[0m\u001b[0;34m)\u001b[0m\u001b[0;34m\u001b[0m\u001b[0m\n\u001b[0;32m--> 153\u001b[0;31m     \u001b[0ms\u001b[0m \u001b[0;34m=\u001b[0m \u001b[0;34m(\u001b[0m\u001b[0mn\u001b[0m\u001b[0;34m-\u001b[0m\u001b[0;36m1\u001b[0m\u001b[0;34m)\u001b[0m \u001b[0;34m//\u001b[0m \u001b[0mm\u001b[0m\u001b[0;34m\u001b[0m\u001b[0m\n\u001b[0m\u001b[1;32m    154\u001b[0m     \u001b[0mt\u001b[0m \u001b[0;34m=\u001b[0m \u001b[0;34m(\u001b[0m\u001b[0mn\u001b[0m\u001b[0;34m-\u001b[0m\u001b[0;36m1\u001b[0m\u001b[0;34m)\u001b[0m \u001b[0;34m%\u001b[0m \u001b[0mm\u001b[0m\u001b[0;34m\u001b[0m\u001b[0m\n\u001b[1;32m    155\u001b[0m     bet_max_top = (((m**2)*((s+1)**2))+\n",
      "\u001b[0;31mZeroDivisionError\u001b[0m: float divmod()"
     ]
    }
   ],
   "source": [
    "cent = nx.bipartite.betweenness_centrality(G, G.nodes())\n",
    "centDf = pd.DataFrame(cent.items(), columns=['actor', 'centrality']).sort(columns=\"centrality\", ascending=False)"
   ]
  },
  {
   "cell_type": "code",
   "execution_count": 61,
   "metadata": {
    "collapsed": false
   },
   "outputs": [],
   "source": [
    "bottom_nodes, top_nodes = bipartite.sets(G)"
   ]
  },
  {
   "cell_type": "code",
   "execution_count": 62,
   "metadata": {
    "collapsed": false
   },
   "outputs": [
    {
     "data": {
      "text/plain": [
       "(0.007556263084438242, 0.007556263084438242)"
      ]
     },
     "execution_count": 62,
     "metadata": {},
     "output_type": "execute_result"
    }
   ],
   "source": [
    "nx.bipartite.density(G, top_nodes), nx.bipartite.density(G, bottom_nodes)"
   ]
  },
  {
   "cell_type": "code",
   "execution_count": 63,
   "metadata": {
    "collapsed": false
   },
   "outputs": [
    {
     "data": {
      "text/plain": [
       "0.592544711369541"
      ]
     },
     "execution_count": 63,
     "metadata": {},
     "output_type": "execute_result"
    }
   ],
   "source": [
    "nx.bipartite.average_clustering(G)"
   ]
  },
  {
   "cell_type": "code",
   "execution_count": 64,
   "metadata": {
    "collapsed": false
   },
   "outputs": [],
   "source": [
    "#nx.bipartite.clustering(G) "
   ]
  },
  {
   "cell_type": "code",
   "execution_count": 53,
   "metadata": {
    "collapsed": false
   },
   "outputs": [],
   "source": [
    "#nx.bipartite.color(G)"
   ]
  },
  {
   "cell_type": "code",
   "execution_count": 65,
   "metadata": {
    "collapsed": true
   },
   "outputs": [],
   "source": [
    "GProjected = nx.bipartite.projected_graph(G, top_nodes)"
   ]
  },
  {
   "cell_type": "code",
   "execution_count": 66,
   "metadata": {
    "collapsed": false
   },
   "outputs": [
    {
     "ename": "KeyboardInterrupt",
     "evalue": "",
     "output_type": "error",
     "traceback": [
      "\u001b[0;31m---------------------------------------------------------------------------\u001b[0m",
      "\u001b[0;31mKeyboardInterrupt\u001b[0m                         Traceback (most recent call last)",
      "\u001b[0;32m/Users/dariushbozorgmehri/anaconda/lib/python2.7/site-packages/matplotlib/backend_bases.pyc\u001b[0m in \u001b[0;36menter_notify_event\u001b[0;34m(self, guiEvent, xy)\u001b[0m\n\u001b[1;32m   1931\u001b[0m         \u001b[0mself\u001b[0m\u001b[0;34m.\u001b[0m\u001b[0m_lastx\u001b[0m\u001b[0;34m,\u001b[0m \u001b[0mself\u001b[0m\u001b[0;34m.\u001b[0m\u001b[0m_lasty\u001b[0m \u001b[0;34m=\u001b[0m \u001b[0mNone\u001b[0m\u001b[0;34m,\u001b[0m \u001b[0mNone\u001b[0m\u001b[0;34m\u001b[0m\u001b[0m\n\u001b[1;32m   1932\u001b[0m \u001b[0;34m\u001b[0m\u001b[0m\n\u001b[0;32m-> 1933\u001b[0;31m     \u001b[0;32mdef\u001b[0m \u001b[0menter_notify_event\u001b[0m\u001b[0;34m(\u001b[0m\u001b[0mself\u001b[0m\u001b[0;34m,\u001b[0m \u001b[0mguiEvent\u001b[0m\u001b[0;34m=\u001b[0m\u001b[0mNone\u001b[0m\u001b[0;34m,\u001b[0m \u001b[0mxy\u001b[0m\u001b[0;34m=\u001b[0m\u001b[0mNone\u001b[0m\u001b[0;34m)\u001b[0m\u001b[0;34m:\u001b[0m\u001b[0;34m\u001b[0m\u001b[0m\n\u001b[0m\u001b[1;32m   1934\u001b[0m         \"\"\"\n\u001b[1;32m   1935\u001b[0m         \u001b[0mBackend\u001b[0m \u001b[0mderived\u001b[0m \u001b[0mclasses\u001b[0m \u001b[0mshould\u001b[0m \u001b[0mcall\u001b[0m \u001b[0mthis\u001b[0m \u001b[0mfunction\u001b[0m \u001b[0mwhen\u001b[0m \u001b[0mentering\u001b[0m\u001b[0;34m\u001b[0m\u001b[0m\n",
      "\u001b[0;31mKeyboardInterrupt\u001b[0m: "
     ]
    }
   ],
   "source": [
    "nx.draw(GProjected)\n",
    "plt.show()"
   ]
  },
  {
   "cell_type": "code",
   "execution_count": 67,
   "metadata": {
    "collapsed": false
   },
   "outputs": [
    {
     "data": {
      "text/plain": [
       "0.05082897033158813"
      ]
     },
     "execution_count": 67,
     "metadata": {},
     "output_type": "execute_result"
    }
   ],
   "source": [
    "nx.density(GProjected)"
   ]
  },
  {
   "cell_type": "code",
   "execution_count": null,
   "metadata": {
    "collapsed": true
   },
   "outputs": [],
   "source": []
  }
 ],
 "metadata": {
  "kernelspec": {
   "display_name": "Python 2",
   "language": "python",
   "name": "python2"
  },
  "language_info": {
   "codemirror_mode": {
    "name": "ipython",
    "version": 2
   },
   "file_extension": ".py",
   "mimetype": "text/x-python",
   "name": "python",
   "nbconvert_exporter": "python",
   "pygments_lexer": "ipython2",
   "version": "2.7.9"
  }
 },
 "nbformat": 4,
 "nbformat_minor": 0
}
