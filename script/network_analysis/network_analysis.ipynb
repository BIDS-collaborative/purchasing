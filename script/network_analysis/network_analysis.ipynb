{
 "cells": [
  {
   "cell_type": "code",
   "execution_count": 54,
   "metadata": {
    "collapsed": false
   },
   "outputs": [],
   "source": [
    "import os\n",
    "import networkx as nx\n",
    "import matplotlib.pyplot as plt\n",
    "import cython\n",
    "import numpy as np\n",
    "import pandas as pd\n",
    "import datetime\n",
    "import pylab"
   ]
  },
  {
   "cell_type": "code",
   "execution_count": 55,
   "metadata": {
    "collapsed": false
   },
   "outputs": [],
   "source": [
    "# load in merged data\n",
    "data_path = '../../../UCB_dept_merge_CorrectDeptLabels.csv'\n",
    "merged = pd.read_csv(data_path)"
   ]
  },
  {
   "cell_type": "code",
   "execution_count": 56,
   "metadata": {
    "collapsed": false
   },
   "outputs": [],
   "source": [
    "#clean up the department dataset\n",
    "def convert_strings_to_specials(s):\n",
    "    s = s.replace(' ', '_')\n",
    "    s = s.replace(':', '_')\n",
    "    s = s.replace('#', 'num')\n",
    "    s = s.lower()\n",
    "    return s\n",
    "merged.columns = [convert_strings_to_specials(col) for col in merged.columns]"
   ]
  },
  {
   "cell_type": "code",
   "execution_count": 57,
   "metadata": {
    "collapsed": false
   },
   "outputs": [],
   "source": [
    "#convert creation_date to datetime object\n",
    "merged['creation_date']=pd.to_datetime(pd.Series(merged['creation_date']))"
   ]
  },
  {
   "cell_type": "code",
   "execution_count": 58,
   "metadata": {
    "collapsed": false
   },
   "outputs": [],
   "source": [
    "month = [date.month for date in merged['creation_date']]\n",
    "year = [date.year for date in merged['creation_date']]\n",
    "day = [date.day for date in merged['creation_date']]\n",
    "merged['month'] = month\n",
    "merged['year'] = year\n",
    "merged['day'] = day"
   ]
  },
  {
   "cell_type": "code",
   "execution_count": 59,
   "metadata": {
    "collapsed": true
   },
   "outputs": [],
   "source": [
    "#iterator for getting month,year\n",
    "def month_year_iter( start_month, start_year, end_month, end_year ):\n",
    "    ym_start= 12*start_year + start_month - 1\n",
    "    ym_end= 12*end_year + end_month - 1\n",
    "    for ym in range( ym_start, ym_end ):\n",
    "        y, m = divmod( ym, 12 )\n",
    "        yield y, m+1"
   ]
  },
  {
   "cell_type": "code",
   "execution_count": 10,
   "metadata": {
    "collapsed": false
   },
   "outputs": [],
   "source": [
    "def remove_zeroes(dictionary):\n",
    "    for key,value in dictionary.items():\n",
    "        if value == 0.0:\n",
    "            del dictionary[key]\n",
    "    return dictionary"
   ]
  },
  {
   "cell_type": "code",
   "execution_count": 62,
   "metadata": {
    "collapsed": false
   },
   "outputs": [],
   "source": [
    "#function to create a series of bipartite graphs across two sets of nodes(two columns) subsetted by month\n",
    "#inputs are the data frame, set 1 and set 2 represent the names of the columns of interest, time_column represents\n",
    "#the name of the time column in the dataset. year_column and month_columns are created because I did not know how\n",
    "#to be able to specify a month year combination any other way\n",
    "#returns a list of calculations(density, centrality, etc.) subseted by month in a list\n",
    "#where each item in the list is in the following form: ([calculations],month,year)\n",
    "def testCentralityGraph(data, set1, set2, time_column, month_column=None, year_column=None):\n",
    "    results = []\n",
    "    # higher order function that does the calculations by month\n",
    "    def calculate(set1, set2, current):\n",
    "        G = nx.Graph()\n",
    "        G.add_nodes_from(current[set1],bipartite = 0)\n",
    "        G.add_nodes_from(current[set2],bipartite = 1)\n",
    "        edgeList = [tuple(x) for x in current.values]\n",
    "        G.add_edges_from(edgeList)\n",
    "        bottom_nodes, top_nodes = nx.bipartite.sets(G)\n",
    "        #projecting both set1 onto set2 and vice versa to see if they give different results\n",
    "        projected_bottom = nx.bipartite.projected_graph(G, bottom_nodes, multigraph = True)\n",
    "        projected_top = nx.bipartite.projected_graph(G, top_nodes, multigraph = True)\n",
    "        #bipartite density\n",
    "        density = nx.bipartite.density(G, top_nodes)\n",
    "        #rest of the calculations made for both projected graphs\n",
    "        top_degree = nx.degree_centrality(projected_top)\n",
    "        bot_degree = nx.degree_centrality(projected_bottom)\n",
    "        top_between = nx.betweenness_centrality(projected_top)\n",
    "        bot_between = nx.betweenness_centrality(projected_bottom)\n",
    "        top_projected_density = nx.density(projected_top)\n",
    "        bot_projected_density = nx.density(projected_bottom)\n",
    "        \n",
    "        return (G,density,bot_degree,top_degree,top_between,bot_between,\n",
    "                top_projected_density,bot_projected_density)\n",
    "            \n",
    "    firstDate = min(data[time_column])\n",
    "    lastDate = max(data[time_column])\n",
    "    iter = month_year_iter(firstDate.month, firstDate.year, lastDate.month, lastDate.year)\n",
    "    for year,month in iter:\n",
    "        current = data[data[month_column] == month]\n",
    "        current = current[current[year_column] == year]\n",
    "        current = current[[set1,set2]]\n",
    "        current.dropna()\n",
    "        temp = calculate(set1,set2,current)\n",
    "        results +=[(temp,month,year)]\n",
    "\n",
    "    return results"
   ]
  },
  {
   "cell_type": "code",
   "execution_count": 63,
   "metadata": {
    "collapsed": false
   },
   "outputs": [],
   "source": [
    "#calculate the results of the data\n",
    "masterlist = testCentralityGraph(merged,'department_name_update', 'supplier_name','creation_date','month','year')"
   ]
  },
  {
   "cell_type": "code",
   "execution_count": 100,
   "metadata": {
    "collapsed": false
   },
   "outputs": [],
   "source": [
    "#saving graphs for each month to image file\n",
    "for item in masterlist:\n",
    "    G = item[0][0]\n",
    "    edgeList = G.edges()\n",
    "    nodelistDept, nodelistSup = nx.bipartite.sets(G)\n",
    "    nodelistDept = list(nodelistDept)\n",
    "    nodelistSup = list(nodelistSup)\n",
    "    pos=nx.networkx.spring_layout(G)\n",
    "    nx.draw_networkx_nodes(G, pos, nodelist = nodelistDept, node_color = 'w', node_size = 50)\n",
    "    nx.draw_networkx_nodes(G, pos, nodelist = nodelistSup, node_color= 'r', node_size=50)\n",
    "    nx.draw_networkx_edges(G,pos,width=0.5,alpha=0.5)\n",
    "    nx.draw_networkx_edges(G,pos,edgelist=edgeList)\n",
    "    name = str(item[1]) + ', ' + str(item[2])\n",
    "    plt.savefig(name)\n",
    "    plt.clf()\n",
    "    plt.cla()\n",
    "    plt.close()"
   ]
  },
  {
   "cell_type": "code",
   "execution_count": 49,
   "metadata": {
    "collapsed": true
   },
   "outputs": [],
   "source": [
    "import json"
   ]
  },
  {
   "cell_type": "code",
   "execution_count": 65,
   "metadata": {
    "collapsed": false
   },
   "outputs": [],
   "source": [
    "#saving results from masterlist to csv files for further analysis\n",
    "for item in masterlist:\n",
    "    sup_degree_centrality = pd.DataFrame(data=item[0][2].items(), columns = ['supplier', 'degree_centrality'])\n",
    "    dept_degree_centrality = pd.DataFrame(data = item[0][3].items(),columns = ['department','degree_centrality'])\n",
    "    dept_between_centrality = pd.DataFrame(data = item[0][4].items(),columns = ['department','betweenness_centrality'])\n",
    "    sup_betweeen_centrality = pd.DataFrame(data = item[0][5].items(), columns = ['supplier','betweenness_centrality'])\n",
    "    name = str(item[1]) + '_' + str(item[2])\n",
    "    sdc = name + '_' +'supplier_degree_centrality.csv'\n",
    "    ddc = name + '_' + 'dept_degree_centrality.csv'\n",
    "    dbc = name + '_' + 'dept_between_centrality.csv'\n",
    "    sbc = name + '_' + 'sup_between_centrality.csv'\n",
    "    sup_degree_centrality.to_csv(sdc)\n",
    "    dept_degree_centrality.to_csv(ddc)\n",
    "    dept_between_centrality.to_csv(dbc)\n",
    "    sup_betweeen_centrality.to_csv(sbc)\n",
    "    dense = {'density' : item[0][1], 'department_projected_density' : item[0][6], 'supplier_projected_density' : item[0][7]}\n",
    "    density = name+'_' + 'density_calculations.json'\n",
    "    with open(density, 'wb') as fp:\n",
    "        json.dump(dense, fp)\n",
    "    \n",
    "    "
   ]
  },
  {
   "cell_type": "code",
   "execution_count": 83,
   "metadata": {
    "collapsed": false
   },
   "outputs": [],
   "source": [
    "purchase_type = set(merged['item_type'])\n",
    "purchase_type = list(purchase_type)"
   ]
  },
  {
   "cell_type": "code",
   "execution_count": 85,
   "metadata": {
    "collapsed": false
   },
   "outputs": [
    {
     "data": {
      "text/plain": [
       "'NonCatalog Product'"
      ]
     },
     "execution_count": 85,
     "metadata": {},
     "output_type": "execute_result"
    }
   ],
   "source": [
    "purchase_type[1]"
   ]
  },
  {
   "cell_type": "code",
   "execution_count": 94,
   "metadata": {
    "collapsed": false
   },
   "outputs": [],
   "source": [
    "def testEdgeGraph(data, set1, set2,subset_set, time_column, month_column=None, year_column=None):\n",
    "    density = {}\n",
    "    # higher order function that does the calculations by month\n",
    "    def calculate(set1, set2, current):\n",
    "        G = nx.Graph()\n",
    "        G.add_nodes_from(current[set1],bipartite = 0)\n",
    "        G.add_nodes_from(current[set2],bipartite = 1)\n",
    "        edgeList = [tuple(x) for x in current.values]\n",
    "        G.add_edges_from(edgeList)\n",
    "        bottom_nodes, top_nodes = nx.bipartite.sets(G)\n",
    "        #projecting both set1 onto set2 and vice versa to see if they give different results\n",
    "        projected_bottom = nx.bipartite.projected_graph(G, bottom_nodes, multigraph = True)\n",
    "        projected_top = nx.bipartite.projected_graph(G, top_nodes, multigraph = True)\n",
    "        #bipartite density\n",
    "        density = nx.bipartite.density(G, top_nodes)\n",
    "        #rest of the calculations made for both projected graphs\n",
    "        \"\"\"\n",
    "        top_degree = nx.degree_centrality(projected_top)\n",
    "        bot_degree = nx.degree_centrality(projected_bottom)\n",
    "        top_between = nx.betweenness_centrality(projected_top)\n",
    "        bot_between = nx.betweenness_centrality(projected_bottom)\n",
    "        top_projected_density = nx.density(projected_top)\n",
    "        bot_projected_density = nx.density(projected_bottom)\n",
    "        \"\"\"\n",
    "        return (G,density)\n",
    "            \n",
    "    year = 2013\n",
    "    subset = list(set(data[subset_set]))\n",
    "    for month in range(1,13):\n",
    "        current = data[data[month_column] == month]\n",
    "        current = current[current[year_column] == year]\n",
    "        for item in subset:\n",
    "            current = current[current[subset_set] == item]\n",
    "            current = current[[set1,set2]]\n",
    "            current.dropna()\n",
    "            temp = calculate(set1,set2,current)\n",
    "            G = temp[0]\n",
    "            edgeList = G.edges()\n",
    "            nodelistDept, nodelistSup = nx.bipartite.sets(G)\n",
    "            nodelistDept = list(nodelistDept)\n",
    "            nodelistSup = list(nodelistSup)\n",
    "            pos=nx.networkx.spring_layout(G)\n",
    "            nx.draw_networkx_nodes(G, pos, nodelist = nodelistDept, node_color = 'r', node_size = 50)\n",
    "            nx.draw_networkx_nodes(G, pos, nodelist = nodelistSup, node_color= 'w', node_size=50)\n",
    "            nx.draw_networkx_edges(G,pos,width=0.5,alpha=0.5)\n",
    "            nx.draw_networkx_edges(G,pos,edgelist=edgeList)\n",
    "            name = item + '_'+ str(item[1]) + '_' + str(item[2])\n",
    "            plt.savefig(name)\n",
    "            plt.clf()\n",
    "            plt.cla()\n",
    "            plt.close()\n",
    "            density[name] = temp[1]\n",
    "    return density"
   ]
  },
  {
   "cell_type": "code",
   "execution_count": 98,
   "metadata": {
    "collapsed": false
   },
   "outputs": [],
   "source": [
    "def calculate(set1, set2, current):\n",
    "    G = nx.Graph()\n",
    "    G.add_nodes_from(current[set1],bipartite = 0)\n",
    "    G.add_nodes_from(current[set2],bipartite = 1)\n",
    "    edgeList = [tuple(x) for x in current.values]\n",
    "    G.add_edges_from(edgeList)\n",
    "    bottom_nodes, top_nodes = nx.bipartite.sets(G)\n",
    "    density = nx.bipartite.density(G, top_nodes)\n",
    "    return (G,density)\n",
    "    #projecting both set1 onto set2 and vice versa to see if they give different results\n",
    "    #projected_bottom = nx.bipartite.projected_graph(G, bottom_nodes, multigraph = True)\n",
    "    #projected_top = nx.bipartite.projected_graph(G, top_nodes, multigraph = True)\n",
    "    #bipartite density\n",
    "    #rest of the calculations made for both projected graphs\n",
    "    \"\"\"\n",
    "        top_degree = nx.degree_centrality(projected_top)\n",
    "        bot_degree = nx.degree_centrality(projected_bottom)\n",
    "        top_between = nx.betweenness_centrality(projected_top)\n",
    "        bot_between = nx.betweenness_centrality(projected_bottom)\n",
    "        top_projected_density = nx.density(projected_top)\n",
    "        bot_projected_density = nx.density(projected_bottom)\n",
    "    \"\"\"\n",
    "\n",
    "    "
   ]
  },
  {
   "cell_type": "code",
   "execution_count": 99,
   "metadata": {
    "collapsed": false
   },
   "outputs": [
    {
     "ename": "KeyError",
     "evalue": "'item_type'",
     "output_type": "error",
     "traceback": [
      "\u001b[1;31m---------------------------------------------------------------------------\u001b[0m",
      "\u001b[1;31mKeyError\u001b[0m                                  Traceback (most recent call last)",
      "\u001b[1;32m<ipython-input-99-6bc6cf7e358a>\u001b[0m in \u001b[0;36m<module>\u001b[1;34m()\u001b[0m\n\u001b[0;32m      7\u001b[0m     \u001b[0mcurrent\u001b[0m \u001b[1;33m=\u001b[0m \u001b[0mdata2013\u001b[0m\u001b[1;33m[\u001b[0m\u001b[0mdata2013\u001b[0m\u001b[1;33m[\u001b[0m\u001b[1;34m'month'\u001b[0m\u001b[1;33m]\u001b[0m \u001b[1;33m==\u001b[0m \u001b[0mmonth\u001b[0m\u001b[1;33m]\u001b[0m\u001b[1;33m\u001b[0m\u001b[0m\n\u001b[0;32m      8\u001b[0m     \u001b[1;32mfor\u001b[0m \u001b[0mitem\u001b[0m \u001b[1;32min\u001b[0m \u001b[0mpurchase_type\u001b[0m\u001b[1;33m:\u001b[0m\u001b[1;33m\u001b[0m\u001b[0m\n\u001b[1;32m----> 9\u001b[1;33m         \u001b[0mcurrent\u001b[0m \u001b[1;33m=\u001b[0m \u001b[0mcurrent\u001b[0m\u001b[1;33m[\u001b[0m\u001b[0mcurrent\u001b[0m\u001b[1;33m[\u001b[0m\u001b[1;34m'item_type'\u001b[0m\u001b[1;33m]\u001b[0m \u001b[1;33m==\u001b[0m \u001b[0mitem\u001b[0m\u001b[1;33m]\u001b[0m\u001b[1;33m\u001b[0m\u001b[0m\n\u001b[0m\u001b[0;32m     10\u001b[0m         \u001b[0mcurrent\u001b[0m \u001b[1;33m=\u001b[0m \u001b[0mcurrent\u001b[0m\u001b[1;33m[\u001b[0m\u001b[1;33m[\u001b[0m\u001b[0mset1\u001b[0m\u001b[1;33m,\u001b[0m\u001b[0mset2\u001b[0m\u001b[1;33m]\u001b[0m\u001b[1;33m]\u001b[0m\u001b[1;33m\u001b[0m\u001b[0m\n\u001b[0;32m     11\u001b[0m         \u001b[0mcurrent\u001b[0m\u001b[1;33m.\u001b[0m\u001b[0mdropna\u001b[0m\u001b[1;33m(\u001b[0m\u001b[1;33m)\u001b[0m\u001b[1;33m\u001b[0m\u001b[0m\n",
      "\u001b[1;32mc:\\Anaconda\\lib\\site-packages\\pandas\\core\\frame.pyc\u001b[0m in \u001b[0;36m__getitem__\u001b[1;34m(self, key)\u001b[0m\n\u001b[0;32m   1778\u001b[0m             \u001b[1;32mreturn\u001b[0m \u001b[0mself\u001b[0m\u001b[1;33m.\u001b[0m\u001b[0m_getitem_multilevel\u001b[0m\u001b[1;33m(\u001b[0m\u001b[0mkey\u001b[0m\u001b[1;33m)\u001b[0m\u001b[1;33m\u001b[0m\u001b[0m\n\u001b[0;32m   1779\u001b[0m         \u001b[1;32melse\u001b[0m\u001b[1;33m:\u001b[0m\u001b[1;33m\u001b[0m\u001b[0m\n\u001b[1;32m-> 1780\u001b[1;33m             \u001b[1;32mreturn\u001b[0m \u001b[0mself\u001b[0m\u001b[1;33m.\u001b[0m\u001b[0m_getitem_column\u001b[0m\u001b[1;33m(\u001b[0m\u001b[0mkey\u001b[0m\u001b[1;33m)\u001b[0m\u001b[1;33m\u001b[0m\u001b[0m\n\u001b[0m\u001b[0;32m   1781\u001b[0m \u001b[1;33m\u001b[0m\u001b[0m\n\u001b[0;32m   1782\u001b[0m     \u001b[1;32mdef\u001b[0m \u001b[0m_getitem_column\u001b[0m\u001b[1;33m(\u001b[0m\u001b[0mself\u001b[0m\u001b[1;33m,\u001b[0m \u001b[0mkey\u001b[0m\u001b[1;33m)\u001b[0m\u001b[1;33m:\u001b[0m\u001b[1;33m\u001b[0m\u001b[0m\n",
      "\u001b[1;32mc:\\Anaconda\\lib\\site-packages\\pandas\\core\\frame.pyc\u001b[0m in \u001b[0;36m_getitem_column\u001b[1;34m(self, key)\u001b[0m\n\u001b[0;32m   1785\u001b[0m         \u001b[1;31m# get column\u001b[0m\u001b[1;33m\u001b[0m\u001b[1;33m\u001b[0m\u001b[0m\n\u001b[0;32m   1786\u001b[0m         \u001b[1;32mif\u001b[0m \u001b[0mself\u001b[0m\u001b[1;33m.\u001b[0m\u001b[0mcolumns\u001b[0m\u001b[1;33m.\u001b[0m\u001b[0mis_unique\u001b[0m\u001b[1;33m:\u001b[0m\u001b[1;33m\u001b[0m\u001b[0m\n\u001b[1;32m-> 1787\u001b[1;33m             \u001b[1;32mreturn\u001b[0m \u001b[0mself\u001b[0m\u001b[1;33m.\u001b[0m\u001b[0m_get_item_cache\u001b[0m\u001b[1;33m(\u001b[0m\u001b[0mkey\u001b[0m\u001b[1;33m)\u001b[0m\u001b[1;33m\u001b[0m\u001b[0m\n\u001b[0m\u001b[0;32m   1788\u001b[0m \u001b[1;33m\u001b[0m\u001b[0m\n\u001b[0;32m   1789\u001b[0m         \u001b[1;31m# duplicate columns & possible reduce dimensionaility\u001b[0m\u001b[1;33m\u001b[0m\u001b[1;33m\u001b[0m\u001b[0m\n",
      "\u001b[1;32mc:\\Anaconda\\lib\\site-packages\\pandas\\core\\generic.pyc\u001b[0m in \u001b[0;36m_get_item_cache\u001b[1;34m(self, item)\u001b[0m\n\u001b[0;32m   1066\u001b[0m         \u001b[0mres\u001b[0m \u001b[1;33m=\u001b[0m \u001b[0mcache\u001b[0m\u001b[1;33m.\u001b[0m\u001b[0mget\u001b[0m\u001b[1;33m(\u001b[0m\u001b[0mitem\u001b[0m\u001b[1;33m)\u001b[0m\u001b[1;33m\u001b[0m\u001b[0m\n\u001b[0;32m   1067\u001b[0m         \u001b[1;32mif\u001b[0m \u001b[0mres\u001b[0m \u001b[1;32mis\u001b[0m \u001b[0mNone\u001b[0m\u001b[1;33m:\u001b[0m\u001b[1;33m\u001b[0m\u001b[0m\n\u001b[1;32m-> 1068\u001b[1;33m             \u001b[0mvalues\u001b[0m \u001b[1;33m=\u001b[0m \u001b[0mself\u001b[0m\u001b[1;33m.\u001b[0m\u001b[0m_data\u001b[0m\u001b[1;33m.\u001b[0m\u001b[0mget\u001b[0m\u001b[1;33m(\u001b[0m\u001b[0mitem\u001b[0m\u001b[1;33m)\u001b[0m\u001b[1;33m\u001b[0m\u001b[0m\n\u001b[0m\u001b[0;32m   1069\u001b[0m             \u001b[0mres\u001b[0m \u001b[1;33m=\u001b[0m \u001b[0mself\u001b[0m\u001b[1;33m.\u001b[0m\u001b[0m_box_item_values\u001b[0m\u001b[1;33m(\u001b[0m\u001b[0mitem\u001b[0m\u001b[1;33m,\u001b[0m \u001b[0mvalues\u001b[0m\u001b[1;33m)\u001b[0m\u001b[1;33m\u001b[0m\u001b[0m\n\u001b[0;32m   1070\u001b[0m             \u001b[0mcache\u001b[0m\u001b[1;33m[\u001b[0m\u001b[0mitem\u001b[0m\u001b[1;33m]\u001b[0m \u001b[1;33m=\u001b[0m \u001b[0mres\u001b[0m\u001b[1;33m\u001b[0m\u001b[0m\n",
      "\u001b[1;32mc:\\Anaconda\\lib\\site-packages\\pandas\\core\\internals.pyc\u001b[0m in \u001b[0;36mget\u001b[1;34m(self, item, fastpath)\u001b[0m\n\u001b[0;32m   2847\u001b[0m \u001b[1;33m\u001b[0m\u001b[0m\n\u001b[0;32m   2848\u001b[0m             \u001b[1;32mif\u001b[0m \u001b[1;32mnot\u001b[0m \u001b[0misnull\u001b[0m\u001b[1;33m(\u001b[0m\u001b[0mitem\u001b[0m\u001b[1;33m)\u001b[0m\u001b[1;33m:\u001b[0m\u001b[1;33m\u001b[0m\u001b[0m\n\u001b[1;32m-> 2849\u001b[1;33m                 \u001b[0mloc\u001b[0m \u001b[1;33m=\u001b[0m \u001b[0mself\u001b[0m\u001b[1;33m.\u001b[0m\u001b[0mitems\u001b[0m\u001b[1;33m.\u001b[0m\u001b[0mget_loc\u001b[0m\u001b[1;33m(\u001b[0m\u001b[0mitem\u001b[0m\u001b[1;33m)\u001b[0m\u001b[1;33m\u001b[0m\u001b[0m\n\u001b[0m\u001b[0;32m   2850\u001b[0m             \u001b[1;32melse\u001b[0m\u001b[1;33m:\u001b[0m\u001b[1;33m\u001b[0m\u001b[0m\n\u001b[0;32m   2851\u001b[0m                 \u001b[0mindexer\u001b[0m \u001b[1;33m=\u001b[0m \u001b[0mnp\u001b[0m\u001b[1;33m.\u001b[0m\u001b[0marange\u001b[0m\u001b[1;33m(\u001b[0m\u001b[0mlen\u001b[0m\u001b[1;33m(\u001b[0m\u001b[0mself\u001b[0m\u001b[1;33m.\u001b[0m\u001b[0mitems\u001b[0m\u001b[1;33m)\u001b[0m\u001b[1;33m)\u001b[0m\u001b[1;33m[\u001b[0m\u001b[0misnull\u001b[0m\u001b[1;33m(\u001b[0m\u001b[0mself\u001b[0m\u001b[1;33m.\u001b[0m\u001b[0mitems\u001b[0m\u001b[1;33m)\u001b[0m\u001b[1;33m]\u001b[0m\u001b[1;33m\u001b[0m\u001b[0m\n",
      "\u001b[1;32mc:\\Anaconda\\lib\\site-packages\\pandas\\core\\index.pyc\u001b[0m in \u001b[0;36mget_loc\u001b[1;34m(self, key)\u001b[0m\n\u001b[0;32m   1400\u001b[0m         \u001b[0mloc\u001b[0m \u001b[1;33m:\u001b[0m \u001b[0mint\u001b[0m \u001b[1;32mif\u001b[0m \u001b[0munique\u001b[0m \u001b[0mindex\u001b[0m\u001b[1;33m,\u001b[0m \u001b[0mpossibly\u001b[0m \u001b[0mslice\u001b[0m \u001b[1;32mor\u001b[0m \u001b[0mmask\u001b[0m \u001b[1;32mif\u001b[0m \u001b[1;32mnot\u001b[0m\u001b[1;33m\u001b[0m\u001b[0m\n\u001b[0;32m   1401\u001b[0m         \"\"\"\n\u001b[1;32m-> 1402\u001b[1;33m         \u001b[1;32mreturn\u001b[0m \u001b[0mself\u001b[0m\u001b[1;33m.\u001b[0m\u001b[0m_engine\u001b[0m\u001b[1;33m.\u001b[0m\u001b[0mget_loc\u001b[0m\u001b[1;33m(\u001b[0m\u001b[0m_values_from_object\u001b[0m\u001b[1;33m(\u001b[0m\u001b[0mkey\u001b[0m\u001b[1;33m)\u001b[0m\u001b[1;33m)\u001b[0m\u001b[1;33m\u001b[0m\u001b[0m\n\u001b[0m\u001b[0;32m   1403\u001b[0m \u001b[1;33m\u001b[0m\u001b[0m\n\u001b[0;32m   1404\u001b[0m     \u001b[1;32mdef\u001b[0m \u001b[0mget_value\u001b[0m\u001b[1;33m(\u001b[0m\u001b[0mself\u001b[0m\u001b[1;33m,\u001b[0m \u001b[0mseries\u001b[0m\u001b[1;33m,\u001b[0m \u001b[0mkey\u001b[0m\u001b[1;33m)\u001b[0m\u001b[1;33m:\u001b[0m\u001b[1;33m\u001b[0m\u001b[0m\n",
      "\u001b[1;32mpandas\\index.pyx\u001b[0m in \u001b[0;36mpandas.index.IndexEngine.get_loc (pandas\\index.c:3807)\u001b[1;34m()\u001b[0m\n",
      "\u001b[1;32mpandas\\index.pyx\u001b[0m in \u001b[0;36mpandas.index.IndexEngine.get_loc (pandas\\index.c:3687)\u001b[1;34m()\u001b[0m\n",
      "\u001b[1;32mpandas\\hashtable.pyx\u001b[0m in \u001b[0;36mpandas.hashtable.PyObjectHashTable.get_item (pandas\\hashtable.c:12310)\u001b[1;34m()\u001b[0m\n",
      "\u001b[1;32mpandas\\hashtable.pyx\u001b[0m in \u001b[0;36mpandas.hashtable.PyObjectHashTable.get_item (pandas\\hashtable.c:12261)\u001b[1;34m()\u001b[0m\n",
      "\u001b[1;31mKeyError\u001b[0m: 'item_type'"
     ]
    }
   ],
   "source": [
    "density = {}\n",
    "\n",
    "purchase_type = set(merged['item_type'])\n",
    "purchase_type = list(purchase_type)\n",
    "set1,set2= 'department_name_update', 'supplier_name'\n",
    "data2013 = merged[merged['year'] == 2013]\n",
    "for month in range(1,13):\n",
    "    current = data2013[data2013['month'] == month]\n",
    "    for item in purchase_type:\n",
    "        current = current[current['item_type'] == item]\n",
    "        current = current[[set1,set2]]\n",
    "        current.dropna()\n",
    "        temp = calculate(set1,set2,current)\n",
    "        G = temp[0]\n",
    "        edgeList = G.edges()\n",
    "        nodelistDept, nodelistSup = nx.bipartite.sets(G)\n",
    "        nodelistDept = list(nodelistDept)\n",
    "        nodelistSup = list(nodelistSup)\n",
    "        pos=nx.networkx.spring_layout(G)\n",
    "        nx.draw_networkx_nodes(G, pos, nodelist = nodelistDept, node_color = 'r', node_size = 50)\n",
    "        nx.draw_networkx_nodes(G, pos, nodelist = nodelistSup, node_color= 'w', node_size=50)\n",
    "        nx.draw_networkx_edges(G,pos,width=0.5,alpha=0.5)\n",
    "        nx.draw_networkx_edges(G,pos,edgelist=edgeList)\n",
    "        name = item + '_'+ str(month) + '_' + str(2013)\n",
    "        plt.savefig(name)\n",
    "        plt.clf()\n",
    "        plt.cla()\n",
    "        plt.close()\n",
    "        density[name] = temp[1]\n",
    "\n",
    "        "
   ]
  },
  {
   "cell_type": "code",
   "execution_count": null,
   "metadata": {
    "collapsed": true
   },
   "outputs": [],
   "source": []
  }
 ],
 "metadata": {
  "kernelspec": {
   "display_name": "Python 2",
   "language": "python",
   "name": "python2"
  },
  "language_info": {
   "codemirror_mode": {
    "name": "ipython",
    "version": 2
   },
   "file_extension": ".py",
   "mimetype": "text/x-python",
   "name": "python",
   "nbconvert_exporter": "python",
   "pygments_lexer": "ipython2",
   "version": "2.7.8"
  }
 },
 "nbformat": 4,
 "nbformat_minor": 0
}
